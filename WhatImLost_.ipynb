{
 "cells": [
  {
   "cell_type": "code",
   "execution_count": 2,
   "metadata": {},
   "outputs": [
    {
     "data": {
      "text/html": [
       "        <script type=\"text/javascript\">\n",
       "        window.PlotlyConfig = {MathJaxConfig: 'local'};\n",
       "        if (window.MathJax) {MathJax.Hub.Config({SVG: {font: \"STIX-Web\"}});}\n",
       "        if (typeof require !== 'undefined') {\n",
       "        require.undef(\"plotly\");\n",
       "        requirejs.config({\n",
       "            paths: {\n",
       "                'plotly': ['https://cdn.plot.ly/plotly-latest.min']\n",
       "            }\n",
       "        });\n",
       "        require(['plotly'], function(Plotly) {\n",
       "            window._Plotly = Plotly;\n",
       "        });\n",
       "        }\n",
       "        </script>\n",
       "        "
      ]
     },
     "metadata": {},
     "output_type": "display_data"
    },
    {
     "data": {
      "text/html": [
       "        <script type=\"text/javascript\">\n",
       "        window.PlotlyConfig = {MathJaxConfig: 'local'};\n",
       "        if (window.MathJax) {MathJax.Hub.Config({SVG: {font: \"STIX-Web\"}});}\n",
       "        if (typeof require !== 'undefined') {\n",
       "        require.undef(\"plotly\");\n",
       "        requirejs.config({\n",
       "            paths: {\n",
       "                'plotly': ['https://cdn.plot.ly/plotly-latest.min']\n",
       "            }\n",
       "        });\n",
       "        require(['plotly'], function(Plotly) {\n",
       "            window._Plotly = Plotly;\n",
       "        });\n",
       "        }\n",
       "        </script>\n",
       "        "
      ]
     },
     "metadata": {},
     "output_type": "display_data"
    }
   ],
   "source": [
    "import pandas as pd\n",
    "import numpy as np\n",
    "import chart_studio.plotly as py\n",
    "import cufflinks as cf\n",
    "import seaborn as sns\n",
    "import plotly.express as px\n",
    "import plotly.graph_objects as go\n",
    "import matplotlib.pyplot as plt \n",
    "%matplotlib inline\n",
    "\n",
    "# Make Plotly work in your Jupyter Notebook\n",
    "from plotly.offline import download_plotlyjs, init_notebook_mode, plot, iplot\n",
    "init_notebook_mode(connected=True)\n",
    "# Use Plotly locally\n",
    "cf.go_offline()"
   ]
  },
  {
   "cell_type": "code",
   "execution_count": 21,
   "metadata": {},
   "outputs": [],
   "source": [
    "def Line_mit_standardab(df,x,y,xLabel,yLabel,title): \n",
    "    fig = go.Figure(data=go.Scatter(\n",
    "        x=x,\n",
    "        y=y,\n",
    "        error_y=dict(\n",
    "            type='data',\n",
    "            array=(df.max(axis=1)- df.mean(axis=1)),# iteration über rows (0 iteriert über columns)\n",
    "            color='purple',\n",
    "            visible=True),\n",
    "        ))\n",
    "    fig.update_layout(title=title)\n",
    "    fig.update_xaxes(tickangle=45, title_text=xLabel)\n",
    "    fig.update_yaxes(title_text=yLabel)\n",
    "    fig.show()\n",
    "\n",
    "def boxplot(df, variable, labels, show_y_label, width = None, medianprops=None):\n",
    "    plt.boxplot(df[variable],labels=labels, widths=width, medianprops=medianprops)\n",
    "    axes = plt.gca()\n",
    "    #axes.set_ylim([-1,25])\n",
    "    if (show_y_label):\n",
    "            plt.ylabel(variable)\n",
    "\n",
    "def barplot(df, xachse, yachse, color=None, text = None,labeldict=None):     \n",
    "    fig = px.bar(df, x=xachse, y=yachse, color=color,text=text, height=700,labels=labeldict)\n",
    "    fig.update_traces(marker_line_color='black')\n",
    "    fig.update_xaxes(tickangle=45,tickfont=dict(color='black', size=13)) \n",
    "    fig.show()\n",
    "\n",
    "def bar_mit_facet(df, xachse, yachse, reihe,color=None, text = None):\n",
    "    fig = px.bar(df, x=xachse, y=yachse, color=color,text=text,height=700, \n",
    "             labels=dict(Preis = \"Preis [€]\",Anzahl_Tomaten='Anzahl'),facet_row=(reihe) )\n",
    "    fig.update_xaxes(tickangle=45,tickfont=dict(color='black', size=13)) \n",
    "    fig.show()\n",
    "    \n",
    "def bar_mit_std(list_x_values, list_y_values, list_std,tick_label=None, y_label=None, x_label=None):\n",
    "    errorbars=np.array([np.zeros(len(list_std)), list_std])\n",
    "    plt.bar(x=list_x_values, height=list_y_values,width=0.3,color='lightgray',\n",
    "             edgecolor='black',tick_label=tick_label,yerr=errorbars,capsize=4)\n",
    "    plt.ylabel(y_label)\n",
    "    plt.xlabel(x_label)    "
   ]
  },
  {
   "cell_type": "code",
   "execution_count": 4,
   "metadata": {},
   "outputs": [
    {
     "data": {
      "text/html": [
       "<div>\n",
       "<style scoped>\n",
       "    .dataframe tbody tr th:only-of-type {\n",
       "        vertical-align: middle;\n",
       "    }\n",
       "\n",
       "    .dataframe tbody tr th {\n",
       "        vertical-align: top;\n",
       "    }\n",
       "\n",
       "    .dataframe thead th {\n",
       "        text-align: right;\n",
       "    }\n",
       "</style>\n",
       "<table border=\"1\" class=\"dataframe\">\n",
       "  <thead>\n",
       "    <tr style=\"text-align: right;\">\n",
       "      <th></th>\n",
       "      <th>school</th>\n",
       "      <th>sex</th>\n",
       "      <th>age</th>\n",
       "      <th>address</th>\n",
       "      <th>famsize</th>\n",
       "      <th>Pstatus</th>\n",
       "      <th>Medu</th>\n",
       "      <th>Fedu</th>\n",
       "      <th>Mjob</th>\n",
       "      <th>Fjob</th>\n",
       "      <th>reason</th>\n",
       "      <th>guardian</th>\n",
       "      <th>traveltime</th>\n",
       "      <th>studytime</th>\n",
       "      <th>failures</th>\n",
       "      <th>schoolsup</th>\n",
       "      <th>famsup</th>\n",
       "      <th>paid</th>\n",
       "      <th>activities</th>\n",
       "      <th>nursery</th>\n",
       "      <th>higher</th>\n",
       "      <th>internet</th>\n",
       "      <th>romantic</th>\n",
       "      <th>famrel</th>\n",
       "      <th>freetime</th>\n",
       "      <th>goout</th>\n",
       "      <th>Dalc</th>\n",
       "      <th>Walc</th>\n",
       "      <th>health</th>\n",
       "      <th>absences</th>\n",
       "      <th>G1</th>\n",
       "      <th>G2</th>\n",
       "      <th>G3</th>\n",
       "    </tr>\n",
       "  </thead>\n",
       "  <tbody>\n",
       "    <tr>\n",
       "      <th>0</th>\n",
       "      <td>GP</td>\n",
       "      <td>F</td>\n",
       "      <td>18</td>\n",
       "      <td>U</td>\n",
       "      <td>GT3</td>\n",
       "      <td>A</td>\n",
       "      <td>4</td>\n",
       "      <td>4</td>\n",
       "      <td>at_home</td>\n",
       "      <td>teacher</td>\n",
       "      <td>course</td>\n",
       "      <td>mother</td>\n",
       "      <td>2</td>\n",
       "      <td>2</td>\n",
       "      <td>0</td>\n",
       "      <td>yes</td>\n",
       "      <td>no</td>\n",
       "      <td>no</td>\n",
       "      <td>no</td>\n",
       "      <td>yes</td>\n",
       "      <td>yes</td>\n",
       "      <td>no</td>\n",
       "      <td>no</td>\n",
       "      <td>4</td>\n",
       "      <td>3</td>\n",
       "      <td>4</td>\n",
       "      <td>1</td>\n",
       "      <td>1</td>\n",
       "      <td>3</td>\n",
       "      <td>6</td>\n",
       "      <td>5</td>\n",
       "      <td>6</td>\n",
       "      <td>6</td>\n",
       "    </tr>\n",
       "    <tr>\n",
       "      <th>1</th>\n",
       "      <td>GP</td>\n",
       "      <td>F</td>\n",
       "      <td>17</td>\n",
       "      <td>U</td>\n",
       "      <td>GT3</td>\n",
       "      <td>T</td>\n",
       "      <td>1</td>\n",
       "      <td>1</td>\n",
       "      <td>at_home</td>\n",
       "      <td>other</td>\n",
       "      <td>course</td>\n",
       "      <td>father</td>\n",
       "      <td>1</td>\n",
       "      <td>2</td>\n",
       "      <td>0</td>\n",
       "      <td>no</td>\n",
       "      <td>yes</td>\n",
       "      <td>no</td>\n",
       "      <td>no</td>\n",
       "      <td>no</td>\n",
       "      <td>yes</td>\n",
       "      <td>yes</td>\n",
       "      <td>no</td>\n",
       "      <td>5</td>\n",
       "      <td>3</td>\n",
       "      <td>3</td>\n",
       "      <td>1</td>\n",
       "      <td>1</td>\n",
       "      <td>3</td>\n",
       "      <td>4</td>\n",
       "      <td>5</td>\n",
       "      <td>5</td>\n",
       "      <td>6</td>\n",
       "    </tr>\n",
       "    <tr>\n",
       "      <th>2</th>\n",
       "      <td>GP</td>\n",
       "      <td>F</td>\n",
       "      <td>15</td>\n",
       "      <td>U</td>\n",
       "      <td>LE3</td>\n",
       "      <td>T</td>\n",
       "      <td>1</td>\n",
       "      <td>1</td>\n",
       "      <td>at_home</td>\n",
       "      <td>other</td>\n",
       "      <td>other</td>\n",
       "      <td>mother</td>\n",
       "      <td>1</td>\n",
       "      <td>2</td>\n",
       "      <td>3</td>\n",
       "      <td>yes</td>\n",
       "      <td>no</td>\n",
       "      <td>yes</td>\n",
       "      <td>no</td>\n",
       "      <td>yes</td>\n",
       "      <td>yes</td>\n",
       "      <td>yes</td>\n",
       "      <td>no</td>\n",
       "      <td>4</td>\n",
       "      <td>3</td>\n",
       "      <td>2</td>\n",
       "      <td>2</td>\n",
       "      <td>3</td>\n",
       "      <td>3</td>\n",
       "      <td>10</td>\n",
       "      <td>7</td>\n",
       "      <td>8</td>\n",
       "      <td>10</td>\n",
       "    </tr>\n",
       "    <tr>\n",
       "      <th>3</th>\n",
       "      <td>GP</td>\n",
       "      <td>F</td>\n",
       "      <td>15</td>\n",
       "      <td>U</td>\n",
       "      <td>GT3</td>\n",
       "      <td>T</td>\n",
       "      <td>4</td>\n",
       "      <td>2</td>\n",
       "      <td>health</td>\n",
       "      <td>services</td>\n",
       "      <td>home</td>\n",
       "      <td>mother</td>\n",
       "      <td>1</td>\n",
       "      <td>3</td>\n",
       "      <td>0</td>\n",
       "      <td>no</td>\n",
       "      <td>yes</td>\n",
       "      <td>yes</td>\n",
       "      <td>yes</td>\n",
       "      <td>yes</td>\n",
       "      <td>yes</td>\n",
       "      <td>yes</td>\n",
       "      <td>yes</td>\n",
       "      <td>3</td>\n",
       "      <td>2</td>\n",
       "      <td>2</td>\n",
       "      <td>1</td>\n",
       "      <td>1</td>\n",
       "      <td>5</td>\n",
       "      <td>2</td>\n",
       "      <td>15</td>\n",
       "      <td>14</td>\n",
       "      <td>15</td>\n",
       "    </tr>\n",
       "    <tr>\n",
       "      <th>4</th>\n",
       "      <td>GP</td>\n",
       "      <td>F</td>\n",
       "      <td>16</td>\n",
       "      <td>U</td>\n",
       "      <td>GT3</td>\n",
       "      <td>T</td>\n",
       "      <td>3</td>\n",
       "      <td>3</td>\n",
       "      <td>other</td>\n",
       "      <td>other</td>\n",
       "      <td>home</td>\n",
       "      <td>father</td>\n",
       "      <td>1</td>\n",
       "      <td>2</td>\n",
       "      <td>0</td>\n",
       "      <td>no</td>\n",
       "      <td>yes</td>\n",
       "      <td>yes</td>\n",
       "      <td>no</td>\n",
       "      <td>yes</td>\n",
       "      <td>yes</td>\n",
       "      <td>no</td>\n",
       "      <td>no</td>\n",
       "      <td>4</td>\n",
       "      <td>3</td>\n",
       "      <td>2</td>\n",
       "      <td>1</td>\n",
       "      <td>2</td>\n",
       "      <td>5</td>\n",
       "      <td>4</td>\n",
       "      <td>6</td>\n",
       "      <td>10</td>\n",
       "      <td>10</td>\n",
       "    </tr>\n",
       "    <tr>\n",
       "      <th>...</th>\n",
       "      <td>...</td>\n",
       "      <td>...</td>\n",
       "      <td>...</td>\n",
       "      <td>...</td>\n",
       "      <td>...</td>\n",
       "      <td>...</td>\n",
       "      <td>...</td>\n",
       "      <td>...</td>\n",
       "      <td>...</td>\n",
       "      <td>...</td>\n",
       "      <td>...</td>\n",
       "      <td>...</td>\n",
       "      <td>...</td>\n",
       "      <td>...</td>\n",
       "      <td>...</td>\n",
       "      <td>...</td>\n",
       "      <td>...</td>\n",
       "      <td>...</td>\n",
       "      <td>...</td>\n",
       "      <td>...</td>\n",
       "      <td>...</td>\n",
       "      <td>...</td>\n",
       "      <td>...</td>\n",
       "      <td>...</td>\n",
       "      <td>...</td>\n",
       "      <td>...</td>\n",
       "      <td>...</td>\n",
       "      <td>...</td>\n",
       "      <td>...</td>\n",
       "      <td>...</td>\n",
       "      <td>...</td>\n",
       "      <td>...</td>\n",
       "      <td>...</td>\n",
       "    </tr>\n",
       "    <tr>\n",
       "      <th>390</th>\n",
       "      <td>MS</td>\n",
       "      <td>M</td>\n",
       "      <td>20</td>\n",
       "      <td>U</td>\n",
       "      <td>LE3</td>\n",
       "      <td>A</td>\n",
       "      <td>2</td>\n",
       "      <td>2</td>\n",
       "      <td>services</td>\n",
       "      <td>services</td>\n",
       "      <td>course</td>\n",
       "      <td>other</td>\n",
       "      <td>1</td>\n",
       "      <td>2</td>\n",
       "      <td>2</td>\n",
       "      <td>no</td>\n",
       "      <td>yes</td>\n",
       "      <td>yes</td>\n",
       "      <td>no</td>\n",
       "      <td>yes</td>\n",
       "      <td>yes</td>\n",
       "      <td>no</td>\n",
       "      <td>no</td>\n",
       "      <td>5</td>\n",
       "      <td>5</td>\n",
       "      <td>4</td>\n",
       "      <td>4</td>\n",
       "      <td>5</td>\n",
       "      <td>4</td>\n",
       "      <td>11</td>\n",
       "      <td>9</td>\n",
       "      <td>9</td>\n",
       "      <td>9</td>\n",
       "    </tr>\n",
       "    <tr>\n",
       "      <th>391</th>\n",
       "      <td>MS</td>\n",
       "      <td>M</td>\n",
       "      <td>17</td>\n",
       "      <td>U</td>\n",
       "      <td>LE3</td>\n",
       "      <td>T</td>\n",
       "      <td>3</td>\n",
       "      <td>1</td>\n",
       "      <td>services</td>\n",
       "      <td>services</td>\n",
       "      <td>course</td>\n",
       "      <td>mother</td>\n",
       "      <td>2</td>\n",
       "      <td>1</td>\n",
       "      <td>0</td>\n",
       "      <td>no</td>\n",
       "      <td>no</td>\n",
       "      <td>no</td>\n",
       "      <td>no</td>\n",
       "      <td>no</td>\n",
       "      <td>yes</td>\n",
       "      <td>yes</td>\n",
       "      <td>no</td>\n",
       "      <td>2</td>\n",
       "      <td>4</td>\n",
       "      <td>5</td>\n",
       "      <td>3</td>\n",
       "      <td>4</td>\n",
       "      <td>2</td>\n",
       "      <td>3</td>\n",
       "      <td>14</td>\n",
       "      <td>16</td>\n",
       "      <td>16</td>\n",
       "    </tr>\n",
       "    <tr>\n",
       "      <th>392</th>\n",
       "      <td>MS</td>\n",
       "      <td>M</td>\n",
       "      <td>21</td>\n",
       "      <td>R</td>\n",
       "      <td>GT3</td>\n",
       "      <td>T</td>\n",
       "      <td>1</td>\n",
       "      <td>1</td>\n",
       "      <td>other</td>\n",
       "      <td>other</td>\n",
       "      <td>course</td>\n",
       "      <td>other</td>\n",
       "      <td>1</td>\n",
       "      <td>1</td>\n",
       "      <td>3</td>\n",
       "      <td>no</td>\n",
       "      <td>no</td>\n",
       "      <td>no</td>\n",
       "      <td>no</td>\n",
       "      <td>no</td>\n",
       "      <td>yes</td>\n",
       "      <td>no</td>\n",
       "      <td>no</td>\n",
       "      <td>5</td>\n",
       "      <td>5</td>\n",
       "      <td>3</td>\n",
       "      <td>3</td>\n",
       "      <td>3</td>\n",
       "      <td>3</td>\n",
       "      <td>3</td>\n",
       "      <td>10</td>\n",
       "      <td>8</td>\n",
       "      <td>7</td>\n",
       "    </tr>\n",
       "    <tr>\n",
       "      <th>393</th>\n",
       "      <td>MS</td>\n",
       "      <td>M</td>\n",
       "      <td>18</td>\n",
       "      <td>R</td>\n",
       "      <td>LE3</td>\n",
       "      <td>T</td>\n",
       "      <td>3</td>\n",
       "      <td>2</td>\n",
       "      <td>services</td>\n",
       "      <td>other</td>\n",
       "      <td>course</td>\n",
       "      <td>mother</td>\n",
       "      <td>3</td>\n",
       "      <td>1</td>\n",
       "      <td>0</td>\n",
       "      <td>no</td>\n",
       "      <td>no</td>\n",
       "      <td>no</td>\n",
       "      <td>no</td>\n",
       "      <td>no</td>\n",
       "      <td>yes</td>\n",
       "      <td>yes</td>\n",
       "      <td>no</td>\n",
       "      <td>4</td>\n",
       "      <td>4</td>\n",
       "      <td>1</td>\n",
       "      <td>3</td>\n",
       "      <td>4</td>\n",
       "      <td>5</td>\n",
       "      <td>0</td>\n",
       "      <td>11</td>\n",
       "      <td>12</td>\n",
       "      <td>10</td>\n",
       "    </tr>\n",
       "    <tr>\n",
       "      <th>394</th>\n",
       "      <td>MS</td>\n",
       "      <td>M</td>\n",
       "      <td>19</td>\n",
       "      <td>U</td>\n",
       "      <td>LE3</td>\n",
       "      <td>T</td>\n",
       "      <td>1</td>\n",
       "      <td>1</td>\n",
       "      <td>other</td>\n",
       "      <td>at_home</td>\n",
       "      <td>course</td>\n",
       "      <td>father</td>\n",
       "      <td>1</td>\n",
       "      <td>1</td>\n",
       "      <td>0</td>\n",
       "      <td>no</td>\n",
       "      <td>no</td>\n",
       "      <td>no</td>\n",
       "      <td>no</td>\n",
       "      <td>yes</td>\n",
       "      <td>yes</td>\n",
       "      <td>yes</td>\n",
       "      <td>no</td>\n",
       "      <td>3</td>\n",
       "      <td>2</td>\n",
       "      <td>3</td>\n",
       "      <td>3</td>\n",
       "      <td>3</td>\n",
       "      <td>5</td>\n",
       "      <td>5</td>\n",
       "      <td>8</td>\n",
       "      <td>9</td>\n",
       "      <td>9</td>\n",
       "    </tr>\n",
       "  </tbody>\n",
       "</table>\n",
       "<p>395 rows × 33 columns</p>\n",
       "</div>"
      ],
      "text/plain": [
       "    school sex  age address famsize Pstatus  Medu  Fedu      Mjob      Fjob  \\\n",
       "0       GP   F   18       U     GT3       A     4     4   at_home   teacher   \n",
       "1       GP   F   17       U     GT3       T     1     1   at_home     other   \n",
       "2       GP   F   15       U     LE3       T     1     1   at_home     other   \n",
       "3       GP   F   15       U     GT3       T     4     2    health  services   \n",
       "4       GP   F   16       U     GT3       T     3     3     other     other   \n",
       "..     ...  ..  ...     ...     ...     ...   ...   ...       ...       ...   \n",
       "390     MS   M   20       U     LE3       A     2     2  services  services   \n",
       "391     MS   M   17       U     LE3       T     3     1  services  services   \n",
       "392     MS   M   21       R     GT3       T     1     1     other     other   \n",
       "393     MS   M   18       R     LE3       T     3     2  services     other   \n",
       "394     MS   M   19       U     LE3       T     1     1     other   at_home   \n",
       "\n",
       "     reason guardian  traveltime  studytime  failures schoolsup famsup paid  \\\n",
       "0    course   mother           2          2         0       yes     no   no   \n",
       "1    course   father           1          2         0        no    yes   no   \n",
       "2     other   mother           1          2         3       yes     no  yes   \n",
       "3      home   mother           1          3         0        no    yes  yes   \n",
       "4      home   father           1          2         0        no    yes  yes   \n",
       "..      ...      ...         ...        ...       ...       ...    ...  ...   \n",
       "390  course    other           1          2         2        no    yes  yes   \n",
       "391  course   mother           2          1         0        no     no   no   \n",
       "392  course    other           1          1         3        no     no   no   \n",
       "393  course   mother           3          1         0        no     no   no   \n",
       "394  course   father           1          1         0        no     no   no   \n",
       "\n",
       "    activities nursery higher internet romantic  famrel  freetime  goout  \\\n",
       "0           no     yes    yes       no       no       4         3      4   \n",
       "1           no      no    yes      yes       no       5         3      3   \n",
       "2           no     yes    yes      yes       no       4         3      2   \n",
       "3          yes     yes    yes      yes      yes       3         2      2   \n",
       "4           no     yes    yes       no       no       4         3      2   \n",
       "..         ...     ...    ...      ...      ...     ...       ...    ...   \n",
       "390         no     yes    yes       no       no       5         5      4   \n",
       "391         no      no    yes      yes       no       2         4      5   \n",
       "392         no      no    yes       no       no       5         5      3   \n",
       "393         no      no    yes      yes       no       4         4      1   \n",
       "394         no     yes    yes      yes       no       3         2      3   \n",
       "\n",
       "     Dalc  Walc  health  absences  G1  G2  G3  \n",
       "0       1     1       3         6   5   6   6  \n",
       "1       1     1       3         4   5   5   6  \n",
       "2       2     3       3        10   7   8  10  \n",
       "3       1     1       5         2  15  14  15  \n",
       "4       1     2       5         4   6  10  10  \n",
       "..    ...   ...     ...       ...  ..  ..  ..  \n",
       "390     4     5       4        11   9   9   9  \n",
       "391     3     4       2         3  14  16  16  \n",
       "392     3     3       3         3  10   8   7  \n",
       "393     3     4       5         0  11  12  10  \n",
       "394     3     3       5         5   8   9   9  \n",
       "\n",
       "[395 rows x 33 columns]"
      ]
     },
     "execution_count": 4,
     "metadata": {},
     "output_type": "execute_result"
    }
   ],
   "source": [
    "pd.set_option('display.max_columns', 500)\n",
    "daten = pd.read_csv('student-mat.csv',sep=';')\n",
    "daten"
   ]
  },
  {
   "cell_type": "code",
   "execution_count": 5,
   "metadata": {},
   "outputs": [
    {
     "data": {
      "text/plain": [
       "Index(['school', 'sex', 'age', 'address', 'famsize', 'Pstatus', 'Medu', 'Fedu',\n",
       "       'Mjob', 'Fjob', 'reason', 'guardian', 'traveltime', 'studytime',\n",
       "       'failures', 'schoolsup', 'famsup', 'paid', 'activities', 'nursery',\n",
       "       'higher', 'internet', 'romantic', 'famrel', 'freetime', 'goout', 'Dalc',\n",
       "       'Walc', 'health', 'absences', 'G1', 'G2', 'G3'],\n",
       "      dtype='object')"
      ]
     },
     "execution_count": 5,
     "metadata": {},
     "output_type": "execute_result"
    }
   ],
   "source": [
    "daten.columns"
   ]
  },
  {
   "cell_type": "code",
   "execution_count": 6,
   "metadata": {},
   "outputs": [
    {
     "data": {
      "text/plain": [
       "school        object\n",
       "sex           object\n",
       "age            int64\n",
       "address       object\n",
       "famsize       object\n",
       "Pstatus       object\n",
       "Medu           int64\n",
       "Fedu           int64\n",
       "Mjob          object\n",
       "Fjob          object\n",
       "reason        object\n",
       "guardian      object\n",
       "traveltime     int64\n",
       "studytime      int64\n",
       "failures       int64\n",
       "schoolsup     object\n",
       "famsup        object\n",
       "paid          object\n",
       "activities    object\n",
       "nursery       object\n",
       "higher        object\n",
       "internet      object\n",
       "romantic      object\n",
       "famrel         int64\n",
       "freetime       int64\n",
       "goout          int64\n",
       "Dalc           int64\n",
       "Walc           int64\n",
       "health         int64\n",
       "absences       int64\n",
       "G1             int64\n",
       "G2             int64\n",
       "G3             int64\n",
       "dtype: object"
      ]
     },
     "execution_count": 6,
     "metadata": {},
     "output_type": "execute_result"
    }
   ],
   "source": [
    "daten.dtypes"
   ]
  },
  {
   "cell_type": "code",
   "execution_count": 7,
   "metadata": {},
   "outputs": [
    {
     "data": {
      "text/plain": [
       "[Text(0.5, 0, 'age'),\n",
       " Text(1.5, 0, 'Medu'),\n",
       " Text(2.5, 0, 'Fedu'),\n",
       " Text(3.5, 0, 'traveltime'),\n",
       " Text(4.5, 0, 'studytime'),\n",
       " Text(5.5, 0, 'failures'),\n",
       " Text(6.5, 0, 'famrel'),\n",
       " Text(7.5, 0, 'freetime'),\n",
       " Text(8.5, 0, 'goout'),\n",
       " Text(9.5, 0, 'Dalc'),\n",
       " Text(10.5, 0, 'Walc'),\n",
       " Text(11.5, 0, 'health'),\n",
       " Text(12.5, 0, 'absences'),\n",
       " Text(13.5, 0, 'G1'),\n",
       " Text(14.5, 0, 'G2'),\n",
       " Text(15.5, 0, 'G3')]"
      ]
     },
     "execution_count": 7,
     "metadata": {},
     "output_type": "execute_result"
    },
    {
     "data": {
      "image/png": "[encoded data removed]",
      "text/plain": [
       "<Figure size 842.4x595.44 with 2 Axes>"
      ]
     },
     "metadata": {
      "needs_background": "light"
     },
     "output_type": "display_data"
    }
   ],
   "source": [
    "#import mylib\n",
    "\n",
    "a4_dims = (11.7, 8.27)\n",
    "#df = mylib.load_data()\n",
    "fig, ax = plt.subplots(figsize=a4_dims)\n",
    "corr = daten.corr()\n",
    "ax = sns.heatmap(corr,ax=ax,  \n",
    "                 vmin=-1, vmax=1, center=0,\n",
    "                 cmap=sns.diverging_palette(20, 220, n=200),\n",
    "                 square=True\n",
    ")\n",
    "ax.set_xticklabels(\n",
    "    ax.get_xticklabels(),\n",
    "    rotation=45,\n",
    "    horizontalalignment='right'\n",
    ")"
   ]
  },
  {
   "cell_type": "code",
   "execution_count": 8,
   "metadata": {},
   "outputs": [],
   "source": [
    "daten['sexBinary'] = np.where(daten.sex=='F',0,1)"
   ]
  },
  {
   "cell_type": "code",
   "execution_count": 9,
   "metadata": {},
   "outputs": [],
   "source": [
    "daten['addressBinary'] = np.where(daten.address=='U',1,0)"
   ]
  },
  {
   "cell_type": "code",
   "execution_count": 10,
   "metadata": {},
   "outputs": [],
   "source": [
    "daten['famsizeBinary'] = np.where(daten.famsize=='GT3',1,0)\n",
    "daten['PstatusBinary'] = np.where(daten.Pstatus=='T',1,0)\n",
    "daten['schoolsupBinary'] = np.where(daten.schoolsup=='yes',1,0)\n",
    "daten['famsupBinary'] = np.where(daten.famsup=='yes',1,0)\n",
    "daten['paidBinary'] = np.where(daten.paid=='yes',1,0)\n",
    "daten['activitesBinary'] = np.where(daten.activities=='yes',1,0)\n",
    "daten['nurseryBinary'] = np.where(daten.nursery=='yes',1,0)\n",
    "daten['higherBinary'] = np.where(daten.higher=='yes',1,0)\n",
    "daten['internetBinary'] = np.where(daten.internet=='yes',1,0)\n",
    "daten['romaticBinary'] = np.where(daten.romantic=='yes',1,0)"
   ]
  },
  {
   "cell_type": "code",
   "execution_count": 11,
   "metadata": {},
   "outputs": [
    {
     "data": {
      "text/html": [
       "<div>\n",
       "<style scoped>\n",
       "    .dataframe tbody tr th:only-of-type {\n",
       "        vertical-align: middle;\n",
       "    }\n",
       "\n",
       "    .dataframe tbody tr th {\n",
       "        vertical-align: top;\n",
       "    }\n",
       "\n",
       "    .dataframe thead th {\n",
       "        text-align: right;\n",
       "    }\n",
       "</style>\n",
       "<table border=\"1\" class=\"dataframe\">\n",
       "  <thead>\n",
       "    <tr style=\"text-align: right;\">\n",
       "      <th></th>\n",
       "      <th>school</th>\n",
       "      <th>sex</th>\n",
       "      <th>age</th>\n",
       "      <th>address</th>\n",
       "      <th>famsize</th>\n",
       "      <th>Pstatus</th>\n",
       "      <th>Medu</th>\n",
       "      <th>Fedu</th>\n",
       "      <th>Mjob</th>\n",
       "      <th>Fjob</th>\n",
       "      <th>reason</th>\n",
       "      <th>guardian</th>\n",
       "      <th>traveltime</th>\n",
       "      <th>studytime</th>\n",
       "      <th>failures</th>\n",
       "      <th>schoolsup</th>\n",
       "      <th>famsup</th>\n",
       "      <th>paid</th>\n",
       "      <th>activities</th>\n",
       "      <th>nursery</th>\n",
       "      <th>higher</th>\n",
       "      <th>internet</th>\n",
       "      <th>romantic</th>\n",
       "      <th>famrel</th>\n",
       "      <th>freetime</th>\n",
       "      <th>goout</th>\n",
       "      <th>Dalc</th>\n",
       "      <th>Walc</th>\n",
       "      <th>health</th>\n",
       "      <th>absences</th>\n",
       "      <th>G1</th>\n",
       "      <th>G2</th>\n",
       "      <th>G3</th>\n",
       "      <th>sexBinary</th>\n",
       "      <th>addressBinary</th>\n",
       "      <th>famsizeBinary</th>\n",
       "      <th>PstatusBinary</th>\n",
       "      <th>schoolsupBinary</th>\n",
       "      <th>famsupBinary</th>\n",
       "      <th>paidBinary</th>\n",
       "      <th>activitesBinary</th>\n",
       "      <th>nurseryBinary</th>\n",
       "      <th>higherBinary</th>\n",
       "      <th>internetBinary</th>\n",
       "      <th>romaticBinary</th>\n",
       "    </tr>\n",
       "  </thead>\n",
       "  <tbody>\n",
       "    <tr>\n",
       "      <th>0</th>\n",
       "      <td>GP</td>\n",
       "      <td>F</td>\n",
       "      <td>18</td>\n",
       "      <td>U</td>\n",
       "      <td>GT3</td>\n",
       "      <td>A</td>\n",
       "      <td>4</td>\n",
       "      <td>4</td>\n",
       "      <td>at_home</td>\n",
       "      <td>teacher</td>\n",
       "      <td>course</td>\n",
       "      <td>mother</td>\n",
       "      <td>2</td>\n",
       "      <td>2</td>\n",
       "      <td>0</td>\n",
       "      <td>yes</td>\n",
       "      <td>no</td>\n",
       "      <td>no</td>\n",
       "      <td>no</td>\n",
       "      <td>yes</td>\n",
       "      <td>yes</td>\n",
       "      <td>no</td>\n",
       "      <td>no</td>\n",
       "      <td>4</td>\n",
       "      <td>3</td>\n",
       "      <td>4</td>\n",
       "      <td>1</td>\n",
       "      <td>1</td>\n",
       "      <td>3</td>\n",
       "      <td>6</td>\n",
       "      <td>5</td>\n",
       "      <td>6</td>\n",
       "      <td>6</td>\n",
       "      <td>0</td>\n",
       "      <td>1</td>\n",
       "      <td>1</td>\n",
       "      <td>0</td>\n",
       "      <td>1</td>\n",
       "      <td>0</td>\n",
       "      <td>0</td>\n",
       "      <td>0</td>\n",
       "      <td>1</td>\n",
       "      <td>1</td>\n",
       "      <td>0</td>\n",
       "      <td>0</td>\n",
       "    </tr>\n",
       "    <tr>\n",
       "      <th>1</th>\n",
       "      <td>GP</td>\n",
       "      <td>F</td>\n",
       "      <td>17</td>\n",
       "      <td>U</td>\n",
       "      <td>GT3</td>\n",
       "      <td>T</td>\n",
       "      <td>1</td>\n",
       "      <td>1</td>\n",
       "      <td>at_home</td>\n",
       "      <td>other</td>\n",
       "      <td>course</td>\n",
       "      <td>father</td>\n",
       "      <td>1</td>\n",
       "      <td>2</td>\n",
       "      <td>0</td>\n",
       "      <td>no</td>\n",
       "      <td>yes</td>\n",
       "      <td>no</td>\n",
       "      <td>no</td>\n",
       "      <td>no</td>\n",
       "      <td>yes</td>\n",
       "      <td>yes</td>\n",
       "      <td>no</td>\n",
       "      <td>5</td>\n",
       "      <td>3</td>\n",
       "      <td>3</td>\n",
       "      <td>1</td>\n",
       "      <td>1</td>\n",
       "      <td>3</td>\n",
       "      <td>4</td>\n",
       "      <td>5</td>\n",
       "      <td>5</td>\n",
       "      <td>6</td>\n",
       "      <td>0</td>\n",
       "      <td>1</td>\n",
       "      <td>1</td>\n",
       "      <td>1</td>\n",
       "      <td>0</td>\n",
       "      <td>1</td>\n",
       "      <td>0</td>\n",
       "      <td>0</td>\n",
       "      <td>0</td>\n",
       "      <td>1</td>\n",
       "      <td>1</td>\n",
       "      <td>0</td>\n",
       "    </tr>\n",
       "    <tr>\n",
       "      <th>2</th>\n",
       "      <td>GP</td>\n",
       "      <td>F</td>\n",
       "      <td>15</td>\n",
       "      <td>U</td>\n",
       "      <td>LE3</td>\n",
       "      <td>T</td>\n",
       "      <td>1</td>\n",
       "      <td>1</td>\n",
       "      <td>at_home</td>\n",
       "      <td>other</td>\n",
       "      <td>other</td>\n",
       "      <td>mother</td>\n",
       "      <td>1</td>\n",
       "      <td>2</td>\n",
       "      <td>3</td>\n",
       "      <td>yes</td>\n",
       "      <td>no</td>\n",
       "      <td>yes</td>\n",
       "      <td>no</td>\n",
       "      <td>yes</td>\n",
       "      <td>yes</td>\n",
       "      <td>yes</td>\n",
       "      <td>no</td>\n",
       "      <td>4</td>\n",
       "      <td>3</td>\n",
       "      <td>2</td>\n",
       "      <td>2</td>\n",
       "      <td>3</td>\n",
       "      <td>3</td>\n",
       "      <td>10</td>\n",
       "      <td>7</td>\n",
       "      <td>8</td>\n",
       "      <td>10</td>\n",
       "      <td>0</td>\n",
       "      <td>1</td>\n",
       "      <td>0</td>\n",
       "      <td>1</td>\n",
       "      <td>1</td>\n",
       "      <td>0</td>\n",
       "      <td>1</td>\n",
       "      <td>0</td>\n",
       "      <td>1</td>\n",
       "      <td>1</td>\n",
       "      <td>1</td>\n",
       "      <td>0</td>\n",
       "    </tr>\n",
       "    <tr>\n",
       "      <th>3</th>\n",
       "      <td>GP</td>\n",
       "      <td>F</td>\n",
       "      <td>15</td>\n",
       "      <td>U</td>\n",
       "      <td>GT3</td>\n",
       "      <td>T</td>\n",
       "      <td>4</td>\n",
       "      <td>2</td>\n",
       "      <td>health</td>\n",
       "      <td>services</td>\n",
       "      <td>home</td>\n",
       "      <td>mother</td>\n",
       "      <td>1</td>\n",
       "      <td>3</td>\n",
       "      <td>0</td>\n",
       "      <td>no</td>\n",
       "      <td>yes</td>\n",
       "      <td>yes</td>\n",
       "      <td>yes</td>\n",
       "      <td>yes</td>\n",
       "      <td>yes</td>\n",
       "      <td>yes</td>\n",
       "      <td>yes</td>\n",
       "      <td>3</td>\n",
       "      <td>2</td>\n",
       "      <td>2</td>\n",
       "      <td>1</td>\n",
       "      <td>1</td>\n",
       "      <td>5</td>\n",
       "      <td>2</td>\n",
       "      <td>15</td>\n",
       "      <td>14</td>\n",
       "      <td>15</td>\n",
       "      <td>0</td>\n",
       "      <td>1</td>\n",
       "      <td>1</td>\n",
       "      <td>1</td>\n",
       "      <td>0</td>\n",
       "      <td>1</td>\n",
       "      <td>1</td>\n",
       "      <td>1</td>\n",
       "      <td>1</td>\n",
       "      <td>1</td>\n",
       "      <td>1</td>\n",
       "      <td>1</td>\n",
       "    </tr>\n",
       "    <tr>\n",
       "      <th>4</th>\n",
       "      <td>GP</td>\n",
       "      <td>F</td>\n",
       "      <td>16</td>\n",
       "      <td>U</td>\n",
       "      <td>GT3</td>\n",
       "      <td>T</td>\n",
       "      <td>3</td>\n",
       "      <td>3</td>\n",
       "      <td>other</td>\n",
       "      <td>other</td>\n",
       "      <td>home</td>\n",
       "      <td>father</td>\n",
       "      <td>1</td>\n",
       "      <td>2</td>\n",
       "      <td>0</td>\n",
       "      <td>no</td>\n",
       "      <td>yes</td>\n",
       "      <td>yes</td>\n",
       "      <td>no</td>\n",
       "      <td>yes</td>\n",
       "      <td>yes</td>\n",
       "      <td>no</td>\n",
       "      <td>no</td>\n",
       "      <td>4</td>\n",
       "      <td>3</td>\n",
       "      <td>2</td>\n",
       "      <td>1</td>\n",
       "      <td>2</td>\n",
       "      <td>5</td>\n",
       "      <td>4</td>\n",
       "      <td>6</td>\n",
       "      <td>10</td>\n",
       "      <td>10</td>\n",
       "      <td>0</td>\n",
       "      <td>1</td>\n",
       "      <td>1</td>\n",
       "      <td>1</td>\n",
       "      <td>0</td>\n",
       "      <td>1</td>\n",
       "      <td>1</td>\n",
       "      <td>0</td>\n",
       "      <td>1</td>\n",
       "      <td>1</td>\n",
       "      <td>0</td>\n",
       "      <td>0</td>\n",
       "    </tr>\n",
       "    <tr>\n",
       "      <th>...</th>\n",
       "      <td>...</td>\n",
       "      <td>...</td>\n",
       "      <td>...</td>\n",
       "      <td>...</td>\n",
       "      <td>...</td>\n",
       "      <td>...</td>\n",
       "      <td>...</td>\n",
       "      <td>...</td>\n",
       "      <td>...</td>\n",
       "      <td>...</td>\n",
       "      <td>...</td>\n",
       "      <td>...</td>\n",
       "      <td>...</td>\n",
       "      <td>...</td>\n",
       "      <td>...</td>\n",
       "      <td>...</td>\n",
       "      <td>...</td>\n",
       "      <td>...</td>\n",
       "      <td>...</td>\n",
       "      <td>...</td>\n",
       "      <td>...</td>\n",
       "      <td>...</td>\n",
       "      <td>...</td>\n",
       "      <td>...</td>\n",
       "      <td>...</td>\n",
       "      <td>...</td>\n",
       "      <td>...</td>\n",
       "      <td>...</td>\n",
       "      <td>...</td>\n",
       "      <td>...</td>\n",
       "      <td>...</td>\n",
       "      <td>...</td>\n",
       "      <td>...</td>\n",
       "      <td>...</td>\n",
       "      <td>...</td>\n",
       "      <td>...</td>\n",
       "      <td>...</td>\n",
       "      <td>...</td>\n",
       "      <td>...</td>\n",
       "      <td>...</td>\n",
       "      <td>...</td>\n",
       "      <td>...</td>\n",
       "      <td>...</td>\n",
       "      <td>...</td>\n",
       "      <td>...</td>\n",
       "    </tr>\n",
       "    <tr>\n",
       "      <th>390</th>\n",
       "      <td>MS</td>\n",
       "      <td>M</td>\n",
       "      <td>20</td>\n",
       "      <td>U</td>\n",
       "      <td>LE3</td>\n",
       "      <td>A</td>\n",
       "      <td>2</td>\n",
       "      <td>2</td>\n",
       "      <td>services</td>\n",
       "      <td>services</td>\n",
       "      <td>course</td>\n",
       "      <td>other</td>\n",
       "      <td>1</td>\n",
       "      <td>2</td>\n",
       "      <td>2</td>\n",
       "      <td>no</td>\n",
       "      <td>yes</td>\n",
       "      <td>yes</td>\n",
       "      <td>no</td>\n",
       "      <td>yes</td>\n",
       "      <td>yes</td>\n",
       "      <td>no</td>\n",
       "      <td>no</td>\n",
       "      <td>5</td>\n",
       "      <td>5</td>\n",
       "      <td>4</td>\n",
       "      <td>4</td>\n",
       "      <td>5</td>\n",
       "      <td>4</td>\n",
       "      <td>11</td>\n",
       "      <td>9</td>\n",
       "      <td>9</td>\n",
       "      <td>9</td>\n",
       "      <td>1</td>\n",
       "      <td>1</td>\n",
       "      <td>0</td>\n",
       "      <td>0</td>\n",
       "      <td>0</td>\n",
       "      <td>1</td>\n",
       "      <td>1</td>\n",
       "      <td>0</td>\n",
       "      <td>1</td>\n",
       "      <td>1</td>\n",
       "      <td>0</td>\n",
       "      <td>0</td>\n",
       "    </tr>\n",
       "    <tr>\n",
       "      <th>391</th>\n",
       "      <td>MS</td>\n",
       "      <td>M</td>\n",
       "      <td>17</td>\n",
       "      <td>U</td>\n",
       "      <td>LE3</td>\n",
       "      <td>T</td>\n",
       "      <td>3</td>\n",
       "      <td>1</td>\n",
       "      <td>services</td>\n",
       "      <td>services</td>\n",
       "      <td>course</td>\n",
       "      <td>mother</td>\n",
       "      <td>2</td>\n",
       "      <td>1</td>\n",
       "      <td>0</td>\n",
       "      <td>no</td>\n",
       "      <td>no</td>\n",
       "      <td>no</td>\n",
       "      <td>no</td>\n",
       "      <td>no</td>\n",
       "      <td>yes</td>\n",
       "      <td>yes</td>\n",
       "      <td>no</td>\n",
       "      <td>2</td>\n",
       "      <td>4</td>\n",
       "      <td>5</td>\n",
       "      <td>3</td>\n",
       "      <td>4</td>\n",
       "      <td>2</td>\n",
       "      <td>3</td>\n",
       "      <td>14</td>\n",
       "      <td>16</td>\n",
       "      <td>16</td>\n",
       "      <td>1</td>\n",
       "      <td>1</td>\n",
       "      <td>0</td>\n",
       "      <td>1</td>\n",
       "      <td>0</td>\n",
       "      <td>0</td>\n",
       "      <td>0</td>\n",
       "      <td>0</td>\n",
       "      <td>0</td>\n",
       "      <td>1</td>\n",
       "      <td>1</td>\n",
       "      <td>0</td>\n",
       "    </tr>\n",
       "    <tr>\n",
       "      <th>392</th>\n",
       "      <td>MS</td>\n",
       "      <td>M</td>\n",
       "      <td>21</td>\n",
       "      <td>R</td>\n",
       "      <td>GT3</td>\n",
       "      <td>T</td>\n",
       "      <td>1</td>\n",
       "      <td>1</td>\n",
       "      <td>other</td>\n",
       "      <td>other</td>\n",
       "      <td>course</td>\n",
       "      <td>other</td>\n",
       "      <td>1</td>\n",
       "      <td>1</td>\n",
       "      <td>3</td>\n",
       "      <td>no</td>\n",
       "      <td>no</td>\n",
       "      <td>no</td>\n",
       "      <td>no</td>\n",
       "      <td>no</td>\n",
       "      <td>yes</td>\n",
       "      <td>no</td>\n",
       "      <td>no</td>\n",
       "      <td>5</td>\n",
       "      <td>5</td>\n",
       "      <td>3</td>\n",
       "      <td>3</td>\n",
       "      <td>3</td>\n",
       "      <td>3</td>\n",
       "      <td>3</td>\n",
       "      <td>10</td>\n",
       "      <td>8</td>\n",
       "      <td>7</td>\n",
       "      <td>1</td>\n",
       "      <td>0</td>\n",
       "      <td>1</td>\n",
       "      <td>1</td>\n",
       "      <td>0</td>\n",
       "      <td>0</td>\n",
       "      <td>0</td>\n",
       "      <td>0</td>\n",
       "      <td>0</td>\n",
       "      <td>1</td>\n",
       "      <td>0</td>\n",
       "      <td>0</td>\n",
       "    </tr>\n",
       "    <tr>\n",
       "      <th>393</th>\n",
       "      <td>MS</td>\n",
       "      <td>M</td>\n",
       "      <td>18</td>\n",
       "      <td>R</td>\n",
       "      <td>LE3</td>\n",
       "      <td>T</td>\n",
       "      <td>3</td>\n",
       "      <td>2</td>\n",
       "      <td>services</td>\n",
       "      <td>other</td>\n",
       "      <td>course</td>\n",
       "      <td>mother</td>\n",
       "      <td>3</td>\n",
       "      <td>1</td>\n",
       "      <td>0</td>\n",
       "      <td>no</td>\n",
       "      <td>no</td>\n",
       "      <td>no</td>\n",
       "      <td>no</td>\n",
       "      <td>no</td>\n",
       "      <td>yes</td>\n",
       "      <td>yes</td>\n",
       "      <td>no</td>\n",
       "      <td>4</td>\n",
       "      <td>4</td>\n",
       "      <td>1</td>\n",
       "      <td>3</td>\n",
       "      <td>4</td>\n",
       "      <td>5</td>\n",
       "      <td>0</td>\n",
       "      <td>11</td>\n",
       "      <td>12</td>\n",
       "      <td>10</td>\n",
       "      <td>1</td>\n",
       "      <td>0</td>\n",
       "      <td>0</td>\n",
       "      <td>1</td>\n",
       "      <td>0</td>\n",
       "      <td>0</td>\n",
       "      <td>0</td>\n",
       "      <td>0</td>\n",
       "      <td>0</td>\n",
       "      <td>1</td>\n",
       "      <td>1</td>\n",
       "      <td>0</td>\n",
       "    </tr>\n",
       "    <tr>\n",
       "      <th>394</th>\n",
       "      <td>MS</td>\n",
       "      <td>M</td>\n",
       "      <td>19</td>\n",
       "      <td>U</td>\n",
       "      <td>LE3</td>\n",
       "      <td>T</td>\n",
       "      <td>1</td>\n",
       "      <td>1</td>\n",
       "      <td>other</td>\n",
       "      <td>at_home</td>\n",
       "      <td>course</td>\n",
       "      <td>father</td>\n",
       "      <td>1</td>\n",
       "      <td>1</td>\n",
       "      <td>0</td>\n",
       "      <td>no</td>\n",
       "      <td>no</td>\n",
       "      <td>no</td>\n",
       "      <td>no</td>\n",
       "      <td>yes</td>\n",
       "      <td>yes</td>\n",
       "      <td>yes</td>\n",
       "      <td>no</td>\n",
       "      <td>3</td>\n",
       "      <td>2</td>\n",
       "      <td>3</td>\n",
       "      <td>3</td>\n",
       "      <td>3</td>\n",
       "      <td>5</td>\n",
       "      <td>5</td>\n",
       "      <td>8</td>\n",
       "      <td>9</td>\n",
       "      <td>9</td>\n",
       "      <td>1</td>\n",
       "      <td>1</td>\n",
       "      <td>0</td>\n",
       "      <td>1</td>\n",
       "      <td>0</td>\n",
       "      <td>0</td>\n",
       "      <td>0</td>\n",
       "      <td>0</td>\n",
       "      <td>1</td>\n",
       "      <td>1</td>\n",
       "      <td>1</td>\n",
       "      <td>0</td>\n",
       "    </tr>\n",
       "  </tbody>\n",
       "</table>\n",
       "<p>395 rows × 45 columns</p>\n",
       "</div>"
      ],
      "text/plain": [
       "    school sex  age address famsize Pstatus  Medu  Fedu      Mjob      Fjob  \\\n",
       "0       GP   F   18       U     GT3       A     4     4   at_home   teacher   \n",
       "1       GP   F   17       U     GT3       T     1     1   at_home     other   \n",
       "2       GP   F   15       U     LE3       T     1     1   at_home     other   \n",
       "3       GP   F   15       U     GT3       T     4     2    health  services   \n",
       "4       GP   F   16       U     GT3       T     3     3     other     other   \n",
       "..     ...  ..  ...     ...     ...     ...   ...   ...       ...       ...   \n",
       "390     MS   M   20       U     LE3       A     2     2  services  services   \n",
       "391     MS   M   17       U     LE3       T     3     1  services  services   \n",
       "392     MS   M   21       R     GT3       T     1     1     other     other   \n",
       "393     MS   M   18       R     LE3       T     3     2  services     other   \n",
       "394     MS   M   19       U     LE3       T     1     1     other   at_home   \n",
       "\n",
       "     reason guardian  traveltime  studytime  failures schoolsup famsup paid  \\\n",
       "0    course   mother           2          2         0       yes     no   no   \n",
       "1    course   father           1          2         0        no    yes   no   \n",
       "2     other   mother           1          2         3       yes     no  yes   \n",
       "3      home   mother           1          3         0        no    yes  yes   \n",
       "4      home   father           1          2         0        no    yes  yes   \n",
       "..      ...      ...         ...        ...       ...       ...    ...  ...   \n",
       "390  course    other           1          2         2        no    yes  yes   \n",
       "391  course   mother           2          1         0        no     no   no   \n",
       "392  course    other           1          1         3        no     no   no   \n",
       "393  course   mother           3          1         0        no     no   no   \n",
       "394  course   father           1          1         0        no     no   no   \n",
       "\n",
       "    activities nursery higher internet romantic  famrel  freetime  goout  \\\n",
       "0           no     yes    yes       no       no       4         3      4   \n",
       "1           no      no    yes      yes       no       5         3      3   \n",
       "2           no     yes    yes      yes       no       4         3      2   \n",
       "3          yes     yes    yes      yes      yes       3         2      2   \n",
       "4           no     yes    yes       no       no       4         3      2   \n",
       "..         ...     ...    ...      ...      ...     ...       ...    ...   \n",
       "390         no     yes    yes       no       no       5         5      4   \n",
       "391         no      no    yes      yes       no       2         4      5   \n",
       "392         no      no    yes       no       no       5         5      3   \n",
       "393         no      no    yes      yes       no       4         4      1   \n",
       "394         no     yes    yes      yes       no       3         2      3   \n",
       "\n",
       "     Dalc  Walc  health  absences  G1  G2  G3  sexBinary  addressBinary  \\\n",
       "0       1     1       3         6   5   6   6          0              1   \n",
       "1       1     1       3         4   5   5   6          0              1   \n",
       "2       2     3       3        10   7   8  10          0              1   \n",
       "3       1     1       5         2  15  14  15          0              1   \n",
       "4       1     2       5         4   6  10  10          0              1   \n",
       "..    ...   ...     ...       ...  ..  ..  ..        ...            ...   \n",
       "390     4     5       4        11   9   9   9          1              1   \n",
       "391     3     4       2         3  14  16  16          1              1   \n",
       "392     3     3       3         3  10   8   7          1              0   \n",
       "393     3     4       5         0  11  12  10          1              0   \n",
       "394     3     3       5         5   8   9   9          1              1   \n",
       "\n",
       "     famsizeBinary  PstatusBinary  schoolsupBinary  famsupBinary  paidBinary  \\\n",
       "0                1              0                1             0           0   \n",
       "1                1              1                0             1           0   \n",
       "2                0              1                1             0           1   \n",
       "3                1              1                0             1           1   \n",
       "4                1              1                0             1           1   \n",
       "..             ...            ...              ...           ...         ...   \n",
       "390              0              0                0             1           1   \n",
       "391              0              1                0             0           0   \n",
       "392              1              1                0             0           0   \n",
       "393              0              1                0             0           0   \n",
       "394              0              1                0             0           0   \n",
       "\n",
       "     activitesBinary  nurseryBinary  higherBinary  internetBinary  \\\n",
       "0                  0              1             1               0   \n",
       "1                  0              0             1               1   \n",
       "2                  0              1             1               1   \n",
       "3                  1              1             1               1   \n",
       "4                  0              1             1               0   \n",
       "..               ...            ...           ...             ...   \n",
       "390                0              1             1               0   \n",
       "391                0              0             1               1   \n",
       "392                0              0             1               0   \n",
       "393                0              0             1               1   \n",
       "394                0              1             1               1   \n",
       "\n",
       "     romaticBinary  \n",
       "0                0  \n",
       "1                0  \n",
       "2                0  \n",
       "3                1  \n",
       "4                0  \n",
       "..             ...  \n",
       "390              0  \n",
       "391              0  \n",
       "392              0  \n",
       "393              0  \n",
       "394              0  \n",
       "\n",
       "[395 rows x 45 columns]"
      ]
     },
     "execution_count": 11,
     "metadata": {},
     "output_type": "execute_result"
    }
   ],
   "source": [
    "daten"
   ]
  },
  {
   "cell_type": "code",
   "execution_count": 12,
   "metadata": {},
   "outputs": [],
   "source": [
    "x_values=[14,15,16,17,18,19,20,21,22]\n",
    "listeY=[]\n",
    "listeSTD=[]\n",
    "for i in x_values:\n",
    "    temp = daten[daten['age']==i]\n",
    "    m = temp['G3'].mean()\n",
    "    listeY.append(m)\n",
    "    \n",
    "for i in x_values:\n",
    "    temp = daten[daten['age']==i]\n",
    "    m = np.std(temp['G3'])\n",
    "    listeSTD.append(m)"
   ]
  },
  {
   "cell_type": "code",
   "execution_count": 13,
   "metadata": {},
   "outputs": [
    {
     "data": {
      "image/png": "[encoded data removed]",
      "text/plain": [
       "<Figure size 720x360 with 1 Axes>"
      ]
     },
     "metadata": {
      "needs_background": "light"
     },
     "output_type": "display_data"
    }
   ],
   "source": [
    "figure,axes=plt.subplots(figsize=(10,5))\n",
    "bar_mit_std(x_values,listeY,listeSTD,y_label='Avg grade in G3',x_label='age')"
   ]
  },
  {
   "cell_type": "code",
   "execution_count": 14,
   "metadata": {},
   "outputs": [
    {
     "data": {
      "text/plain": [
       "array([[1.        , 0.10575606],\n",
       "       [0.10575606, 1.        ]])"
      ]
     },
     "execution_count": 14,
     "metadata": {},
     "output_type": "execute_result"
    }
   ],
   "source": [
    "a = np.corrcoef(daten.G3,daten.addressBinary)\n",
    "a"
   ]
  },
  {
   "cell_type": "code",
   "execution_count": 15,
   "metadata": {},
   "outputs": [
    {
     "data": {
      "image/png": "[encoded data removed]",
      "text/plain": [
       "<Figure size 1080x720 with 1 Axes>"
      ]
     },
     "metadata": {
      "needs_background": "light"
     },
     "output_type": "display_data"
    }
   ],
   "source": [
    "coors=[];\n",
    "names=[]\n",
    "correlations=[]\n",
    "for var in daten.dtypes.items():\n",
    "    if var[1].name==\"int64\":\n",
    "        \n",
    "        for othervar in daten.dtypes.items():\n",
    "            if (var[0]==othervar[0]):\n",
    "                break\n",
    "            if ((othervar[1].name==\"int64\") ):        \n",
    "                \n",
    "                correlation=daten[var[0]].corr(daten[othervar[0]])\n",
    "                #print(var[0],othervar[0],\"correl:\",correlation)\n",
    "                names.append(var[0]+\"-\"+othervar[0])\n",
    "                coors.append(correlation)\n",
    "                correlations.append([abs(correlation),correlation,var[0]+\"-\"+othervar[0]])\n",
    "                #add name and coors\n",
    "\n",
    "correlations.sort(reverse=True)\n",
    "heights=[]\n",
    "labels=[]\n",
    "for i in range(3,50):\n",
    "    correlation=correlations[i]\n",
    "    heights.append(correlation[0])\n",
    "    labels.append(correlation[2])\n",
    "\n",
    "figure,axis=plt.subplots(figsize=(15,10))\n",
    "plt.xticks(rotation=90)\n",
    "axis.bar(x=np.arange(len(heights)),height=heights,tick_label=labels,color=\"gray\")\n",
    "axis.set_ylabel(\"Pearson Correlation\");"
   ]
  },
  {
   "cell_type": "code",
   "execution_count": 16,
   "metadata": {},
   "outputs": [
    {
     "data": {
      "text/plain": [
       "['Walc-Dalc',\n",
       " 'Fedu-Medu',\n",
       " 'Walc-goout',\n",
       " 'G3-failures',\n",
       " 'G2-failures',\n",
       " 'G1-failures',\n",
       " 'addressBinary-traveltime',\n",
       " 'sexBinary-studytime',\n",
       " 'higherBinary-failures',\n",
       " 'paidBinary-famsupBinary',\n",
       " 'goout-freetime',\n",
       " 'sexBinary-Walc',\n",
       " 'sexBinary-Dalc',\n",
       " 'Dalc-goout',\n",
       " 'Walc-studytime',\n",
       " 'schoolsupBinary-age',\n",
       " 'failures-Fedu',\n",
       " 'failures-age',\n",
       " 'sexBinary-freetime',\n",
       " 'failures-Medu',\n",
       " 'G3-Medu',\n",
       " 'internetBinary-addressBinary',\n",
       " 'G2-Medu',\n",
       " 'schoolsupBinary-G1',\n",
       " 'higherBinary-age',\n",
       " 'Dalc-freetime',\n",
       " 'G1-Medu',\n",
       " 'internetBinary-Medu',\n",
       " 'Dalc-studytime',\n",
       " 'nurseryBinary-Medu',\n",
       " 'G1-Fedu',\n",
       " 'higherBinary-paidBinary',\n",
       " 'paidBinary-failures',\n",
       " 'famsupBinary-Fedu',\n",
       " 'famsupBinary-Medu',\n",
       " 'higherBinary-G3',\n",
       " 'higherBinary-G2',\n",
       " 'higherBinary-G1',\n",
       " 'absences-age',\n",
       " 'higherBinary-studytime',\n",
       " 'higherBinary-Fedu',\n",
       " 'failures-studytime',\n",
       " 'traveltime-Medu',\n",
       " 'higherBinary-Medu',\n",
       " 'paidBinary-studytime',\n",
       " 'G2-Fedu',\n",
       " 'romaticBinary-age']"
      ]
     },
     "execution_count": 16,
     "metadata": {},
     "output_type": "execute_result"
    }
   ],
   "source": [
    "labels"
   ]
  },
  {
   "cell_type": "code",
   "execution_count": 17,
   "metadata": {},
   "outputs": [
    {
     "data": {
      "text/html": [
       "<div>\n",
       "<style scoped>\n",
       "    .dataframe tbody tr th:only-of-type {\n",
       "        vertical-align: middle;\n",
       "    }\n",
       "\n",
       "    .dataframe tbody tr th {\n",
       "        vertical-align: top;\n",
       "    }\n",
       "\n",
       "    .dataframe thead th {\n",
       "        text-align: right;\n",
       "    }\n",
       "</style>\n",
       "<table border=\"1\" class=\"dataframe\">\n",
       "  <thead>\n",
       "    <tr style=\"text-align: right;\">\n",
       "      <th></th>\n",
       "      <th>index</th>\n",
       "      <th>age</th>\n",
       "      <th>Medu</th>\n",
       "      <th>Fedu</th>\n",
       "      <th>traveltime</th>\n",
       "      <th>studytime</th>\n",
       "      <th>failures</th>\n",
       "      <th>famrel</th>\n",
       "      <th>freetime</th>\n",
       "      <th>goout</th>\n",
       "      <th>Dalc</th>\n",
       "      <th>Walc</th>\n",
       "      <th>health</th>\n",
       "      <th>absences</th>\n",
       "      <th>G1</th>\n",
       "      <th>G2</th>\n",
       "      <th>G3</th>\n",
       "      <th>sexBinary</th>\n",
       "      <th>addressBinary</th>\n",
       "      <th>famsizeBinary</th>\n",
       "      <th>PstatusBinary</th>\n",
       "      <th>schoolsupBinary</th>\n",
       "      <th>famsupBinary</th>\n",
       "      <th>paidBinary</th>\n",
       "      <th>activitesBinary</th>\n",
       "      <th>nurseryBinary</th>\n",
       "      <th>higherBinary</th>\n",
       "      <th>internetBinary</th>\n",
       "      <th>romaticBinary</th>\n",
       "    </tr>\n",
       "  </thead>\n",
       "  <tbody>\n",
       "    <tr>\n",
       "      <th>15</th>\n",
       "      <td>G3</td>\n",
       "      <td>-0.161579</td>\n",
       "      <td>0.217147</td>\n",
       "      <td>0.152457</td>\n",
       "      <td>-0.117142</td>\n",
       "      <td>0.097820</td>\n",
       "      <td>-0.360415</td>\n",
       "      <td>0.051363</td>\n",
       "      <td>0.011307</td>\n",
       "      <td>-0.132791</td>\n",
       "      <td>-0.054660</td>\n",
       "      <td>-0.051939</td>\n",
       "      <td>-0.061335</td>\n",
       "      <td>0.034247</td>\n",
       "      <td>0.801468</td>\n",
       "      <td>0.904868</td>\n",
       "      <td>1.000000</td>\n",
       "      <td>0.103456</td>\n",
       "      <td>0.105756</td>\n",
       "      <td>-0.081407</td>\n",
       "      <td>-0.058009</td>\n",
       "      <td>-0.082788</td>\n",
       "      <td>-0.039157</td>\n",
       "      <td>0.101996</td>\n",
       "      <td>0.016100</td>\n",
       "      <td>0.051568</td>\n",
       "      <td>0.182465</td>\n",
       "      <td>0.098483</td>\n",
       "      <td>-0.129970</td>\n",
       "    </tr>\n",
       "    <tr>\n",
       "      <th>14</th>\n",
       "      <td>G2</td>\n",
       "      <td>-0.143474</td>\n",
       "      <td>0.215527</td>\n",
       "      <td>0.164893</td>\n",
       "      <td>-0.153198</td>\n",
       "      <td>0.135880</td>\n",
       "      <td>-0.355896</td>\n",
       "      <td>-0.018281</td>\n",
       "      <td>-0.013777</td>\n",
       "      <td>-0.162250</td>\n",
       "      <td>-0.064120</td>\n",
       "      <td>-0.084927</td>\n",
       "      <td>-0.097720</td>\n",
       "      <td>-0.031777</td>\n",
       "      <td>0.852118</td>\n",
       "      <td>1.000000</td>\n",
       "      <td>0.904868</td>\n",
       "      <td>0.091099</td>\n",
       "      <td>0.126037</td>\n",
       "      <td>-0.081223</td>\n",
       "      <td>-0.041382</td>\n",
       "      <td>-0.117385</td>\n",
       "      <td>-0.059166</td>\n",
       "      <td>0.105198</td>\n",
       "      <td>0.050552</td>\n",
       "      <td>0.068146</td>\n",
       "      <td>0.179129</td>\n",
       "      <td>0.119439</td>\n",
       "      <td>-0.111774</td>\n",
       "    </tr>\n",
       "    <tr>\n",
       "      <th>13</th>\n",
       "      <td>G1</td>\n",
       "      <td>-0.064081</td>\n",
       "      <td>0.205341</td>\n",
       "      <td>0.190270</td>\n",
       "      <td>-0.093040</td>\n",
       "      <td>0.160612</td>\n",
       "      <td>-0.354718</td>\n",
       "      <td>0.022168</td>\n",
       "      <td>0.012613</td>\n",
       "      <td>-0.149104</td>\n",
       "      <td>-0.094159</td>\n",
       "      <td>-0.126179</td>\n",
       "      <td>-0.073172</td>\n",
       "      <td>-0.031003</td>\n",
       "      <td>1.000000</td>\n",
       "      <td>0.852118</td>\n",
       "      <td>0.801468</td>\n",
       "      <td>0.091839</td>\n",
       "      <td>0.069704</td>\n",
       "      <td>-0.071445</td>\n",
       "      <td>-0.016868</td>\n",
       "      <td>-0.212607</td>\n",
       "      <td>-0.084569</td>\n",
       "      <td>0.039079</td>\n",
       "      <td>0.057010</td>\n",
       "      <td>0.069263</td>\n",
       "      <td>0.178264</td>\n",
       "      <td>0.071619</td>\n",
       "      <td>-0.037188</td>\n",
       "    </tr>\n",
       "    <tr>\n",
       "      <th>5</th>\n",
       "      <td>failures</td>\n",
       "      <td>0.243665</td>\n",
       "      <td>-0.236680</td>\n",
       "      <td>-0.250408</td>\n",
       "      <td>0.092239</td>\n",
       "      <td>-0.173563</td>\n",
       "      <td>1.000000</td>\n",
       "      <td>-0.044337</td>\n",
       "      <td>0.091987</td>\n",
       "      <td>0.124561</td>\n",
       "      <td>0.136047</td>\n",
       "      <td>0.141962</td>\n",
       "      <td>0.065827</td>\n",
       "      <td>0.063726</td>\n",
       "      <td>-0.354718</td>\n",
       "      <td>-0.355896</td>\n",
       "      <td>0.360415</td>\n",
       "      <td>0.044436</td>\n",
       "      <td>-0.078578</td>\n",
       "      <td>0.015769</td>\n",
       "      <td>-0.003339</td>\n",
       "      <td>-0.000437</td>\n",
       "      <td>-0.055075</td>\n",
       "      <td>-0.188039</td>\n",
       "      <td>-0.069341</td>\n",
       "      <td>-0.100734</td>\n",
       "      <td>-0.300316</td>\n",
       "      <td>-0.063451</td>\n",
       "      <td>0.093137</td>\n",
       "    </tr>\n",
       "    <tr>\n",
       "      <th>1</th>\n",
       "      <td>Medu</td>\n",
       "      <td>-0.163658</td>\n",
       "      <td>1.000000</td>\n",
       "      <td>0.623455</td>\n",
       "      <td>-0.171639</td>\n",
       "      <td>0.064944</td>\n",
       "      <td>-0.236680</td>\n",
       "      <td>-0.003914</td>\n",
       "      <td>0.030891</td>\n",
       "      <td>0.064094</td>\n",
       "      <td>0.019834</td>\n",
       "      <td>-0.047123</td>\n",
       "      <td>-0.046878</td>\n",
       "      <td>0.100285</td>\n",
       "      <td>0.205341</td>\n",
       "      <td>0.215527</td>\n",
       "      <td>0.217147</td>\n",
       "      <td>0.078228</td>\n",
       "      <td>0.138804</td>\n",
       "      <td>0.043068</td>\n",
       "      <td>-0.123565</td>\n",
       "      <td>-0.036029</td>\n",
       "      <td>0.183727</td>\n",
       "      <td>0.159700</td>\n",
       "      <td>0.108277</td>\n",
       "      <td>0.193263</td>\n",
       "      <td>0.168845</td>\n",
       "      <td>0.201463</td>\n",
       "      <td>0.039681</td>\n",
       "    </tr>\n",
       "    <tr>\n",
       "      <th>25</th>\n",
       "      <td>higherBinary</td>\n",
       "      <td>-0.209081</td>\n",
       "      <td>0.168845</td>\n",
       "      <td>0.174566</td>\n",
       "      <td>-0.083508</td>\n",
       "      <td>0.175081</td>\n",
       "      <td>-0.300316</td>\n",
       "      <td>0.024319</td>\n",
       "      <td>-0.061244</td>\n",
       "      <td>-0.039700</td>\n",
       "      <td>-0.069828</td>\n",
       "      <td>-0.100340</td>\n",
       "      <td>-0.015895</td>\n",
       "      <td>-0.056085</td>\n",
       "      <td>0.178264</td>\n",
       "      <td>0.179129</td>\n",
       "      <td>0.182465</td>\n",
       "      <td>-0.151056</td>\n",
       "      <td>0.042854</td>\n",
       "      <td>0.005806</td>\n",
       "      <td>-0.040735</td>\n",
       "      <td>0.054486</td>\n",
       "      <td>0.100815</td>\n",
       "      <td>0.189214</td>\n",
       "      <td>0.096484</td>\n",
       "      <td>0.054303</td>\n",
       "      <td>1.000000</td>\n",
       "      <td>0.020374</td>\n",
       "      <td>-0.105664</td>\n",
       "    </tr>\n",
       "    <tr>\n",
       "      <th>0</th>\n",
       "      <td>age</td>\n",
       "      <td>1.000000</td>\n",
       "      <td>-0.163658</td>\n",
       "      <td>-0.163438</td>\n",
       "      <td>0.070641</td>\n",
       "      <td>-0.004140</td>\n",
       "      <td>0.243665</td>\n",
       "      <td>0.053940</td>\n",
       "      <td>0.016434</td>\n",
       "      <td>0.126964</td>\n",
       "      <td>0.131125</td>\n",
       "      <td>0.117276</td>\n",
       "      <td>-0.062187</td>\n",
       "      <td>0.175230</td>\n",
       "      <td>-0.064081</td>\n",
       "      <td>-0.143474</td>\n",
       "      <td>0.161579</td>\n",
       "      <td>-0.028606</td>\n",
       "      <td>-0.146722</td>\n",
       "      <td>-0.037847</td>\n",
       "      <td>0.029598</td>\n",
       "      <td>-0.251811</td>\n",
       "      <td>-0.140609</td>\n",
       "      <td>-0.035933</td>\n",
       "      <td>-0.103063</td>\n",
       "      <td>-0.086632</td>\n",
       "      <td>-0.209081</td>\n",
       "      <td>-0.112094</td>\n",
       "      <td>0.164669</td>\n",
       "    </tr>\n",
       "    <tr>\n",
       "      <th>2</th>\n",
       "      <td>Fedu</td>\n",
       "      <td>-0.163438</td>\n",
       "      <td>0.623455</td>\n",
       "      <td>1.000000</td>\n",
       "      <td>-0.158194</td>\n",
       "      <td>-0.009175</td>\n",
       "      <td>-0.250408</td>\n",
       "      <td>-0.001370</td>\n",
       "      <td>-0.012846</td>\n",
       "      <td>0.043105</td>\n",
       "      <td>0.002386</td>\n",
       "      <td>-0.012631</td>\n",
       "      <td>0.014742</td>\n",
       "      <td>0.024473</td>\n",
       "      <td>0.190270</td>\n",
       "      <td>0.164893</td>\n",
       "      <td>0.152457</td>\n",
       "      <td>0.034878</td>\n",
       "      <td>0.072178</td>\n",
       "      <td>0.058879</td>\n",
       "      <td>-0.088730</td>\n",
       "      <td>0.037530</td>\n",
       "      <td>0.185496</td>\n",
       "      <td>0.086981</td>\n",
       "      <td>0.112643</td>\n",
       "      <td>0.157177</td>\n",
       "      <td>0.174566</td>\n",
       "      <td>0.127507</td>\n",
       "      <td>0.015602</td>\n",
       "    </tr>\n",
       "    <tr>\n",
       "      <th>8</th>\n",
       "      <td>goout</td>\n",
       "      <td>0.126964</td>\n",
       "      <td>0.064094</td>\n",
       "      <td>0.043105</td>\n",
       "      <td>0.028540</td>\n",
       "      <td>-0.063904</td>\n",
       "      <td>0.124561</td>\n",
       "      <td>0.064568</td>\n",
       "      <td>0.285019</td>\n",
       "      <td>1.000000</td>\n",
       "      <td>0.266994</td>\n",
       "      <td>0.420386</td>\n",
       "      <td>-0.009577</td>\n",
       "      <td>0.044302</td>\n",
       "      <td>-0.149104</td>\n",
       "      <td>-0.162250</td>\n",
       "      <td>0.132791</td>\n",
       "      <td>0.075897</td>\n",
       "      <td>0.068835</td>\n",
       "      <td>-0.023064</td>\n",
       "      <td>0.003459</td>\n",
       "      <td>-0.037698</td>\n",
       "      <td>-0.015631</td>\n",
       "      <td>0.010493</td>\n",
       "      <td>0.046088</td>\n",
       "      <td>0.004612</td>\n",
       "      <td>-0.039700</td>\n",
       "      <td>0.074370</td>\n",
       "      <td>0.007870</td>\n",
       "    </tr>\n",
       "    <tr>\n",
       "      <th>27</th>\n",
       "      <td>romaticBinary</td>\n",
       "      <td>0.164669</td>\n",
       "      <td>0.039681</td>\n",
       "      <td>0.015602</td>\n",
       "      <td>0.021962</td>\n",
       "      <td>0.053285</td>\n",
       "      <td>0.093137</td>\n",
       "      <td>-0.063816</td>\n",
       "      <td>-0.011182</td>\n",
       "      <td>0.007870</td>\n",
       "      <td>0.015121</td>\n",
       "      <td>-0.010141</td>\n",
       "      <td>0.026342</td>\n",
       "      <td>0.153384</td>\n",
       "      <td>-0.037188</td>\n",
       "      <td>-0.111774</td>\n",
       "      <td>0.129970</td>\n",
       "      <td>-0.102023</td>\n",
       "      <td>0.005257</td>\n",
       "      <td>-0.034395</td>\n",
       "      <td>-0.040451</td>\n",
       "      <td>-0.080716</td>\n",
       "      <td>0.012440</td>\n",
       "      <td>0.005536</td>\n",
       "      <td>0.019651</td>\n",
       "      <td>0.027495</td>\n",
       "      <td>-0.105664</td>\n",
       "      <td>0.087122</td>\n",
       "      <td>1.000000</td>\n",
       "    </tr>\n",
       "    <tr>\n",
       "      <th>3</th>\n",
       "      <td>traveltime</td>\n",
       "      <td>0.070641</td>\n",
       "      <td>-0.171639</td>\n",
       "      <td>-0.158194</td>\n",
       "      <td>1.000000</td>\n",
       "      <td>-0.100909</td>\n",
       "      <td>0.092239</td>\n",
       "      <td>-0.016808</td>\n",
       "      <td>-0.017025</td>\n",
       "      <td>0.028540</td>\n",
       "      <td>0.138325</td>\n",
       "      <td>0.134116</td>\n",
       "      <td>0.007501</td>\n",
       "      <td>-0.012944</td>\n",
       "      <td>-0.093040</td>\n",
       "      <td>-0.153198</td>\n",
       "      <td>0.117142</td>\n",
       "      <td>0.059722</td>\n",
       "      <td>-0.328096</td>\n",
       "      <td>-0.063493</td>\n",
       "      <td>0.028265</td>\n",
       "      <td>-0.009246</td>\n",
       "      <td>-0.003286</td>\n",
       "      <td>-0.066420</td>\n",
       "      <td>-0.007766</td>\n",
       "      <td>-0.033338</td>\n",
       "      <td>-0.083508</td>\n",
       "      <td>-0.111302</td>\n",
       "      <td>0.021962</td>\n",
       "    </tr>\n",
       "    <tr>\n",
       "      <th>17</th>\n",
       "      <td>addressBinary</td>\n",
       "      <td>-0.146722</td>\n",
       "      <td>0.138804</td>\n",
       "      <td>0.072178</td>\n",
       "      <td>-0.328096</td>\n",
       "      <td>-0.020912</td>\n",
       "      <td>-0.078578</td>\n",
       "      <td>0.014258</td>\n",
       "      <td>0.034878</td>\n",
       "      <td>0.068835</td>\n",
       "      <td>-0.093494</td>\n",
       "      <td>-0.101126</td>\n",
       "      <td>-0.040355</td>\n",
       "      <td>-0.027874</td>\n",
       "      <td>0.069704</td>\n",
       "      <td>0.126037</td>\n",
       "      <td>0.105756</td>\n",
       "      <td>-0.028504</td>\n",
       "      <td>1.000000</td>\n",
       "      <td>-0.072472</td>\n",
       "      <td>-0.042572</td>\n",
       "      <td>0.024712</td>\n",
       "      <td>0.023903</td>\n",
       "      <td>0.052800</td>\n",
       "      <td>-0.051360</td>\n",
       "      <td>0.059589</td>\n",
       "      <td>0.042854</td>\n",
       "      <td>0.216842</td>\n",
       "      <td>0.005257</td>\n",
       "    </tr>\n",
       "    <tr>\n",
       "      <th>16</th>\n",
       "      <td>sexBinary</td>\n",
       "      <td>-0.028606</td>\n",
       "      <td>0.078228</td>\n",
       "      <td>0.034878</td>\n",
       "      <td>0.059722</td>\n",
       "      <td>-0.306268</td>\n",
       "      <td>0.044436</td>\n",
       "      <td>0.058971</td>\n",
       "      <td>0.238744</td>\n",
       "      <td>0.075897</td>\n",
       "      <td>0.268171</td>\n",
       "      <td>0.274194</td>\n",
       "      <td>0.143588</td>\n",
       "      <td>-0.066962</td>\n",
       "      <td>0.091839</td>\n",
       "      <td>0.091099</td>\n",
       "      <td>0.103456</td>\n",
       "      <td>1.000000</td>\n",
       "      <td>-0.028504</td>\n",
       "      <td>-0.089862</td>\n",
       "      <td>0.023443</td>\n",
       "      <td>-0.138271</td>\n",
       "      <td>-0.151623</td>\n",
       "      <td>-0.129126</td>\n",
       "      <td>0.099833</td>\n",
       "      <td>-0.008203</td>\n",
       "      <td>-0.151056</td>\n",
       "      <td>0.044113</td>\n",
       "      <td>-0.102023</td>\n",
       "    </tr>\n",
       "    <tr>\n",
       "      <th>22</th>\n",
       "      <td>paidBinary</td>\n",
       "      <td>-0.035933</td>\n",
       "      <td>0.159700</td>\n",
       "      <td>0.086981</td>\n",
       "      <td>-0.066420</td>\n",
       "      <td>0.167220</td>\n",
       "      <td>-0.188039</td>\n",
       "      <td>0.000460</td>\n",
       "      <td>-0.064253</td>\n",
       "      <td>0.010493</td>\n",
       "      <td>0.062465</td>\n",
       "      <td>0.060454</td>\n",
       "      <td>-0.078132</td>\n",
       "      <td>0.007435</td>\n",
       "      <td>0.039079</td>\n",
       "      <td>0.105198</td>\n",
       "      <td>0.101996</td>\n",
       "      <td>-0.129126</td>\n",
       "      <td>0.052800</td>\n",
       "      <td>0.013882</td>\n",
       "      <td>0.046435</td>\n",
       "      <td>-0.020753</td>\n",
       "      <td>0.293184</td>\n",
       "      <td>1.000000</td>\n",
       "      <td>-0.021382</td>\n",
       "      <td>0.102143</td>\n",
       "      <td>0.189214</td>\n",
       "      <td>0.153132</td>\n",
       "      <td>0.005536</td>\n",
       "    </tr>\n",
       "    <tr>\n",
       "      <th>26</th>\n",
       "      <td>internetBinary</td>\n",
       "      <td>-0.112094</td>\n",
       "      <td>0.201463</td>\n",
       "      <td>0.127507</td>\n",
       "      <td>-0.111302</td>\n",
       "      <td>0.059422</td>\n",
       "      <td>-0.063451</td>\n",
       "      <td>0.032768</td>\n",
       "      <td>0.051286</td>\n",
       "      <td>0.074370</td>\n",
       "      <td>0.036210</td>\n",
       "      <td>0.011687</td>\n",
       "      <td>-0.080189</td>\n",
       "      <td>0.101701</td>\n",
       "      <td>0.071619</td>\n",
       "      <td>0.119439</td>\n",
       "      <td>0.098483</td>\n",
       "      <td>0.044113</td>\n",
       "      <td>0.216842</td>\n",
       "      <td>-0.000720</td>\n",
       "      <td>0.070074</td>\n",
       "      <td>-0.009683</td>\n",
       "      <td>0.103581</td>\n",
       "      <td>0.153132</td>\n",
       "      <td>0.048663</td>\n",
       "      <td>0.007830</td>\n",
       "      <td>0.020374</td>\n",
       "      <td>1.000000</td>\n",
       "      <td>0.087122</td>\n",
       "    </tr>\n",
       "    <tr>\n",
       "      <th>4</th>\n",
       "      <td>studytime</td>\n",
       "      <td>-0.004140</td>\n",
       "      <td>0.064944</td>\n",
       "      <td>-0.009175</td>\n",
       "      <td>-0.100909</td>\n",
       "      <td>1.000000</td>\n",
       "      <td>-0.173563</td>\n",
       "      <td>0.039731</td>\n",
       "      <td>-0.143198</td>\n",
       "      <td>-0.063904</td>\n",
       "      <td>-0.196019</td>\n",
       "      <td>-0.253785</td>\n",
       "      <td>-0.075616</td>\n",
       "      <td>-0.062700</td>\n",
       "      <td>0.160612</td>\n",
       "      <td>0.135880</td>\n",
       "      <td>0.097820</td>\n",
       "      <td>-0.306268</td>\n",
       "      <td>-0.020912</td>\n",
       "      <td>0.073595</td>\n",
       "      <td>0.024294</td>\n",
       "      <td>0.037763</td>\n",
       "      <td>0.145228</td>\n",
       "      <td>0.167220</td>\n",
       "      <td>0.089877</td>\n",
       "      <td>0.081325</td>\n",
       "      <td>0.175081</td>\n",
       "      <td>0.059422</td>\n",
       "      <td>0.053285</td>\n",
       "    </tr>\n",
       "    <tr>\n",
       "      <th>20</th>\n",
       "      <td>schoolsupBinary</td>\n",
       "      <td>-0.251811</td>\n",
       "      <td>-0.036029</td>\n",
       "      <td>0.037530</td>\n",
       "      <td>-0.009246</td>\n",
       "      <td>0.037763</td>\n",
       "      <td>-0.000437</td>\n",
       "      <td>-0.001345</td>\n",
       "      <td>-0.045465</td>\n",
       "      <td>-0.037698</td>\n",
       "      <td>-0.021485</td>\n",
       "      <td>-0.087152</td>\n",
       "      <td>-0.034124</td>\n",
       "      <td>0.022526</td>\n",
       "      <td>-0.212607</td>\n",
       "      <td>-0.117385</td>\n",
       "      <td>0.082788</td>\n",
       "      <td>-0.138271</td>\n",
       "      <td>0.024712</td>\n",
       "      <td>0.028642</td>\n",
       "      <td>-0.042238</td>\n",
       "      <td>1.000000</td>\n",
       "      <td>0.104681</td>\n",
       "      <td>-0.020753</td>\n",
       "      <td>0.046032</td>\n",
       "      <td>0.045967</td>\n",
       "      <td>0.054486</td>\n",
       "      <td>-0.009683</td>\n",
       "      <td>-0.080716</td>\n",
       "    </tr>\n",
       "    <tr>\n",
       "      <th>18</th>\n",
       "      <td>famsizeBinary</td>\n",
       "      <td>-0.037847</td>\n",
       "      <td>0.043068</td>\n",
       "      <td>0.058879</td>\n",
       "      <td>-0.063493</td>\n",
       "      <td>0.073595</td>\n",
       "      <td>0.015769</td>\n",
       "      <td>0.022776</td>\n",
       "      <td>-0.017695</td>\n",
       "      <td>-0.023064</td>\n",
       "      <td>-0.101521</td>\n",
       "      <td>-0.103425</td>\n",
       "      <td>0.028992</td>\n",
       "      <td>-0.035783</td>\n",
       "      <td>-0.071445</td>\n",
       "      <td>-0.081223</td>\n",
       "      <td>0.081407</td>\n",
       "      <td>-0.089862</td>\n",
       "      <td>-0.072472</td>\n",
       "      <td>1.000000</td>\n",
       "      <td>0.149612</td>\n",
       "      <td>0.028642</td>\n",
       "      <td>0.112893</td>\n",
       "      <td>0.013882</td>\n",
       "      <td>0.000113</td>\n",
       "      <td>-0.102088</td>\n",
       "      <td>0.005806</td>\n",
       "      <td>-0.000720</td>\n",
       "      <td>-0.034395</td>\n",
       "    </tr>\n",
       "    <tr>\n",
       "      <th>11</th>\n",
       "      <td>health</td>\n",
       "      <td>-0.062187</td>\n",
       "      <td>-0.046878</td>\n",
       "      <td>0.014742</td>\n",
       "      <td>0.007501</td>\n",
       "      <td>-0.075616</td>\n",
       "      <td>0.065827</td>\n",
       "      <td>0.094056</td>\n",
       "      <td>0.075733</td>\n",
       "      <td>-0.009577</td>\n",
       "      <td>0.077180</td>\n",
       "      <td>0.092476</td>\n",
       "      <td>1.000000</td>\n",
       "      <td>-0.029937</td>\n",
       "      <td>-0.073172</td>\n",
       "      <td>-0.097720</td>\n",
       "      <td>0.061335</td>\n",
       "      <td>0.143588</td>\n",
       "      <td>-0.040355</td>\n",
       "      <td>0.028992</td>\n",
       "      <td>0.022307</td>\n",
       "      <td>-0.034124</td>\n",
       "      <td>0.029297</td>\n",
       "      <td>-0.078132</td>\n",
       "      <td>0.023923</td>\n",
       "      <td>-0.018475</td>\n",
       "      <td>-0.015895</td>\n",
       "      <td>-0.080189</td>\n",
       "      <td>0.026342</td>\n",
       "    </tr>\n",
       "    <tr>\n",
       "      <th>19</th>\n",
       "      <td>PstatusBinary</td>\n",
       "      <td>0.029598</td>\n",
       "      <td>-0.123565</td>\n",
       "      <td>-0.088730</td>\n",
       "      <td>0.028265</td>\n",
       "      <td>0.024294</td>\n",
       "      <td>-0.003339</td>\n",
       "      <td>0.025179</td>\n",
       "      <td>0.038717</td>\n",
       "      <td>0.003459</td>\n",
       "      <td>-0.030590</td>\n",
       "      <td>0.006045</td>\n",
       "      <td>0.022307</td>\n",
       "      <td>-0.134937</td>\n",
       "      <td>-0.016868</td>\n",
       "      <td>-0.041382</td>\n",
       "      <td>0.058009</td>\n",
       "      <td>0.023443</td>\n",
       "      <td>-0.042572</td>\n",
       "      <td>0.149612</td>\n",
       "      <td>1.000000</td>\n",
       "      <td>-0.042238</td>\n",
       "      <td>0.019067</td>\n",
       "      <td>0.046435</td>\n",
       "      <td>0.097352</td>\n",
       "      <td>-0.090615</td>\n",
       "      <td>-0.040735</td>\n",
       "      <td>0.070074</td>\n",
       "      <td>-0.040451</td>\n",
       "    </tr>\n",
       "    <tr>\n",
       "      <th>9</th>\n",
       "      <td>Dalc</td>\n",
       "      <td>0.131125</td>\n",
       "      <td>0.019834</td>\n",
       "      <td>0.002386</td>\n",
       "      <td>0.138325</td>\n",
       "      <td>-0.196019</td>\n",
       "      <td>0.136047</td>\n",
       "      <td>-0.077594</td>\n",
       "      <td>0.209001</td>\n",
       "      <td>0.266994</td>\n",
       "      <td>1.000000</td>\n",
       "      <td>0.647544</td>\n",
       "      <td>0.077180</td>\n",
       "      <td>0.111908</td>\n",
       "      <td>-0.094159</td>\n",
       "      <td>-0.064120</td>\n",
       "      <td>0.054660</td>\n",
       "      <td>0.268171</td>\n",
       "      <td>-0.093494</td>\n",
       "      <td>-0.101521</td>\n",
       "      <td>-0.030590</td>\n",
       "      <td>-0.021485</td>\n",
       "      <td>-0.031575</td>\n",
       "      <td>0.062465</td>\n",
       "      <td>-0.066508</td>\n",
       "      <td>-0.084849</td>\n",
       "      <td>-0.069828</td>\n",
       "      <td>0.036210</td>\n",
       "      <td>0.015121</td>\n",
       "    </tr>\n",
       "    <tr>\n",
       "      <th>10</th>\n",
       "      <td>Walc</td>\n",
       "      <td>0.117276</td>\n",
       "      <td>-0.047123</td>\n",
       "      <td>-0.012631</td>\n",
       "      <td>0.134116</td>\n",
       "      <td>-0.253785</td>\n",
       "      <td>0.141962</td>\n",
       "      <td>-0.113397</td>\n",
       "      <td>0.147822</td>\n",
       "      <td>0.420386</td>\n",
       "      <td>0.647544</td>\n",
       "      <td>1.000000</td>\n",
       "      <td>0.092476</td>\n",
       "      <td>0.136291</td>\n",
       "      <td>-0.126179</td>\n",
       "      <td>-0.084927</td>\n",
       "      <td>0.051939</td>\n",
       "      <td>0.274194</td>\n",
       "      <td>-0.101126</td>\n",
       "      <td>-0.103425</td>\n",
       "      <td>0.006045</td>\n",
       "      <td>-0.087152</td>\n",
       "      <td>-0.086688</td>\n",
       "      <td>0.060454</td>\n",
       "      <td>-0.037477</td>\n",
       "      <td>-0.099534</td>\n",
       "      <td>-0.100340</td>\n",
       "      <td>0.011687</td>\n",
       "      <td>-0.010141</td>\n",
       "    </tr>\n",
       "    <tr>\n",
       "      <th>24</th>\n",
       "      <td>nurseryBinary</td>\n",
       "      <td>-0.086632</td>\n",
       "      <td>0.193263</td>\n",
       "      <td>0.157177</td>\n",
       "      <td>-0.033338</td>\n",
       "      <td>0.081325</td>\n",
       "      <td>-0.100734</td>\n",
       "      <td>-0.003581</td>\n",
       "      <td>-0.024696</td>\n",
       "      <td>0.004612</td>\n",
       "      <td>-0.084849</td>\n",
       "      <td>-0.099534</td>\n",
       "      <td>-0.018475</td>\n",
       "      <td>0.019155</td>\n",
       "      <td>0.069263</td>\n",
       "      <td>0.068146</td>\n",
       "      <td>0.051568</td>\n",
       "      <td>-0.008203</td>\n",
       "      <td>0.059589</td>\n",
       "      <td>-0.102088</td>\n",
       "      <td>-0.090615</td>\n",
       "      <td>0.045967</td>\n",
       "      <td>0.059536</td>\n",
       "      <td>0.102143</td>\n",
       "      <td>0.002731</td>\n",
       "      <td>1.000000</td>\n",
       "      <td>0.054303</td>\n",
       "      <td>0.007830</td>\n",
       "      <td>0.027495</td>\n",
       "    </tr>\n",
       "    <tr>\n",
       "      <th>6</th>\n",
       "      <td>famrel</td>\n",
       "      <td>0.053940</td>\n",
       "      <td>-0.003914</td>\n",
       "      <td>-0.001370</td>\n",
       "      <td>-0.016808</td>\n",
       "      <td>0.039731</td>\n",
       "      <td>-0.044337</td>\n",
       "      <td>1.000000</td>\n",
       "      <td>0.150701</td>\n",
       "      <td>0.064568</td>\n",
       "      <td>-0.077594</td>\n",
       "      <td>-0.113397</td>\n",
       "      <td>0.094056</td>\n",
       "      <td>-0.044354</td>\n",
       "      <td>0.022168</td>\n",
       "      <td>-0.018281</td>\n",
       "      <td>0.051363</td>\n",
       "      <td>0.058971</td>\n",
       "      <td>0.014258</td>\n",
       "      <td>0.022776</td>\n",
       "      <td>0.025179</td>\n",
       "      <td>-0.001345</td>\n",
       "      <td>-0.020436</td>\n",
       "      <td>0.000460</td>\n",
       "      <td>0.040687</td>\n",
       "      <td>-0.003581</td>\n",
       "      <td>0.024319</td>\n",
       "      <td>0.032768</td>\n",
       "      <td>-0.063816</td>\n",
       "    </tr>\n",
       "    <tr>\n",
       "      <th>21</th>\n",
       "      <td>famsupBinary</td>\n",
       "      <td>-0.140609</td>\n",
       "      <td>0.183727</td>\n",
       "      <td>0.185496</td>\n",
       "      <td>-0.003286</td>\n",
       "      <td>0.145228</td>\n",
       "      <td>-0.055075</td>\n",
       "      <td>-0.020436</td>\n",
       "      <td>0.010538</td>\n",
       "      <td>-0.015631</td>\n",
       "      <td>-0.031575</td>\n",
       "      <td>-0.086688</td>\n",
       "      <td>0.029297</td>\n",
       "      <td>0.024353</td>\n",
       "      <td>-0.084569</td>\n",
       "      <td>-0.059166</td>\n",
       "      <td>0.039157</td>\n",
       "      <td>-0.151623</td>\n",
       "      <td>0.023903</td>\n",
       "      <td>0.112893</td>\n",
       "      <td>0.019067</td>\n",
       "      <td>0.104681</td>\n",
       "      <td>1.000000</td>\n",
       "      <td>0.293184</td>\n",
       "      <td>-0.001500</td>\n",
       "      <td>0.059536</td>\n",
       "      <td>0.100815</td>\n",
       "      <td>0.103581</td>\n",
       "      <td>0.012440</td>\n",
       "    </tr>\n",
       "    <tr>\n",
       "      <th>12</th>\n",
       "      <td>absences</td>\n",
       "      <td>0.175230</td>\n",
       "      <td>0.100285</td>\n",
       "      <td>0.024473</td>\n",
       "      <td>-0.012944</td>\n",
       "      <td>-0.062700</td>\n",
       "      <td>0.063726</td>\n",
       "      <td>-0.044354</td>\n",
       "      <td>-0.058078</td>\n",
       "      <td>0.044302</td>\n",
       "      <td>0.111908</td>\n",
       "      <td>0.136291</td>\n",
       "      <td>-0.029937</td>\n",
       "      <td>1.000000</td>\n",
       "      <td>-0.031003</td>\n",
       "      <td>-0.031777</td>\n",
       "      <td>0.034247</td>\n",
       "      <td>-0.066962</td>\n",
       "      <td>-0.027874</td>\n",
       "      <td>-0.035783</td>\n",
       "      <td>-0.134937</td>\n",
       "      <td>0.022526</td>\n",
       "      <td>0.024353</td>\n",
       "      <td>0.007435</td>\n",
       "      <td>-0.013610</td>\n",
       "      <td>0.019155</td>\n",
       "      <td>-0.056085</td>\n",
       "      <td>0.101701</td>\n",
       "      <td>0.153384</td>\n",
       "    </tr>\n",
       "    <tr>\n",
       "      <th>23</th>\n",
       "      <td>activitesBinary</td>\n",
       "      <td>-0.103063</td>\n",
       "      <td>0.108277</td>\n",
       "      <td>0.112643</td>\n",
       "      <td>-0.007766</td>\n",
       "      <td>0.089877</td>\n",
       "      <td>-0.069341</td>\n",
       "      <td>0.040687</td>\n",
       "      <td>0.089728</td>\n",
       "      <td>0.046088</td>\n",
       "      <td>-0.066508</td>\n",
       "      <td>-0.037477</td>\n",
       "      <td>0.023923</td>\n",
       "      <td>-0.013610</td>\n",
       "      <td>0.057010</td>\n",
       "      <td>0.050552</td>\n",
       "      <td>0.016100</td>\n",
       "      <td>0.099833</td>\n",
       "      <td>-0.051360</td>\n",
       "      <td>0.000113</td>\n",
       "      <td>0.097352</td>\n",
       "      <td>0.046032</td>\n",
       "      <td>-0.001500</td>\n",
       "      <td>-0.021382</td>\n",
       "      <td>1.000000</td>\n",
       "      <td>0.002731</td>\n",
       "      <td>0.096484</td>\n",
       "      <td>0.048663</td>\n",
       "      <td>0.019651</td>\n",
       "    </tr>\n",
       "    <tr>\n",
       "      <th>7</th>\n",
       "      <td>freetime</td>\n",
       "      <td>0.016434</td>\n",
       "      <td>0.030891</td>\n",
       "      <td>-0.012846</td>\n",
       "      <td>-0.017025</td>\n",
       "      <td>-0.143198</td>\n",
       "      <td>0.091987</td>\n",
       "      <td>0.150701</td>\n",
       "      <td>1.000000</td>\n",
       "      <td>0.285019</td>\n",
       "      <td>0.209001</td>\n",
       "      <td>0.147822</td>\n",
       "      <td>0.075733</td>\n",
       "      <td>-0.058078</td>\n",
       "      <td>0.012613</td>\n",
       "      <td>-0.013777</td>\n",
       "      <td>0.011307</td>\n",
       "      <td>0.238744</td>\n",
       "      <td>0.034878</td>\n",
       "      <td>-0.017695</td>\n",
       "      <td>0.038717</td>\n",
       "      <td>-0.045465</td>\n",
       "      <td>0.010538</td>\n",
       "      <td>-0.064253</td>\n",
       "      <td>0.089728</td>\n",
       "      <td>-0.024696</td>\n",
       "      <td>-0.061244</td>\n",
       "      <td>0.051286</td>\n",
       "      <td>-0.011182</td>\n",
       "    </tr>\n",
       "  </tbody>\n",
       "</table>\n",
       "</div>"
      ],
      "text/plain": [
       "              index       age      Medu      Fedu  traveltime  studytime  \\\n",
       "15               G3 -0.161579  0.217147  0.152457   -0.117142   0.097820   \n",
       "14               G2 -0.143474  0.215527  0.164893   -0.153198   0.135880   \n",
       "13               G1 -0.064081  0.205341  0.190270   -0.093040   0.160612   \n",
       "5          failures  0.243665 -0.236680 -0.250408    0.092239  -0.173563   \n",
       "1              Medu -0.163658  1.000000  0.623455   -0.171639   0.064944   \n",
       "25     higherBinary -0.209081  0.168845  0.174566   -0.083508   0.175081   \n",
       "0               age  1.000000 -0.163658 -0.163438    0.070641  -0.004140   \n",
       "2              Fedu -0.163438  0.623455  1.000000   -0.158194  -0.009175   \n",
       "8             goout  0.126964  0.064094  0.043105    0.028540  -0.063904   \n",
       "27    romaticBinary  0.164669  0.039681  0.015602    0.021962   0.053285   \n",
       "3        traveltime  0.070641 -0.171639 -0.158194    1.000000  -0.100909   \n",
       "17    addressBinary -0.146722  0.138804  0.072178   -0.328096  -0.020912   \n",
       "16        sexBinary -0.028606  0.078228  0.034878    0.059722  -0.306268   \n",
       "22       paidBinary -0.035933  0.159700  0.086981   -0.066420   0.167220   \n",
       "26   internetBinary -0.112094  0.201463  0.127507   -0.111302   0.059422   \n",
       "4         studytime -0.004140  0.064944 -0.009175   -0.100909   1.000000   \n",
       "20  schoolsupBinary -0.251811 -0.036029  0.037530   -0.009246   0.037763   \n",
       "18    famsizeBinary -0.037847  0.043068  0.058879   -0.063493   0.073595   \n",
       "11           health -0.062187 -0.046878  0.014742    0.007501  -0.075616   \n",
       "19    PstatusBinary  0.029598 -0.123565 -0.088730    0.028265   0.024294   \n",
       "9              Dalc  0.131125  0.019834  0.002386    0.138325  -0.196019   \n",
       "10             Walc  0.117276 -0.047123 -0.012631    0.134116  -0.253785   \n",
       "24    nurseryBinary -0.086632  0.193263  0.157177   -0.033338   0.081325   \n",
       "6            famrel  0.053940 -0.003914 -0.001370   -0.016808   0.039731   \n",
       "21     famsupBinary -0.140609  0.183727  0.185496   -0.003286   0.145228   \n",
       "12         absences  0.175230  0.100285  0.024473   -0.012944  -0.062700   \n",
       "23  activitesBinary -0.103063  0.108277  0.112643   -0.007766   0.089877   \n",
       "7          freetime  0.016434  0.030891 -0.012846   -0.017025  -0.143198   \n",
       "\n",
       "    failures    famrel  freetime     goout      Dalc      Walc    health  \\\n",
       "15 -0.360415  0.051363  0.011307 -0.132791 -0.054660 -0.051939 -0.061335   \n",
       "14 -0.355896 -0.018281 -0.013777 -0.162250 -0.064120 -0.084927 -0.097720   \n",
       "13 -0.354718  0.022168  0.012613 -0.149104 -0.094159 -0.126179 -0.073172   \n",
       "5   1.000000 -0.044337  0.091987  0.124561  0.136047  0.141962  0.065827   \n",
       "1  -0.236680 -0.003914  0.030891  0.064094  0.019834 -0.047123 -0.046878   \n",
       "25 -0.300316  0.024319 -0.061244 -0.039700 -0.069828 -0.100340 -0.015895   \n",
       "0   0.243665  0.053940  0.016434  0.126964  0.131125  0.117276 -0.062187   \n",
       "2  -0.250408 -0.001370 -0.012846  0.043105  0.002386 -0.012631  0.014742   \n",
       "8   0.124561  0.064568  0.285019  1.000000  0.266994  0.420386 -0.009577   \n",
       "27  0.093137 -0.063816 -0.011182  0.007870  0.015121 -0.010141  0.026342   \n",
       "3   0.092239 -0.016808 -0.017025  0.028540  0.138325  0.134116  0.007501   \n",
       "17 -0.078578  0.014258  0.034878  0.068835 -0.093494 -0.101126 -0.040355   \n",
       "16  0.044436  0.058971  0.238744  0.075897  0.268171  0.274194  0.143588   \n",
       "22 -0.188039  0.000460 -0.064253  0.010493  0.062465  0.060454 -0.078132   \n",
       "26 -0.063451  0.032768  0.051286  0.074370  0.036210  0.011687 -0.080189   \n",
       "4  -0.173563  0.039731 -0.143198 -0.063904 -0.196019 -0.253785 -0.075616   \n",
       "20 -0.000437 -0.001345 -0.045465 -0.037698 -0.021485 -0.087152 -0.034124   \n",
       "18  0.015769  0.022776 -0.017695 -0.023064 -0.101521 -0.103425  0.028992   \n",
       "11  0.065827  0.094056  0.075733 -0.009577  0.077180  0.092476  1.000000   \n",
       "19 -0.003339  0.025179  0.038717  0.003459 -0.030590  0.006045  0.022307   \n",
       "9   0.136047 -0.077594  0.209001  0.266994  1.000000  0.647544  0.077180   \n",
       "10  0.141962 -0.113397  0.147822  0.420386  0.647544  1.000000  0.092476   \n",
       "24 -0.100734 -0.003581 -0.024696  0.004612 -0.084849 -0.099534 -0.018475   \n",
       "6  -0.044337  1.000000  0.150701  0.064568 -0.077594 -0.113397  0.094056   \n",
       "21 -0.055075 -0.020436  0.010538 -0.015631 -0.031575 -0.086688  0.029297   \n",
       "12  0.063726 -0.044354 -0.058078  0.044302  0.111908  0.136291 -0.029937   \n",
       "23 -0.069341  0.040687  0.089728  0.046088 -0.066508 -0.037477  0.023923   \n",
       "7   0.091987  0.150701  1.000000  0.285019  0.209001  0.147822  0.075733   \n",
       "\n",
       "    absences        G1        G2        G3  sexBinary  addressBinary  \\\n",
       "15  0.034247  0.801468  0.904868  1.000000   0.103456       0.105756   \n",
       "14 -0.031777  0.852118  1.000000  0.904868   0.091099       0.126037   \n",
       "13 -0.031003  1.000000  0.852118  0.801468   0.091839       0.069704   \n",
       "5   0.063726 -0.354718 -0.355896  0.360415   0.044436      -0.078578   \n",
       "1   0.100285  0.205341  0.215527  0.217147   0.078228       0.138804   \n",
       "25 -0.056085  0.178264  0.179129  0.182465  -0.151056       0.042854   \n",
       "0   0.175230 -0.064081 -0.143474  0.161579  -0.028606      -0.146722   \n",
       "2   0.024473  0.190270  0.164893  0.152457   0.034878       0.072178   \n",
       "8   0.044302 -0.149104 -0.162250  0.132791   0.075897       0.068835   \n",
       "27  0.153384 -0.037188 -0.111774  0.129970  -0.102023       0.005257   \n",
       "3  -0.012944 -0.093040 -0.153198  0.117142   0.059722      -0.328096   \n",
       "17 -0.027874  0.069704  0.126037  0.105756  -0.028504       1.000000   \n",
       "16 -0.066962  0.091839  0.091099  0.103456   1.000000      -0.028504   \n",
       "22  0.007435  0.039079  0.105198  0.101996  -0.129126       0.052800   \n",
       "26  0.101701  0.071619  0.119439  0.098483   0.044113       0.216842   \n",
       "4  -0.062700  0.160612  0.135880  0.097820  -0.306268      -0.020912   \n",
       "20  0.022526 -0.212607 -0.117385  0.082788  -0.138271       0.024712   \n",
       "18 -0.035783 -0.071445 -0.081223  0.081407  -0.089862      -0.072472   \n",
       "11 -0.029937 -0.073172 -0.097720  0.061335   0.143588      -0.040355   \n",
       "19 -0.134937 -0.016868 -0.041382  0.058009   0.023443      -0.042572   \n",
       "9   0.111908 -0.094159 -0.064120  0.054660   0.268171      -0.093494   \n",
       "10  0.136291 -0.126179 -0.084927  0.051939   0.274194      -0.101126   \n",
       "24  0.019155  0.069263  0.068146  0.051568  -0.008203       0.059589   \n",
       "6  -0.044354  0.022168 -0.018281  0.051363   0.058971       0.014258   \n",
       "21  0.024353 -0.084569 -0.059166  0.039157  -0.151623       0.023903   \n",
       "12  1.000000 -0.031003 -0.031777  0.034247  -0.066962      -0.027874   \n",
       "23 -0.013610  0.057010  0.050552  0.016100   0.099833      -0.051360   \n",
       "7  -0.058078  0.012613 -0.013777  0.011307   0.238744       0.034878   \n",
       "\n",
       "    famsizeBinary  PstatusBinary  schoolsupBinary  famsupBinary  paidBinary  \\\n",
       "15      -0.081407      -0.058009        -0.082788     -0.039157    0.101996   \n",
       "14      -0.081223      -0.041382        -0.117385     -0.059166    0.105198   \n",
       "13      -0.071445      -0.016868        -0.212607     -0.084569    0.039079   \n",
       "5        0.015769      -0.003339        -0.000437     -0.055075   -0.188039   \n",
       "1        0.043068      -0.123565        -0.036029      0.183727    0.159700   \n",
       "25       0.005806      -0.040735         0.054486      0.100815    0.189214   \n",
       "0       -0.037847       0.029598        -0.251811     -0.140609   -0.035933   \n",
       "2        0.058879      -0.088730         0.037530      0.185496    0.086981   \n",
       "8       -0.023064       0.003459        -0.037698     -0.015631    0.010493   \n",
       "27      -0.034395      -0.040451        -0.080716      0.012440    0.005536   \n",
       "3       -0.063493       0.028265        -0.009246     -0.003286   -0.066420   \n",
       "17      -0.072472      -0.042572         0.024712      0.023903    0.052800   \n",
       "16      -0.089862       0.023443        -0.138271     -0.151623   -0.129126   \n",
       "22       0.013882       0.046435        -0.020753      0.293184    1.000000   \n",
       "26      -0.000720       0.070074        -0.009683      0.103581    0.153132   \n",
       "4        0.073595       0.024294         0.037763      0.145228    0.167220   \n",
       "20       0.028642      -0.042238         1.000000      0.104681   -0.020753   \n",
       "18       1.000000       0.149612         0.028642      0.112893    0.013882   \n",
       "11       0.028992       0.022307        -0.034124      0.029297   -0.078132   \n",
       "19       0.149612       1.000000        -0.042238      0.019067    0.046435   \n",
       "9       -0.101521      -0.030590        -0.021485     -0.031575    0.062465   \n",
       "10      -0.103425       0.006045        -0.087152     -0.086688    0.060454   \n",
       "24      -0.102088      -0.090615         0.045967      0.059536    0.102143   \n",
       "6        0.022776       0.025179        -0.001345     -0.020436    0.000460   \n",
       "21       0.112893       0.019067         0.104681      1.000000    0.293184   \n",
       "12      -0.035783      -0.134937         0.022526      0.024353    0.007435   \n",
       "23       0.000113       0.097352         0.046032     -0.001500   -0.021382   \n",
       "7       -0.017695       0.038717        -0.045465      0.010538   -0.064253   \n",
       "\n",
       "    activitesBinary  nurseryBinary  higherBinary  internetBinary  \\\n",
       "15         0.016100       0.051568      0.182465        0.098483   \n",
       "14         0.050552       0.068146      0.179129        0.119439   \n",
       "13         0.057010       0.069263      0.178264        0.071619   \n",
       "5         -0.069341      -0.100734     -0.300316       -0.063451   \n",
       "1          0.108277       0.193263      0.168845        0.201463   \n",
       "25         0.096484       0.054303      1.000000        0.020374   \n",
       "0         -0.103063      -0.086632     -0.209081       -0.112094   \n",
       "2          0.112643       0.157177      0.174566        0.127507   \n",
       "8          0.046088       0.004612     -0.039700        0.074370   \n",
       "27         0.019651       0.027495     -0.105664        0.087122   \n",
       "3         -0.007766      -0.033338     -0.083508       -0.111302   \n",
       "17        -0.051360       0.059589      0.042854        0.216842   \n",
       "16         0.099833      -0.008203     -0.151056        0.044113   \n",
       "22        -0.021382       0.102143      0.189214        0.153132   \n",
       "26         0.048663       0.007830      0.020374        1.000000   \n",
       "4          0.089877       0.081325      0.175081        0.059422   \n",
       "20         0.046032       0.045967      0.054486       -0.009683   \n",
       "18         0.000113      -0.102088      0.005806       -0.000720   \n",
       "11         0.023923      -0.018475     -0.015895       -0.080189   \n",
       "19         0.097352      -0.090615     -0.040735        0.070074   \n",
       "9         -0.066508      -0.084849     -0.069828        0.036210   \n",
       "10        -0.037477      -0.099534     -0.100340        0.011687   \n",
       "24         0.002731       1.000000      0.054303        0.007830   \n",
       "6          0.040687      -0.003581      0.024319        0.032768   \n",
       "21        -0.001500       0.059536      0.100815        0.103581   \n",
       "12        -0.013610       0.019155     -0.056085        0.101701   \n",
       "23         1.000000       0.002731      0.096484        0.048663   \n",
       "7          0.089728      -0.024696     -0.061244        0.051286   \n",
       "\n",
       "    romaticBinary  \n",
       "15      -0.129970  \n",
       "14      -0.111774  \n",
       "13      -0.037188  \n",
       "5        0.093137  \n",
       "1        0.039681  \n",
       "25      -0.105664  \n",
       "0        0.164669  \n",
       "2        0.015602  \n",
       "8        0.007870  \n",
       "27       1.000000  \n",
       "3        0.021962  \n",
       "17       0.005257  \n",
       "16      -0.102023  \n",
       "22       0.005536  \n",
       "26       0.087122  \n",
       "4        0.053285  \n",
       "20      -0.080716  \n",
       "18      -0.034395  \n",
       "11       0.026342  \n",
       "19      -0.040451  \n",
       "9        0.015121  \n",
       "10      -0.010141  \n",
       "24       0.027495  \n",
       "6       -0.063816  \n",
       "21       0.012440  \n",
       "12       0.153384  \n",
       "23       0.019651  \n",
       "7       -0.011182  "
      ]
     },
     "execution_count": 17,
     "metadata": {},
     "output_type": "execute_result"
    }
   ],
   "source": [
    "datencorr = daten.corr().reset_index()\n",
    "datencorr['G3'] = abs(datencorr.G3)\n",
    "datencorr = datencorr.sort_values('G3',ascending=False)\n",
    "datencorr"
   ]
  },
  {
   "cell_type": "code",
   "execution_count": 25,
   "metadata": {},
   "outputs": [
    {
     "data": {
      "application/vnd.plotly.v1+json": {
       "config": {
        "plotlyServerURL": "https://plot.ly"
       },
       "data": [
        {
         "alignmentgroup": "True",
         "hovertemplate": "Variables=%{x}<br>Correlation with G3=%{y}<extra></extra>",
         "legendgroup": "",
         "marker": {
          "color": "#636efa",
          "line": {
           "color": "black"
          }
         },
         "name": "",
         "offsetgroup": "",
         "orientation": "v",
         "showlegend": false,
         "textposition": "auto",
         "type": "bar",
         "x": [
          "G3",
          "G2",
          "G1",
          "failures",
          "Medu",
          "higherBinary",
          "age",
          "Fedu",
          "goout",
          "romaticBinary",
          "traveltime",
          "addressBinary",
          "sexBinary",
          "paidBinary",
          "internetBinary",
          "studytime",
          "schoolsupBinary",
          "famsizeBinary",
          "health",
          "PstatusBinary",
          "Dalc",
          "Walc",
          "nurseryBinary",
          "famrel",
          "famsupBinary",
          "absences",
          "activitesBinary",
          "freetime"
         ],
         "xaxis": "x",
         "y": [
          1,
          0.9048679892693002,
          0.8014679320174145,
          0.3604149404616496,
          0.21714749613860562,
          0.18246461785815776,
          0.1615794381383403,
          0.15245693890425888,
          0.13279147350332884,
          0.12996995016344992,
          0.11714205281614884,
          0.10575606393084064,
          0.1034556474663929,
          0.10199624071669915,
          0.09848337126072902,
          0.09781968965319622,
          0.08278821499316352,
          0.0814071097725543,
          0.06133460487712118,
          0.05800898495931138,
          0.0546600405667359,
          0.05193932374224616,
          0.05156790091091759,
          0.0513634288812822,
          0.039157145237904825,
          0.03424731615006925,
          0.01609970129581426,
          0.011307240308312975
         ],
         "yaxis": "y"
        }
       ],
       "layout": {
        "autosize": true,
        "barmode": "relative",
        "legend": {
         "tracegroupgap": 0
        },
        "margin": {
         "t": 60
        },
        "template": {
         "data": {
          "bar": [
           {
            "error_x": {
             "color": "#2a3f5f"
            },
            "error_y": {
             "color": "#2a3f5f"
            },
            "marker": {
             "line": {
              "color": "#E5ECF6",
              "width": 0.5
             }
            },
            "type": "bar"
           }
          ],
          "barpolar": [
           {
            "marker": {
             "line": {
              "color": "#E5ECF6",
              "width": 0.5
             }
            },
            "type": "barpolar"
           }
          ],
          "carpet": [
           {
            "aaxis": {
             "endlinecolor": "#2a3f5f",
             "gridcolor": "white",
             "linecolor": "white",
             "minorgridcolor": "white",
             "startlinecolor": "#2a3f5f"
            },
            "baxis": {
             "endlinecolor": "#2a3f5f",
             "gridcolor": "white",
             "linecolor": "white",
             "minorgridcolor": "white",
             "startlinecolor": "#2a3f5f"
            },
            "type": "carpet"
           }
          ],
          "choropleth": [
           {
            "colorbar": {
             "outlinewidth": 0,
             "ticks": ""
            },
            "type": "choropleth"
           }
          ],
          "contour": [
           {
            "colorbar": {
             "outlinewidth": 0,
             "ticks": ""
            },
            "colorscale": [
             [
              0,
              "#0d0887"
             ],
             [
              0.1111111111111111,
              "#46039f"
             ],
             [
              0.2222222222222222,
              "#7201a8"
             ],
             [
              0.3333333333333333,
              "#9c179e"
             ],
             [
              0.4444444444444444,
              "#bd3786"
             ],
             [
              0.5555555555555556,
              "#d8576b"
             ],
             [
              0.6666666666666666,
              "#ed7953"
             ],
             [
              0.7777777777777778,
              "#fb9f3a"
             ],
             [
              0.8888888888888888,
              "#fdca26"
             ],
             [
              1,
              "#f0f921"
             ]
            ],
            "type": "contour"
           }
          ],
          "contourcarpet": [
           {
            "colorbar": {
             "outlinewidth": 0,
             "ticks": ""
            },
            "type": "contourcarpet"
           }
          ],
          "heatmap": [
           {
            "colorbar": {
             "outlinewidth": 0,
             "ticks": ""
            },
            "colorscale": [
             [
              0,
              "#0d0887"
             ],
             [
              0.1111111111111111,
              "#46039f"
             ],
             [
              0.2222222222222222,
              "#7201a8"
             ],
             [
              0.3333333333333333,
              "#9c179e"
             ],
             [
              0.4444444444444444,
              "#bd3786"
             ],
             [
              0.5555555555555556,
              "#d8576b"
             ],
             [
              0.6666666666666666,
              "#ed7953"
             ],
             [
              0.7777777777777778,
              "#fb9f3a"
             ],
             [
              0.8888888888888888,
              "#fdca26"
             ],
             [
              1,
              "#f0f921"
             ]
            ],
            "type": "heatmap"
           }
          ],
          "heatmapgl": [
           {
            "colorbar": {
             "outlinewidth": 0,
             "ticks": ""
            },
            "colorscale": [
             [
              0,
              "#0d0887"
             ],
             [
              0.1111111111111111,
              "#46039f"
             ],
             [
              0.2222222222222222,
              "#7201a8"
             ],
             [
              0.3333333333333333,
              "#9c179e"
             ],
             [
              0.4444444444444444,
              "#bd3786"
             ],
             [
              0.5555555555555556,
              "#d8576b"
             ],
             [
              0.6666666666666666,
              "#ed7953"
             ],
             [
              0.7777777777777778,
              "#fb9f3a"
             ],
             [
              0.8888888888888888,
              "#fdca26"
             ],
             [
              1,
              "#f0f921"
             ]
            ],
            "type": "heatmapgl"
           }
          ],
          "histogram": [
           {
            "marker": {
             "colorbar": {
              "outlinewidth": 0,
              "ticks": ""
             }
            },
            "type": "histogram"
           }
          ],
          "histogram2d": [
           {
            "colorbar": {
             "outlinewidth": 0,
             "ticks": ""
            },
            "colorscale": [
             [
              0,
              "#0d0887"
             ],
             [
              0.1111111111111111,
              "#46039f"
             ],
             [
              0.2222222222222222,
              "#7201a8"
             ],
             [
              0.3333333333333333,
              "#9c179e"
             ],
             [
              0.4444444444444444,
              "#bd3786"
             ],
             [
              0.5555555555555556,
              "#d8576b"
             ],
             [
              0.6666666666666666,
              "#ed7953"
             ],
             [
              0.7777777777777778,
              "#fb9f3a"
             ],
             [
              0.8888888888888888,
              "#fdca26"
             ],
             [
              1,
              "#f0f921"
             ]
            ],
            "type": "histogram2d"
           }
          ],
          "histogram2dcontour": [
           {
            "colorbar": {
             "outlinewidth": 0,
             "ticks": ""
            },
            "colorscale": [
             [
              0,
              "#0d0887"
             ],
             [
              0.1111111111111111,
              "#46039f"
             ],
             [
              0.2222222222222222,
              "#7201a8"
             ],
             [
              0.3333333333333333,
              "#9c179e"
             ],
             [
              0.4444444444444444,
              "#bd3786"
             ],
             [
              0.5555555555555556,
              "#d8576b"
             ],
             [
              0.6666666666666666,
              "#ed7953"
             ],
             [
              0.7777777777777778,
              "#fb9f3a"
             ],
             [
              0.8888888888888888,
              "#fdca26"
             ],
             [
              1,
              "#f0f921"
             ]
            ],
            "type": "histogram2dcontour"
           }
          ],
          "mesh3d": [
           {
            "colorbar": {
             "outlinewidth": 0,
             "ticks": ""
            },
            "type": "mesh3d"
           }
          ],
          "parcoords": [
           {
            "line": {
             "colorbar": {
              "outlinewidth": 0,
              "ticks": ""
             }
            },
            "type": "parcoords"
           }
          ],
          "pie": [
           {
            "automargin": true,
            "type": "pie"
           }
          ],
          "scatter": [
           {
            "marker": {
             "colorbar": {
              "outlinewidth": 0,
              "ticks": ""
             }
            },
            "type": "scatter"
           }
          ],
          "scatter3d": [
           {
            "line": {
             "colorbar": {
              "outlinewidth": 0,
              "ticks": ""
             }
            },
            "marker": {
             "colorbar": {
              "outlinewidth": 0,
              "ticks": ""
             }
            },
            "type": "scatter3d"
           }
          ],
          "scattercarpet": [
           {
            "marker": {
             "colorbar": {
              "outlinewidth": 0,
              "ticks": ""
             }
            },
            "type": "scattercarpet"
           }
          ],
          "scattergeo": [
           {
            "marker": {
             "colorbar": {
              "outlinewidth": 0,
              "ticks": ""
             }
            },
            "type": "scattergeo"
           }
          ],
          "scattergl": [
           {
            "marker": {
             "colorbar": {
              "outlinewidth": 0,
              "ticks": ""
             }
            },
            "type": "scattergl"
           }
          ],
          "scattermapbox": [
           {
            "marker": {
             "colorbar": {
              "outlinewidth": 0,
              "ticks": ""
             }
            },
            "type": "scattermapbox"
           }
          ],
          "scatterpolar": [
           {
            "marker": {
             "colorbar": {
              "outlinewidth": 0,
              "ticks": ""
             }
            },
            "type": "scatterpolar"
           }
          ],
          "scatterpolargl": [
           {
            "marker": {
             "colorbar": {
              "outlinewidth": 0,
              "ticks": ""
             }
            },
            "type": "scatterpolargl"
           }
          ],
          "scatterternary": [
           {
            "marker": {
             "colorbar": {
              "outlinewidth": 0,
              "ticks": ""
             }
            },
            "type": "scatterternary"
           }
          ],
          "surface": [
           {
            "colorbar": {
             "outlinewidth": 0,
             "ticks": ""
            },
            "colorscale": [
             [
              0,
              "#0d0887"
             ],
             [
              0.1111111111111111,
              "#46039f"
             ],
             [
              0.2222222222222222,
              "#7201a8"
             ],
             [
              0.3333333333333333,
              "#9c179e"
             ],
             [
              0.4444444444444444,
              "#bd3786"
             ],
             [
              0.5555555555555556,
              "#d8576b"
             ],
             [
              0.6666666666666666,
              "#ed7953"
             ],
             [
              0.7777777777777778,
              "#fb9f3a"
             ],
             [
              0.8888888888888888,
              "#fdca26"
             ],
             [
              1,
              "#f0f921"
             ]
            ],
            "type": "surface"
           }
          ],
          "table": [
           {
            "cells": {
             "fill": {
              "color": "#EBF0F8"
             },
             "line": {
              "color": "white"
             }
            },
            "header": {
             "fill": {
              "color": "#C8D4E3"
             },
             "line": {
              "color": "white"
             }
            },
            "type": "table"
           }
          ]
         },
         "layout": {
          "annotationdefaults": {
           "arrowcolor": "#2a3f5f",
           "arrowhead": 0,
           "arrowwidth": 1
          },
          "autotypenumbers": "strict",
          "coloraxis": {
           "colorbar": {
            "outlinewidth": 0,
            "ticks": ""
           }
          },
          "colorscale": {
           "diverging": [
            [
             0,
             "#8e0152"
            ],
            [
             0.1,
             "#c51b7d"
            ],
            [
             0.2,
             "#de77ae"
            ],
            [
             0.3,
             "#f1b6da"
            ],
            [
             0.4,
             "#fde0ef"
            ],
            [
             0.5,
             "#f7f7f7"
            ],
            [
             0.6,
             "#e6f5d0"
            ],
            [
             0.7,
             "#b8e186"
            ],
            [
             0.8,
             "#7fbc41"
            ],
            [
             0.9,
             "#4d9221"
            ],
            [
             1,
             "#276419"
            ]
           ],
           "sequential": [
            [
             0,
             "#0d0887"
            ],
            [
             0.1111111111111111,
             "#46039f"
            ],
            [
             0.2222222222222222,
             "#7201a8"
            ],
            [
             0.3333333333333333,
             "#9c179e"
            ],
            [
             0.4444444444444444,
             "#bd3786"
            ],
            [
             0.5555555555555556,
             "#d8576b"
            ],
            [
             0.6666666666666666,
             "#ed7953"
            ],
            [
             0.7777777777777778,
             "#fb9f3a"
            ],
            [
             0.8888888888888888,
             "#fdca26"
            ],
            [
             1,
             "#f0f921"
            ]
           ],
           "sequentialminus": [
            [
             0,
             "#0d0887"
            ],
            [
             0.1111111111111111,
             "#46039f"
            ],
            [
             0.2222222222222222,
             "#7201a8"
            ],
            [
             0.3333333333333333,
             "#9c179e"
            ],
            [
             0.4444444444444444,
             "#bd3786"
            ],
            [
             0.5555555555555556,
             "#d8576b"
            ],
            [
             0.6666666666666666,
             "#ed7953"
            ],
            [
             0.7777777777777778,
             "#fb9f3a"
            ],
            [
             0.8888888888888888,
             "#fdca26"
            ],
            [
             1,
             "#f0f921"
            ]
           ]
          },
          "colorway": [
           "#636efa",
           "#EF553B",
           "#00cc96",
           "#ab63fa",
           "#FFA15A",
           "#19d3f3",
           "#FF6692",
           "#B6E880",
           "#FF97FF",
           "#FECB52"
          ],
          "font": {
           "color": "#2a3f5f"
          },
          "geo": {
           "bgcolor": "white",
           "lakecolor": "white",
           "landcolor": "#E5ECF6",
           "showlakes": true,
           "showland": true,
           "subunitcolor": "white"
          },
          "hoverlabel": {
           "align": "left"
          },
          "hovermode": "closest",
          "mapbox": {
           "style": "light"
          },
          "paper_bgcolor": "white",
          "plot_bgcolor": "#E5ECF6",
          "polar": {
           "angularaxis": {
            "gridcolor": "white",
            "linecolor": "white",
            "ticks": ""
           },
           "bgcolor": "#E5ECF6",
           "radialaxis": {
            "gridcolor": "white",
            "linecolor": "white",
            "ticks": ""
           }
          },
          "scene": {
           "xaxis": {
            "backgroundcolor": "#E5ECF6",
            "gridcolor": "white",
            "gridwidth": 2,
            "linecolor": "white",
            "showbackground": true,
            "ticks": "",
            "zerolinecolor": "white"
           },
           "yaxis": {
            "backgroundcolor": "#E5ECF6",
            "gridcolor": "white",
            "gridwidth": 2,
            "linecolor": "white",
            "showbackground": true,
            "ticks": "",
            "zerolinecolor": "white"
           },
           "zaxis": {
            "backgroundcolor": "#E5ECF6",
            "gridcolor": "white",
            "gridwidth": 2,
            "linecolor": "white",
            "showbackground": true,
            "ticks": "",
            "zerolinecolor": "white"
           }
          },
          "shapedefaults": {
           "line": {
            "color": "#2a3f5f"
           }
          },
          "ternary": {
           "aaxis": {
            "gridcolor": "white",
            "linecolor": "white",
            "ticks": ""
           },
           "baxis": {
            "gridcolor": "white",
            "linecolor": "white",
            "ticks": ""
           },
           "bgcolor": "#E5ECF6",
           "caxis": {
            "gridcolor": "white",
            "linecolor": "white",
            "ticks": ""
           }
          },
          "title": {
           "x": 0.05
          },
          "xaxis": {
           "automargin": true,
           "gridcolor": "white",
           "linecolor": "white",
           "ticks": "",
           "title": {
            "standoff": 15
           },
           "zerolinecolor": "white",
           "zerolinewidth": 2
          },
          "yaxis": {
           "automargin": true,
           "gridcolor": "white",
           "linecolor": "white",
           "ticks": "",
           "title": {
            "standoff": 15
           },
           "zerolinecolor": "white",
           "zerolinewidth": 2
          }
         }
        },
        "xaxis": {
         "anchor": "y",
         "autorange": true,
         "domain": [
          0,
          1
         ],
         "range": [
          -0.5,
          27.5
         ],
         "tickangle": 45,
         "tickfont": {
          "color": "black",
          "size": 13
         },
         "title": {
          "text": "Variables"
         },
         "type": "category"
        },
        "yaxis": {
         "anchor": "x",
         "autorange": true,
         "domain": [
          0,
          1
         ],
         "range": [
          0,
          1.0526315789473684
         ],
         "title": {
          "text": "Correlation with G3"
         },
         "type": "linear"
        }
       }
      },
      "image/png": "[encoded data removed]",
      "text/html": [
       "<div>                            <div id=\"59f6c8d5-4b6e-4f87-9fee-98a93dc2bf61\" class=\"plotly-graph-div\" style=\"height:700px; width:100%;\"></div>            <script type=\"text/javascript\">                require([\"plotly\"], function(Plotly) {                    window.PLOTLYENV=window.PLOTLYENV || {};                                    if (document.getElementById(\"59f6c8d5-4b6e-4f87-9fee-98a93dc2bf61\")) {                    Plotly.newPlot(                        \"59f6c8d5-4b6e-4f87-9fee-98a93dc2bf61\",                        [{\"alignmentgroup\": \"True\", \"hovertemplate\": \"Variables=%{x}<br>Correlation with G3=%{y}<extra></extra>\", \"legendgroup\": \"\", \"marker\": {\"color\": \"#636efa\", \"line\": {\"color\": \"black\"}}, \"name\": \"\", \"offsetgroup\": \"\", \"orientation\": \"v\", \"showlegend\": false, \"textposition\": \"auto\", \"type\": \"bar\", \"x\": [\"G3\", \"G2\", \"G1\", \"failures\", \"Medu\", \"higherBinary\", \"age\", \"Fedu\", \"goout\", \"romaticBinary\", \"traveltime\", \"addressBinary\", \"sexBinary\", \"paidBinary\", \"internetBinary\", \"studytime\", \"schoolsupBinary\", \"famsizeBinary\", \"health\", \"PstatusBinary\", \"Dalc\", \"Walc\", \"nurseryBinary\", \"famrel\", \"famsupBinary\", \"absences\", \"activitesBinary\", \"freetime\"], \"xaxis\": \"x\", \"y\": [1.0, 0.9048679892693002, 0.8014679320174145, 0.3604149404616496, 0.21714749613860562, 0.18246461785815776, 0.1615794381383403, 0.15245693890425888, 0.13279147350332884, 0.12996995016344992, 0.11714205281614884, 0.10575606393084064, 0.1034556474663929, 0.10199624071669915, 0.09848337126072902, 0.09781968965319622, 0.08278821499316352, 0.0814071097725543, 0.06133460487712118, 0.05800898495931138, 0.0546600405667359, 0.05193932374224616, 0.05156790091091759, 0.0513634288812822, 0.039157145237904825, 0.03424731615006925, 0.01609970129581426, 0.011307240308312975], \"yaxis\": \"y\"}],                        {\"barmode\": \"relative\", \"height\": 700, \"legend\": {\"tracegroupgap\": 0}, \"margin\": {\"t\": 60}, \"template\": {\"data\": {\"bar\": [{\"error_x\": {\"color\": \"#2a3f5f\"}, \"error_y\": {\"color\": \"#2a3f5f\"}, \"marker\": {\"line\": {\"color\": \"#E5ECF6\", \"width\": 0.5}}, \"type\": \"bar\"}], \"barpolar\": [{\"marker\": {\"line\": {\"color\": \"#E5ECF6\", \"width\": 0.5}}, \"type\": \"barpolar\"}], \"carpet\": [{\"aaxis\": {\"endlinecolor\": \"#2a3f5f\", \"gridcolor\": \"white\", \"linecolor\": \"white\", \"minorgridcolor\": \"white\", \"startlinecolor\": \"#2a3f5f\"}, \"baxis\": {\"endlinecolor\": \"#2a3f5f\", \"gridcolor\": \"white\", \"linecolor\": \"white\", \"minorgridcolor\": \"white\", \"startlinecolor\": \"#2a3f5f\"}, \"type\": \"carpet\"}], \"choropleth\": [{\"colorbar\": {\"outlinewidth\": 0, \"ticks\": \"\"}, \"type\": \"choropleth\"}], \"contour\": [{\"colorbar\": {\"outlinewidth\": 0, \"ticks\": \"\"}, \"colorscale\": [[0.0, \"#0d0887\"], [0.1111111111111111, \"#46039f\"], [0.2222222222222222, \"#7201a8\"], [0.3333333333333333, \"#9c179e\"], [0.4444444444444444, \"#bd3786\"], [0.5555555555555556, \"#d8576b\"], [0.6666666666666666, \"#ed7953\"], [0.7777777777777778, \"#fb9f3a\"], [0.8888888888888888, \"#fdca26\"], [1.0, \"#f0f921\"]], \"type\": \"contour\"}], \"contourcarpet\": [{\"colorbar\": {\"outlinewidth\": 0, \"ticks\": \"\"}, \"type\": \"contourcarpet\"}], \"heatmap\": [{\"colorbar\": {\"outlinewidth\": 0, \"ticks\": \"\"}, \"colorscale\": [[0.0, \"#0d0887\"], [0.1111111111111111, \"#46039f\"], [0.2222222222222222, \"#7201a8\"], [0.3333333333333333, \"#9c179e\"], [0.4444444444444444, \"#bd3786\"], [0.5555555555555556, \"#d8576b\"], [0.6666666666666666, \"#ed7953\"], [0.7777777777777778, \"#fb9f3a\"], [0.8888888888888888, \"#fdca26\"], [1.0, \"#f0f921\"]], \"type\": \"heatmap\"}], \"heatmapgl\": [{\"colorbar\": {\"outlinewidth\": 0, \"ticks\": \"\"}, \"colorscale\": [[0.0, \"#0d0887\"], [0.1111111111111111, \"#46039f\"], [0.2222222222222222, \"#7201a8\"], [0.3333333333333333, \"#9c179e\"], [0.4444444444444444, \"#bd3786\"], [0.5555555555555556, \"#d8576b\"], [0.6666666666666666, \"#ed7953\"], [0.7777777777777778, \"#fb9f3a\"], [0.8888888888888888, \"#fdca26\"], [1.0, \"#f0f921\"]], \"type\": \"heatmapgl\"}], \"histogram\": [{\"marker\": {\"colorbar\": {\"outlinewidth\": 0, \"ticks\": \"\"}}, \"type\": \"histogram\"}], \"histogram2d\": [{\"colorbar\": {\"outlinewidth\": 0, \"ticks\": \"\"}, \"colorscale\": [[0.0, \"#0d0887\"], [0.1111111111111111, \"#46039f\"], [0.2222222222222222, \"#7201a8\"], [0.3333333333333333, \"#9c179e\"], [0.4444444444444444, \"#bd3786\"], [0.5555555555555556, \"#d8576b\"], [0.6666666666666666, \"#ed7953\"], [0.7777777777777778, \"#fb9f3a\"], [0.8888888888888888, \"#fdca26\"], [1.0, \"#f0f921\"]], \"type\": \"histogram2d\"}], \"histogram2dcontour\": [{\"colorbar\": {\"outlinewidth\": 0, \"ticks\": \"\"}, \"colorscale\": [[0.0, \"#0d0887\"], [0.1111111111111111, \"#46039f\"], [0.2222222222222222, \"#7201a8\"], [0.3333333333333333, \"#9c179e\"], [0.4444444444444444, \"#bd3786\"], [0.5555555555555556, \"#d8576b\"], [0.6666666666666666, \"#ed7953\"], [0.7777777777777778, \"#fb9f3a\"], [0.8888888888888888, \"#fdca26\"], [1.0, \"#f0f921\"]], \"type\": \"histogram2dcontour\"}], \"mesh3d\": [{\"colorbar\": {\"outlinewidth\": 0, \"ticks\": \"\"}, \"type\": \"mesh3d\"}], \"parcoords\": [{\"line\": {\"colorbar\": {\"outlinewidth\": 0, \"ticks\": \"\"}}, \"type\": \"parcoords\"}], \"pie\": [{\"automargin\": true, \"type\": \"pie\"}], \"scatter\": [{\"marker\": {\"colorbar\": {\"outlinewidth\": 0, \"ticks\": \"\"}}, \"type\": \"scatter\"}], \"scatter3d\": [{\"line\": {\"colorbar\": {\"outlinewidth\": 0, \"ticks\": \"\"}}, \"marker\": {\"colorbar\": {\"outlinewidth\": 0, \"ticks\": \"\"}}, \"type\": \"scatter3d\"}], \"scattercarpet\": [{\"marker\": {\"colorbar\": {\"outlinewidth\": 0, \"ticks\": \"\"}}, \"type\": \"scattercarpet\"}], \"scattergeo\": [{\"marker\": {\"colorbar\": {\"outlinewidth\": 0, \"ticks\": \"\"}}, \"type\": \"scattergeo\"}], \"scattergl\": [{\"marker\": {\"colorbar\": {\"outlinewidth\": 0, \"ticks\": \"\"}}, \"type\": \"scattergl\"}], \"scattermapbox\": [{\"marker\": {\"colorbar\": {\"outlinewidth\": 0, \"ticks\": \"\"}}, \"type\": \"scattermapbox\"}], \"scatterpolar\": [{\"marker\": {\"colorbar\": {\"outlinewidth\": 0, \"ticks\": \"\"}}, \"type\": \"scatterpolar\"}], \"scatterpolargl\": [{\"marker\": {\"colorbar\": {\"outlinewidth\": 0, \"ticks\": \"\"}}, \"type\": \"scatterpolargl\"}], \"scatterternary\": [{\"marker\": {\"colorbar\": {\"outlinewidth\": 0, \"ticks\": \"\"}}, \"type\": \"scatterternary\"}], \"surface\": [{\"colorbar\": {\"outlinewidth\": 0, \"ticks\": \"\"}, \"colorscale\": [[0.0, \"#0d0887\"], [0.1111111111111111, \"#46039f\"], [0.2222222222222222, \"#7201a8\"], [0.3333333333333333, \"#9c179e\"], [0.4444444444444444, \"#bd3786\"], [0.5555555555555556, \"#d8576b\"], [0.6666666666666666, \"#ed7953\"], [0.7777777777777778, \"#fb9f3a\"], [0.8888888888888888, \"#fdca26\"], [1.0, \"#f0f921\"]], \"type\": \"surface\"}], \"table\": [{\"cells\": {\"fill\": {\"color\": \"#EBF0F8\"}, \"line\": {\"color\": \"white\"}}, \"header\": {\"fill\": {\"color\": \"#C8D4E3\"}, \"line\": {\"color\": \"white\"}}, \"type\": \"table\"}]}, \"layout\": {\"annotationdefaults\": {\"arrowcolor\": \"#2a3f5f\", \"arrowhead\": 0, \"arrowwidth\": 1}, \"autotypenumbers\": \"strict\", \"coloraxis\": {\"colorbar\": {\"outlinewidth\": 0, \"ticks\": \"\"}}, \"colorscale\": {\"diverging\": [[0, \"#8e0152\"], [0.1, \"#c51b7d\"], [0.2, \"#de77ae\"], [0.3, \"#f1b6da\"], [0.4, \"#fde0ef\"], [0.5, \"#f7f7f7\"], [0.6, \"#e6f5d0\"], [0.7, \"#b8e186\"], [0.8, \"#7fbc41\"], [0.9, \"#4d9221\"], [1, \"#276419\"]], \"sequential\": [[0.0, \"#0d0887\"], [0.1111111111111111, \"#46039f\"], [0.2222222222222222, \"#7201a8\"], [0.3333333333333333, \"#9c179e\"], [0.4444444444444444, \"#bd3786\"], [0.5555555555555556, \"#d8576b\"], [0.6666666666666666, \"#ed7953\"], [0.7777777777777778, \"#fb9f3a\"], [0.8888888888888888, \"#fdca26\"], [1.0, \"#f0f921\"]], \"sequentialminus\": [[0.0, \"#0d0887\"], [0.1111111111111111, \"#46039f\"], [0.2222222222222222, \"#7201a8\"], [0.3333333333333333, \"#9c179e\"], [0.4444444444444444, \"#bd3786\"], [0.5555555555555556, \"#d8576b\"], [0.6666666666666666, \"#ed7953\"], [0.7777777777777778, \"#fb9f3a\"], [0.8888888888888888, \"#fdca26\"], [1.0, \"#f0f921\"]]}, \"colorway\": [\"#636efa\", \"#EF553B\", \"#00cc96\", \"#ab63fa\", \"#FFA15A\", \"#19d3f3\", \"#FF6692\", \"#B6E880\", \"#FF97FF\", \"#FECB52\"], \"font\": {\"color\": \"#2a3f5f\"}, \"geo\": {\"bgcolor\": \"white\", \"lakecolor\": \"white\", \"landcolor\": \"#E5ECF6\", \"showlakes\": true, \"showland\": true, \"subunitcolor\": \"white\"}, \"hoverlabel\": {\"align\": \"left\"}, \"hovermode\": \"closest\", \"mapbox\": {\"style\": \"light\"}, \"paper_bgcolor\": \"white\", \"plot_bgcolor\": \"#E5ECF6\", \"polar\": {\"angularaxis\": {\"gridcolor\": \"white\", \"linecolor\": \"white\", \"ticks\": \"\"}, \"bgcolor\": \"#E5ECF6\", \"radialaxis\": {\"gridcolor\": \"white\", \"linecolor\": \"white\", \"ticks\": \"\"}}, \"scene\": {\"xaxis\": {\"backgroundcolor\": \"#E5ECF6\", \"gridcolor\": \"white\", \"gridwidth\": 2, \"linecolor\": \"white\", \"showbackground\": true, \"ticks\": \"\", \"zerolinecolor\": \"white\"}, \"yaxis\": {\"backgroundcolor\": \"#E5ECF6\", \"gridcolor\": \"white\", \"gridwidth\": 2, \"linecolor\": \"white\", \"showbackground\": true, \"ticks\": \"\", \"zerolinecolor\": \"white\"}, \"zaxis\": {\"backgroundcolor\": \"#E5ECF6\", \"gridcolor\": \"white\", \"gridwidth\": 2, \"linecolor\": \"white\", \"showbackground\": true, \"ticks\": \"\", \"zerolinecolor\": \"white\"}}, \"shapedefaults\": {\"line\": {\"color\": \"#2a3f5f\"}}, \"ternary\": {\"aaxis\": {\"gridcolor\": \"white\", \"linecolor\": \"white\", \"ticks\": \"\"}, \"baxis\": {\"gridcolor\": \"white\", \"linecolor\": \"white\", \"ticks\": \"\"}, \"bgcolor\": \"#E5ECF6\", \"caxis\": {\"gridcolor\": \"white\", \"linecolor\": \"white\", \"ticks\": \"\"}}, \"title\": {\"x\": 0.05}, \"xaxis\": {\"automargin\": true, \"gridcolor\": \"white\", \"linecolor\": \"white\", \"ticks\": \"\", \"title\": {\"standoff\": 15}, \"zerolinecolor\": \"white\", \"zerolinewidth\": 2}, \"yaxis\": {\"automargin\": true, \"gridcolor\": \"white\", \"linecolor\": \"white\", \"ticks\": \"\", \"title\": {\"standoff\": 15}, \"zerolinecolor\": \"white\", \"zerolinewidth\": 2}}}, \"xaxis\": {\"anchor\": \"y\", \"domain\": [0.0, 1.0], \"tickangle\": 45, \"tickfont\": {\"color\": \"black\", \"size\": 13}, \"title\": {\"text\": \"Variables\"}}, \"yaxis\": {\"anchor\": \"x\", \"domain\": [0.0, 1.0], \"title\": {\"text\": \"Correlation with G3\"}}},                        {\"responsive\": true}                    ).then(function(){\n",
       "                            \n",
       "var gd = document.getElementById('59f6c8d5-4b6e-4f87-9fee-98a93dc2bf61');\n",
       "var x = new MutationObserver(function (mutations, observer) {{\n",
       "        var display = window.getComputedStyle(gd).display;\n",
       "        if (!display || display === 'none') {{\n",
       "            console.log([gd, 'removed!']);\n",
       "            Plotly.purge(gd);\n",
       "            observer.disconnect();\n",
       "        }}\n",
       "}});\n",
       "\n",
       "// Listen for the removal of the full notebook cells\n",
       "var notebookContainer = gd.closest('#notebook-container');\n",
       "if (notebookContainer) {{\n",
       "    x.observe(notebookContainer, {childList: true});\n",
       "}}\n",
       "\n",
       "// Listen for the clearing of the current output cell\n",
       "var outputEl = gd.closest('.output');\n",
       "if (outputEl) {{\n",
       "    x.observe(outputEl, {childList: true});\n",
       "}}\n",
       "\n",
       "                        })                };                });            </script>        </div>"
      ]
     },
     "metadata": {},
     "output_type": "display_data"
    }
   ],
   "source": [
    "barplot(datencorr,'index','G3',labeldict=dict(G3='Correlation with G3',index = 'Variables'))"
   ]
  },
  {
   "cell_type": "code",
   "execution_count": 67,
   "metadata": {},
   "outputs": [],
   "source": [
    "x_values=['U','R']\n",
    "listeY=[]\n",
    "listeSTD=[]\n",
    "for i in x_values:\n",
    "    temp = daten[daten['address']==i]\n",
    "    m = temp['G3'].mean()\n",
    "    listeY.append(m)\n",
    "    \n",
    "for i in x_values:\n",
    "    temp = daten[daten['address']==i]\n",
    "    m = np.std(temp['G3'])\n",
    "    listeSTD.append(m)"
   ]
  },
  {
   "cell_type": "code",
   "execution_count": 72,
   "metadata": {},
   "outputs": [
    {
     "data": {
      "image/png": "[encoded data removed]",
      "text/plain": [
       "<Figure size 1080x720 with 1 Axes>"
      ]
     },
     "metadata": {
      "needs_background": "light"
     },
     "output_type": "display_data"
    }
   ],
   "source": [
    "figure,axes=plt.subplots(figsize=(15,10))\n",
    "bar_mit_std(x_values,listeY,listeSTD,y_label='Avg grade in G3',x_label='address',tick_label=['Urban','Rural'])"
   ]
  },
  {
   "cell_type": "code",
   "execution_count": 80,
   "metadata": {},
   "outputs": [
    {
     "data": {
      "image/png": "[encoded data removed]",
      "text/plain": [
       "<Figure size 864x288 with 2 Axes>"
      ]
     },
     "metadata": {
      "needs_background": "light"
     },
     "output_type": "display_data"
    }
   ],
   "source": [
    "figure,axes=plt.subplots(nrows=1,ncols=2,figsize=(12,4));\n",
    "figure.subplots_adjust(wspace = 0.3)#more width between the plots\n",
    "\n",
    "def showBox(frames,labels,ylabel,aAxis,aShowYLabel,x_label=None):\n",
    "    aAxis.boxplot(frames,labels=labels)\n",
    "    aAxis.set_ylim(-1,26)\n",
    "    aAxis.set_xlabel(x_label)\n",
    "    #print(\"mediane:\",abw_häufig[aVariableName].median(),abw_selten[aVariableName].median());\n",
    "    #aAxis.set_xlabel(aVariableName+\" [\"+aUnit+\"]\")\n",
    "    if (aShowYLabel):\n",
    "        aAxis.set_ylabel(ylabel)\n",
    "        \n",
    "\n",
    "datenUrb = daten[daten['address']=='U']\n",
    "datenRur = daten[daten['address']=='R']\n",
    "showBox([datenUrb.G3,datenRur.G3],['Urban','Rural'],'G3',axes[0],True)\n",
    "showBox([datenRur.G3],['Rural'],'G3',axes[1],True)\n",
    "\n",
    "#showBox(abw[\"Work load Average/day \"].name,\"[h]\",axes[2],True)"
   ]
  },
  {
   "cell_type": "code",
   "execution_count": 31,
   "metadata": {},
   "outputs": [
    {
     "data": {
      "text/plain": [
       "(0.0, 1.0)"
      ]
     },
     "execution_count": 31,
     "metadata": {},
     "output_type": "execute_result"
    },
    {
     "data": {
      "image/png": "[encoded data removed]",
      "text/plain": [
       "<Figure size 432x288 with 1 Axes>"
      ]
     },
     "metadata": {
      "needs_background": "light"
     },
     "output_type": "display_data"
    }
   ],
   "source": [
    "plt.ylim()"
   ]
  },
  {
   "cell_type": "code",
   "execution_count": 118,
   "metadata": {},
   "outputs": [
    {
     "data": {
      "image/png": "[encoded data removed]",
      "text/plain": [
       "<Figure size 360x360 with 1 Axes>"
      ]
     },
     "metadata": {
      "needs_background": "light"
     },
     "output_type": "display_data"
    }
   ],
   "source": [
    "figure,axes=plt.subplots(figsize=(5,5))\n",
    "datenUrb = daten[daten['address']=='U']\n",
    "boxplot(datenUrb,'G3',['Urban'],True)"
   ]
  },
  {
   "cell_type": "code",
   "execution_count": 119,
   "metadata": {},
   "outputs": [
    {
     "data": {
      "image/png": "[encoded data removed]",
      "text/plain": [
       "<Figure size 360x360 with 1 Axes>"
      ]
     },
     "metadata": {
      "needs_background": "light"
     },
     "output_type": "display_data"
    }
   ],
   "source": [
    "figure,axes=plt.subplots(figsize=(5,5))\n",
    "datenUrb = daten[daten['address']=='R']\n",
    "boxplot(datenUrb,'G3',['Rural'],False)"
   ]
  },
  {
   "cell_type": "code",
   "execution_count": 64,
   "metadata": {},
   "outputs": [
    {
     "data": {
      "image/png": "[encoded data removed]",
      "text/plain": [
       "<Figure size 864x288 with 1 Axes>"
      ]
     },
     "metadata": {
      "needs_background": "light"
     },
     "output_type": "display_data"
    }
   ],
   "source": [
    "figure,axes=plt.subplots(nrows=1,ncols=1,figsize=(12,4));\n",
    "figure.subplots_adjust(wspace = 0.3)\n",
    "\n",
    "datenFedu0 = daten[daten['Fedu']==0]\n",
    "datenFedu1 = daten[daten['Fedu']==1]\n",
    "datenFedu2 = daten[daten['Fedu']==2]\n",
    "datenFedu3 = daten[daten['Fedu']==3]\n",
    "datenFedu4 = daten[daten['Fedu']==4]\n",
    "\n",
    "showBox([datenFedu0.G3,datenFedu1.G3,datenFedu2.G3,datenFedu3.G3,datenFedu4.G3],['Fedu0','Fedu1','Fedu2','Fedu3','Fedu4'],'Grades in G3',axes,True)"
   ]
  },
  {
   "cell_type": "code",
   "execution_count": 71,
   "metadata": {},
   "outputs": [
    {
     "data": {
      "image/png": "[encoded data removed]",
      "text/plain": [
       "<Figure size 864x288 with 1 Axes>"
      ]
     },
     "metadata": {
      "needs_background": "light"
     },
     "output_type": "display_data"
    }
   ],
   "source": [
    "figure,axes=plt.subplots(nrows=1,ncols=1,figsize=(12,4));\n",
    "figure.subplots_adjust(wspace = 0.3)\n",
    "\n",
    "datenMedu0 = daten[daten['Medu']==0]\n",
    "datenMedu1 = daten[daten['Medu']==1]\n",
    "datenMedu2 = daten[daten['Medu']==2]\n",
    "datenMedu3 = daten[daten['Medu']==3]\n",
    "datenMedu4 = daten[daten['Medu']==4]\n",
    "\n",
    "showBox([datenMedu0.G3,datenMedu1.G3,datenMedu2.G3,datenMedu3.G3,datenMedu4.G3],['Medu0','Medu1','Medu2','Medu3','Medu4'],'Grades in G3',axes,True)"
   ]
  },
  {
   "cell_type": "code",
   "execution_count": 67,
   "metadata": {},
   "outputs": [],
   "source": [
    "x_values=[0,1,2,3,4]\n",
    "listeY=[]\n",
    "listeSTD=[]\n",
    "for i in x_values:\n",
    "    temp = daten[daten['Fedu']==i]\n",
    "    m = temp['G3'].mean()\n",
    "    listeY.append(m)\n",
    "    \n",
    "for i in x_values:\n",
    "    temp = daten[daten['Fedu']==i]\n",
    "    m = np.std(temp['G3'])\n",
    "    listeSTD.append(m)"
   ]
  },
  {
   "cell_type": "code",
   "execution_count": 68,
   "metadata": {},
   "outputs": [
    {
     "data": {
      "image/png": "[encoded data removed]",
      "text/plain": [
       "<Figure size 432x288 with 1 Axes>"
      ]
     },
     "metadata": {
      "needs_background": "light"
     },
     "output_type": "display_data"
    }
   ],
   "source": [
    "bar_mit_std(x_values,listeY,listeSTD,y_label='Avg grade in G3',x_label='Fedu',tick_label=['Fedu0','Fedu1','Fedu2','Fedu3','Fedu4'])"
   ]
  },
  {
   "cell_type": "code",
   "execution_count": 69,
   "metadata": {},
   "outputs": [],
   "source": [
    "x_values=[0,1,2,3,4]\n",
    "listeY=[]\n",
    "listeSTD=[]\n",
    "for i in x_values:\n",
    "    temp = daten[daten['Medu']==i]\n",
    "    m = temp['G3'].mean()\n",
    "    listeY.append(m)\n",
    "    \n",
    "for i in x_values:\n",
    "    temp = daten[daten['Medu']==i]\n",
    "    m = np.std(temp['G3'])\n",
    "    listeSTD.append(m)"
   ]
  },
  {
   "cell_type": "code",
   "execution_count": 70,
   "metadata": {},
   "outputs": [
    {
     "data": {
      "image/png": "[encoded data removed]",
      "text/plain": [
       "<Figure size 432x288 with 1 Axes>"
      ]
     },
     "metadata": {
      "needs_background": "light"
     },
     "output_type": "display_data"
    }
   ],
   "source": [
    "bar_mit_std(x_values,listeY,listeSTD,y_label='Avg grade in G3',x_label='Medu',tick_label=['Medu0','Medu1','Medu2','Medu3','Medu4'])"
   ]
  },
  {
   "cell_type": "code",
   "execution_count": 115,
   "metadata": {},
   "outputs": [],
   "source": [
    "TravelTime=[1,2,3,4]\n",
    "AvgGrade=[]\n",
    "listeSTD=[]\n",
    "for i in TravelTime:\n",
    "    temp = daten[daten['traveltime']==i]\n",
    "    m = temp['G3'].mean()\n",
    "    AvgGrade.append(m)\n",
    "    \n",
    "for i in TravelTime:\n",
    "    temp = daten[daten['traveltime']==i]\n",
    "    m = np.std(temp['G3'])\n",
    "    listeSTD.append(m)"
   ]
  },
  {
   "cell_type": "code",
   "execution_count": 117,
   "metadata": {},
   "outputs": [
    {
     "data": {
      "image/png": "[encoded data removed]",
      "text/plain": [
       "<Figure size 720x360 with 1 Axes>"
      ]
     },
     "metadata": {
      "needs_background": "light"
     },
     "output_type": "display_data"
    }
   ],
   "source": [
    "figure,axes=plt.subplots(figsize=(10,5))\n",
    "bar_mit_std(TravelTime,AvgGrade,listeSTD,y_label='Avg grade in G3',x_label='Travel time')"
   ]
  },
  {
   "cell_type": "code",
   "execution_count": null,
   "metadata": {},
   "outputs": [],
   "source": [
    "TravelTime=[1,2,3,4]\n",
    "AvgGrade=[]\n",
    "listeSTD=[]\n",
    "for i in TravelTime:\n",
    "    temp = daten[daten['traveltime']==i]\n",
    "    m = temp['G3'].mean()\n",
    "    AvgGrade.append(m)\n",
    "    \n",
    "for i in TravelTime:\n",
    "    temp = daten[daten['traveltime']==i]\n",
    "    m = np.std(temp['G3'])\n",
    "    listeSTD.append(m)"
   ]
  },
  {
   "cell_type": "code",
   "execution_count": 72,
   "metadata": {},
   "outputs": [],
   "source": [
    "x_values=[0,1]\n",
    "listeY=[]\n",
    "listeSTD=[]\n",
    "for i in x_values:\n",
    "    temp = daten[daten['schoolsupBinary']==i]\n",
    "    m = temp['G3'].mean()\n",
    "    listeY.append(m)\n",
    "    \n",
    "for i in x_values:\n",
    "    temp = daten[daten['schoolsupBinary']==i]\n",
    "    m = np.std(temp['G3'])\n",
    "    listeSTD.append(m)"
   ]
  },
  {
   "cell_type": "code",
   "execution_count": 73,
   "metadata": {},
   "outputs": [
    {
     "data": {
      "image/png": "[encoded data removed]",
      "text/plain": [
       "<Figure size 720x360 with 1 Axes>"
      ]
     },
     "metadata": {
      "needs_background": "light"
     },
     "output_type": "display_data"
    }
   ],
   "source": [
    "figure,axes=plt.subplots(figsize=(10,5))\n",
    "bar_mit_std(x_values,listeY,listeSTD,y_label='Avg grade in G3',x_label='extra educational support',tick_label=['no','yes'])"
   ]
  },
  {
   "cell_type": "code",
   "execution_count": 74,
   "metadata": {},
   "outputs": [],
   "source": [
    "x_values=[0,1]\n",
    "listeY=[]\n",
    "listeSTD=[]\n",
    "for i in x_values:\n",
    "    temp = daten[daten['famsupBinary']==i]\n",
    "    m = temp['G3'].mean()\n",
    "    listeY.append(m)\n",
    "    \n",
    "for i in x_values:\n",
    "    temp = daten[daten['famsupBinary']==i]\n",
    "    m = np.std(temp['G3'])\n",
    "    listeSTD.append(m)"
   ]
  },
  {
   "cell_type": "code",
   "execution_count": 75,
   "metadata": {},
   "outputs": [
    {
     "data": {
      "image/png": "[encoded data removed]",
      "text/plain": [
       "<Figure size 720x360 with 1 Axes>"
      ]
     },
     "metadata": {
      "needs_background": "light"
     },
     "output_type": "display_data"
    }
   ],
   "source": [
    "figure,axes=plt.subplots(figsize=(10,5))\n",
    "bar_mit_std(x_values,listeY,listeSTD,y_label='Avg grade in G3',x_label='family educational support',tick_label=['no','yes'])"
   ]
  },
  {
   "cell_type": "code",
   "execution_count": 76,
   "metadata": {},
   "outputs": [],
   "source": [
    "x_values=[0,1]\n",
    "listeY=[]\n",
    "listeSTD=[]\n",
    "for i in x_values:\n",
    "    temp = daten[daten['paidBinary']==i]\n",
    "    m = temp['G3'].mean()\n",
    "    listeY.append(m)\n",
    "    \n",
    "for i in x_values:\n",
    "    temp = daten[daten['paidBinary']==i]\n",
    "    m = np.std(temp['G3'])\n",
    "    listeSTD.append(m)"
   ]
  },
  {
   "cell_type": "code",
   "execution_count": 77,
   "metadata": {},
   "outputs": [
    {
     "data": {
      "image/png": "[encoded data removed]",
      "text/plain": [
       "<Figure size 720x360 with 1 Axes>"
      ]
     },
     "metadata": {
      "needs_background": "light"
     },
     "output_type": "display_data"
    }
   ],
   "source": [
    "figure,axes=plt.subplots(figsize=(10,5))\n",
    "bar_mit_std(x_values,listeY,listeSTD,y_label='Avg grade in G3',x_label='extra paid classes within the course subject (Math or Portuguese)',tick_label=['no','yes'])"
   ]
  },
  {
   "cell_type": "code",
   "execution_count": 82,
   "metadata": {},
   "outputs": [
    {
     "data": {
      "image/png": "[encoded data removed]",
      "text/plain": [
       "<Figure size 720x288 with 1 Axes>"
      ]
     },
     "metadata": {
      "needs_background": "light"
     },
     "output_type": "display_data"
    }
   ],
   "source": [
    "figure,axes=plt.subplots(nrows=1,ncols=1,figsize=(10,4));\n",
    "figure.subplots_adjust(wspace = 0.3)\n",
    "\n",
    "datenPaid0 = daten[daten['paidBinary']==0]\n",
    "datenPaid1 = daten[daten['paidBinary']==1]\n",
    "\n",
    "showBox([datenPaid0.G3, datenPaid1.G3],['no','yes'],'Grades in G3',axes,True,x_label='extra paid classes within the course subject (Math or Portuguese)')"
   ]
  },
  {
   "cell_type": "code",
   "execution_count": 83,
   "metadata": {},
   "outputs": [],
   "source": [
    "x_values=[0,1]\n",
    "listeY=[]\n",
    "listeSTD=[]\n",
    "for i in x_values:\n",
    "    temp = daten[daten['higherBinary']==i]\n",
    "    m = temp['G3'].mean()\n",
    "    listeY.append(m)\n",
    "    \n",
    "for i in x_values:\n",
    "    temp = daten[daten['higherBinary']==i]\n",
    "    m = np.std(temp['G3'])\n",
    "    listeSTD.append(m)"
   ]
  },
  {
   "cell_type": "code",
   "execution_count": 84,
   "metadata": {},
   "outputs": [
    {
     "data": {
      "image/png": "[encoded data removed]",
      "text/plain": [
       "<Figure size 720x360 with 1 Axes>"
      ]
     },
     "metadata": {
      "needs_background": "light"
     },
     "output_type": "display_data"
    }
   ],
   "source": [
    "figure,axes=plt.subplots(figsize=(10,5))\n",
    "bar_mit_std(x_values,listeY,listeSTD,y_label='Avg grade in G3',x_label='Student wants to take higher education',tick_label=['no','yes'])"
   ]
  },
  {
   "cell_type": "code",
   "execution_count": 85,
   "metadata": {},
   "outputs": [
    {
     "data": {
      "image/png": "[encoded data removed]",
      "text/plain": [
       "<Figure size 720x288 with 1 Axes>"
      ]
     },
     "metadata": {
      "needs_background": "light"
     },
     "output_type": "display_data"
    }
   ],
   "source": [
    "figure,axes=plt.subplots(nrows=1,ncols=1,figsize=(10,4));\n",
    "figure.subplots_adjust(wspace = 0.3)\n",
    "\n",
    "datenHigher0 = daten[daten['higherBinary']==0]\n",
    "datenHigher1 = daten[daten['higherBinary']==1]\n",
    "\n",
    "showBox([datenHigher0.G3, datenHigher1.G3],['no','yes'],'Grades in G3',axes,True,x_label='Student wants to take higher education')"
   ]
  },
  {
   "cell_type": "code",
   "execution_count": 86,
   "metadata": {},
   "outputs": [],
   "source": [
    "x_values=[0,1]\n",
    "listeY=[]\n",
    "listeSTD=[]\n",
    "for i in x_values:\n",
    "    temp = daten[daten['internetBinary']==i]\n",
    "    m = temp['G3'].mean()\n",
    "    listeY.append(m)\n",
    "    \n",
    "for i in x_values:\n",
    "    temp = daten[daten['internetBinary']==i]\n",
    "    m = np.std(temp['G3'])\n",
    "    listeSTD.append(m)"
   ]
  },
  {
   "cell_type": "code",
   "execution_count": 87,
   "metadata": {},
   "outputs": [
    {
     "data": {
      "image/png": "[encoded data removed]",
      "text/plain": [
       "<Figure size 720x360 with 1 Axes>"
      ]
     },
     "metadata": {
      "needs_background": "light"
     },
     "output_type": "display_data"
    }
   ],
   "source": [
    "figure,axes=plt.subplots(figsize=(10,5))\n",
    "bar_mit_std(x_values,listeY,listeSTD,y_label='Avg grade in G3',x_label='Student has access to the internet',tick_label=['no','yes'])"
   ]
  },
  {
   "cell_type": "code",
   "execution_count": 91,
   "metadata": {},
   "outputs": [
    {
     "data": {
      "image/png": "[encoded data removed]",
      "text/plain": [
       "<Figure size 720x288 with 1 Axes>"
      ]
     },
     "metadata": {
      "needs_background": "light"
     },
     "output_type": "display_data"
    }
   ],
   "source": [
    "figure,axes=plt.subplots(nrows=1,ncols=1,figsize=(10,4));\n",
    "figure.subplots_adjust(wspace = 0.3)\n",
    "\n",
    "datenInternet0 = daten[daten['internetBinary']==0]\n",
    "datenInternet1 = daten[daten['internetBinary']==1]\n",
    "\n",
    "showBox([datenInternet0.G3, datenInternet1.G3],['no','yes'],'Grades in G3',axes,True,x_label='Student has access to the internet')"
   ]
  },
  {
   "cell_type": "code",
   "execution_count": 90,
   "metadata": {},
   "outputs": [
    {
     "data": {
      "text/plain": [
       "1    329\n",
       "0     66\n",
       "Name: internetBinary, dtype: int64"
      ]
     },
     "execution_count": 90,
     "metadata": {},
     "output_type": "execute_result"
    }
   ],
   "source": [
    "daten.internetBinary.value_counts()"
   ]
  },
  {
   "cell_type": "code",
   "execution_count": 125,
   "metadata": {},
   "outputs": [],
   "source": [
    "obs = np.array([[16, 18, 16, 14, 12, 12], [32, 24, 16, 28, 20, 24]]).T"
   ]
  },
  {
   "cell_type": "code",
   "execution_count": 126,
   "metadata": {},
   "outputs": [
    {
     "data": {
      "text/plain": [
       "array([[16, 32],\n",
       "       [18, 24],\n",
       "       [16, 16],\n",
       "       [14, 28],\n",
       "       [12, 20],\n",
       "       [12, 24]])"
      ]
     },
     "execution_count": 126,
     "metadata": {},
     "output_type": "execute_result"
    }
   ],
   "source": [
    "obs"
   ]
  },
  {
   "cell_type": "code",
   "execution_count": 128,
   "metadata": {},
   "outputs": [],
   "source": [
    "import scipy.stats as stats"
   ]
  },
  {
   "cell_type": "code",
   "execution_count": 130,
   "metadata": {},
   "outputs": [
    {
     "data": {
      "text/plain": [
       "Power_divergenceResult(statistic=array([2.        , 6.66666667]), pvalue=array([0.84914504, 0.24663415]))"
      ]
     },
     "execution_count": 130,
     "metadata": {},
     "output_type": "execute_result"
    }
   ],
   "source": [
    "stats.chisquare(obs)"
   ]
  },
  {
   "cell_type": "code",
   "execution_count": 133,
   "metadata": {},
   "outputs": [
    {
     "data": {
      "text/plain": [
       "(63.34439270783508,\n",
       " 0.6372694409871891,\n",
       " 68,\n",
       " array([[ 1.8278481 ,  6.15696203, 15.10379747, 11.06329114,  3.84810127],\n",
       "        [ 0.04810127,  0.16202532,  0.39746835,  0.29113924,  0.10126582],\n",
       "        [ 0.33670886,  1.13417722,  2.78227848,  2.03797468,  0.70886076],\n",
       "        [ 0.72151899,  2.43037975,  5.96202532,  4.36708861,  1.51898734],\n",
       "        [ 0.43291139,  1.45822785,  3.57721519,  2.62025316,  0.91139241],\n",
       "        [ 1.53924051,  5.18481013, 12.71898734,  9.3164557 ,  3.24050633],\n",
       "        [ 1.34683544,  4.53670886, 11.12911392,  8.15189873,  2.83544304],\n",
       "        [ 2.69367089,  9.07341772, 22.25822785, 16.30379747,  5.67088608],\n",
       "        [ 2.26075949,  7.61518987, 18.68101266, 13.6835443 ,  4.75949367],\n",
       "        [ 1.49113924,  5.02278481, 12.32151899,  9.02531646,  3.13924051],\n",
       "        [ 1.49113924,  5.02278481, 12.32151899,  9.02531646,  3.13924051],\n",
       "        [ 1.29873418,  4.37468354, 10.73164557,  7.86075949,  2.73417722],\n",
       "        [ 1.58734177,  5.34683544, 13.1164557 ,  9.60759494,  3.34177215],\n",
       "        [ 0.76962025,  2.59240506,  6.35949367,  4.65822785,  1.62025316],\n",
       "        [ 0.28860759,  0.9721519 ,  2.38481013,  1.74683544,  0.60759494],\n",
       "        [ 0.57721519,  1.9443038 ,  4.76962025,  3.49367089,  1.21518987],\n",
       "        [ 0.24050633,  0.81012658,  1.98734177,  1.4556962 ,  0.50632911],\n",
       "        [ 0.04810127,  0.16202532,  0.39746835,  0.29113924,  0.10126582]]))"
      ]
     },
     "execution_count": 133,
     "metadata": {},
     "output_type": "execute_result"
    }
   ],
   "source": [
    "chi_test1 = pd.crosstab(daten['G3'], daten[\"freetime\"]) \n",
    "stats.chi2_contingency(chi_test1)"
   ]
  },
  {
   "cell_type": "code",
   "execution_count": 27,
   "metadata": {},
   "outputs": [
    {
     "name": "stdout",
     "output_type": "stream",
     "text": [
      "testvariable: age tval= 0.712802 pval= 0.476391\n",
      "testvariable: Medu tval= 3.207098 pval= 0.001451\n",
      "testvariable: Fedu tval= 1.730900 pval= 0.084255\n",
      "testvariable: traveltime tval= 1.319644 pval= 0.187722\n",
      "testvariable: studytime tval= 3.362348 pval= 0.000849\n",
      "testvariable: failures tval= 3.795432 pval= 0.000171\n",
      "testvariable: famrel tval= 0.009112 pval= 0.992734\n",
      "testvariable: freetime tval= 1.276401 pval= 0.202568\n",
      "testvariable: goout tval= 0.208032 pval= 0.835311\n",
      "testvariable: Dalc tval= 1.240751 pval= 0.215438\n",
      "testvariable: Walc tval= 1.200643 pval= 0.230613\n",
      "testvariable: health tval= 1.553664 pval= 0.121069\n",
      "testvariable: absences tval= 0.147401 pval= 0.882891\n",
      "testvariable: G1 tval= 0.775310 pval= 0.438623\n",
      "testvariable: G2 tval= 2.097114 pval= 0.036622\n",
      "testvariable: G3 tval= 2.032597 pval= 0.042765\n",
      "testvariable: sexBinary tval= 2.581427 pval= 0.010201\n",
      "testvariable: addressBinary tval= 1.048175 pval= 0.295202\n",
      "testvariable: famsizeBinary tval= 0.275230 pval= 0.783284\n",
      "testvariable: PstatusBinary tval= 0.921537 pval= 0.357336\n",
      "testvariable: schoolsupBinary tval= 0.411506 pval= 0.680926\n",
      "testvariable: famsupBinary tval= 6.079302 pval= 0.000000\n",
      "testvariable: paidBinary tval= inf pval= 0.000000\n",
      "testvariable: activitesBinary tval= 0.423986 pval= 0.671808\n",
      "testvariable: nurseryBinary tval= 2.035559 pval= 0.042465\n",
      "testvariable: higherBinary tval= 3.820024 pval= 0.000155\n",
      "testvariable: internetBinary tval= 3.071946 pval= 0.002275\n",
      "testvariable: romaticBinary tval= 0.109746 pval= 0.912667\n"
     ]
    }
   ],
   "source": [
    "from scipy.stats  import ttest_ind\n",
    "subset_c=daten[daten.paidBinary==1]\n",
    "subset_t=daten[daten.paidBinary==0]\n",
    "for testvar in daten.keys():\n",
    "    if daten.dtypes[testvar]==\"int64\": #int64 == interval scaled variable\n",
    "        tval,pval=ttest_ind(subset_c[testvar],subset_t[testvar])\n",
    "        print(\"testvariable:\",testvar,\"tval=\",'{:f}'.format(abs(tval)),\"pval=\",'{:f}'.format(pval))"
   ]
  },
  {
   "cell_type": "code",
   "execution_count": 37,
   "metadata": {},
   "outputs": [],
   "source": [
    "from scipy.stats import *\n",
    "def chisquare(frame,varnamey,varnamex):\n",
    "    contingencyTable=pd.crosstab(frame[varnamey],frame[varnamex])\n",
    "    chi2,pval,dof,expectedFreq=chi2_contingency(contingencyTable)\n",
    "    print(\"\\n\\ntestvar:\",varnamey,\"chi2=\",chi2,\"pval=\",'{:f}'.format(pval),\"dof=\",dof)#show pval in non-scienetific expression\n",
    "    return contingencyTable"
   ]
  },
  {
   "cell_type": "code",
   "execution_count": 38,
   "metadata": {},
   "outputs": [
    {
     "name": "stdout",
     "output_type": "stream",
     "text": [
      "\n",
      "\n",
      "testvar: Medu chi2= 13.82758230167654 pval= 0.007866 dof= 4\n"
     ]
    },
    {
     "data": {
      "text/html": [
       "<div>\n",
       "<style scoped>\n",
       "    .dataframe tbody tr th:only-of-type {\n",
       "        vertical-align: middle;\n",
       "    }\n",
       "\n",
       "    .dataframe tbody tr th {\n",
       "        vertical-align: top;\n",
       "    }\n",
       "\n",
       "    .dataframe thead th {\n",
       "        text-align: right;\n",
       "    }\n",
       "</style>\n",
       "<table border=\"1\" class=\"dataframe\">\n",
       "  <thead>\n",
       "    <tr style=\"text-align: right;\">\n",
       "      <th>paidBinary</th>\n",
       "      <th>0</th>\n",
       "      <th>1</th>\n",
       "    </tr>\n",
       "    <tr>\n",
       "      <th>Medu</th>\n",
       "      <th></th>\n",
       "      <th></th>\n",
       "    </tr>\n",
       "  </thead>\n",
       "  <tbody>\n",
       "    <tr>\n",
       "      <th>0</th>\n",
       "      <td>2</td>\n",
       "      <td>1</td>\n",
       "    </tr>\n",
       "    <tr>\n",
       "      <th>1</th>\n",
       "      <td>41</td>\n",
       "      <td>18</td>\n",
       "    </tr>\n",
       "    <tr>\n",
       "      <th>2</th>\n",
       "      <td>56</td>\n",
       "      <td>47</td>\n",
       "    </tr>\n",
       "    <tr>\n",
       "      <th>3</th>\n",
       "      <td>59</td>\n",
       "      <td>40</td>\n",
       "    </tr>\n",
       "    <tr>\n",
       "      <th>4</th>\n",
       "      <td>56</td>\n",
       "      <td>75</td>\n",
       "    </tr>\n",
       "  </tbody>\n",
       "</table>\n",
       "</div>"
      ],
      "text/plain": [
       "paidBinary   0   1\n",
       "Medu              \n",
       "0            2   1\n",
       "1           41  18\n",
       "2           56  47\n",
       "3           59  40\n",
       "4           56  75"
      ]
     },
     "execution_count": 38,
     "metadata": {},
     "output_type": "execute_result"
    }
   ],
   "source": [
    "chisquare(daten,'Medu','paidBinary')"
   ]
  },
  {
   "cell_type": "code",
   "execution_count": null,
   "metadata": {},
   "outputs": [],
   "source": []
  }
 ],
 "metadata": {
  "kernelspec": {
   "display_name": "Python 3",
   "language": "python",
   "name": "python3"
  },
  "language_info": {
   "codemirror_mode": {
    "name": "ipython",
    "version": 3
   },
   "file_extension": ".py",
   "mimetype": "text/x-python",
   "name": "python",
   "nbconvert_exporter": "python",
   "pygments_lexer": "ipython3",
   "version": "3.8.6"
  }
 },
 "nbformat": 4,
 "nbformat_minor": 4
}
