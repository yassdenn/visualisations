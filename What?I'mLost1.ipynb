{
 "cells": [
  {
   "cell_type": "code",
   "execution_count": 93,
   "metadata": {},
   "outputs": [],
   "source": [
    "def Line_mit_standardab(df,x,y,xLabel,yLabel,title): \n",
    "    fig = go.Figure(data=go.Scatter(\n",
    "        x=x,\n",
    "        y=y,\n",
    "        error_y=dict(\n",
    "            type='data',\n",
    "            array=(df.max(axis=1)- df.mean(axis=1)),# iteration über rows (0 iteriert über columns)\n",
    "            color='purple',\n",
    "            visible=True),\n",
    "        ))\n",
    "    fig.update_layout(title=title)\n",
    "    fig.update_xaxes(tickangle=45, title_text=xLabel)\n",
    "    fig.update_yaxes(title_text=yLabel)\n",
    "    fig.show()\n",
    "\n",
    "def boxplot(df, variable, labels, show_y_label, width = None, medianprops=None):\n",
    "    plt.boxplot(df[variable],labels=labels, widths=width, medianprops=medianprops)\n",
    "    axes = plt.gca()\n",
    "    #axes.set_ylim([-1,25])\n",
    "    if (show_y_label):\n",
    "            plt.ylabel(variable)\n",
    "\n",
    "def barplot(df, xachse, yachse, color=None, text = None,labeldict=None):     \n",
    "    fig = px.bar(df, x=xachse, y=yachse, color=color,text=text, height=700,labels=labeldict)\n",
    "    fig.update_traces(marker_line_color='black')\n",
    "    fig.update_xaxes(tickangle=45,tickfont=dict(color='black', size=13)) \n",
    "    fig.show()\n",
    "\n",
    "def bar_mit_facet(df, xachse, yachse, reihe,color=None, text = None):\n",
    "    fig = px.bar(df, x=xachse, y=yachse, color=color,text=text,height=700, \n",
    "             labels=dict(Preis = \"Preis [€]\",Anzahl_Tomaten='Anzahl'),facet_row=(reihe) )\n",
    "    fig.update_xaxes(tickangle=45,tickfont=dict(color='black', size=13)) \n",
    "    fig.show()\n",
    "    \n",
    "def bar_mit_std(list_x_values, list_y_values, list_std,tick_label=None, y_label=None, x_label=None):\n",
    "    errorbars=np.array([np.zeros(len(list_std)), list_std])\n",
    "    plt.bar(x=list_x_values, height=list_y_values,width=0.3,color='lightgray',\n",
    "             edgecolor='black',tick_label=tick_label,yerr=errorbars,capsize=4)\n",
    "    plt.ylabel(y_label)\n",
    "    plt.xlabel(x_label)\n",
    "    #plt.ylim(-100,-130)\n",
    "\n",
    "def showBox(frames,labels,ylabel,aAxis,aShowYLabel,x_label=None):\n",
    "    aAxis.boxplot(frames,labels=labels)\n",
    "    aAxis.set_ylim(-1,26)\n",
    "    aAxis.set_xlabel(x_label)\n",
    "    #print(\"mediane:\",abw_häufig[aVariableName].median(),abw_selten[aVariableName].median());\n",
    "    #aAxis.set_xlabel(aVariableName+\" [\"+aUnit+\"]\")\n",
    "    if (aShowYLabel):\n",
    "        aAxis.set_ylabel(ylabel)\n",
    "\n",
    "def t_test(frame1,frame2):\n",
    "    subset_c = frame1\n",
    "    subset_t = frame2\n",
    "    for testvar in daten.keys():\n",
    "        if daten.dtypes[testvar]==\"int64\": #int64 == interval scaled variable\n",
    "            tval,pval=ttest_ind(subset_c[testvar],subset_t[testvar])\n",
    "            print(\"testvariable:\",testvar,\"tval=\",'{:f}'.format(abs(tval)),\"pval=\",'{:f}'.format(pval))\n",
    "\n",
    "def chisquare(frame,varnamey,varnamex):\n",
    "    contingencyTable=pd.crosstab(frame[varnamey],frame[varnamex])\n",
    "    chi2,pval,dof,expectedFreq=chi2_contingency(contingencyTable)\n",
    "    print(\"\\n\\ntestvar:\",varnamey,\"chi2=\",chi2,\"pval=\",'{:f}'.format(pval),\"dof=\",dof)#show pval in non-scienetific expression\n",
    "    return contingencyTable"
   ]
  },
  {
   "cell_type": "code",
   "execution_count": null,
   "metadata": {},
   "outputs": [],
   "source": [
    "x_values=['U','R']\n",
    "listeY=[]\n",
    "listeSTD=[]\n",
    "for i in x_values:\n",
    "    temp = daten[daten['address']==i]\n",
    "    m = temp['G3'].mean()\n",
    "    listeY.append(m)\n",
    "    \n",
    "for i in x_values:\n",
    "    temp = daten[daten['address']==i]\n",
    "    m = np.std(temp['G3'])\n",
    "    listeSTD.append(m)\n",
    "    \n",
    "figure,axes=plt.subplots(figsize=(10,5))\n",
    "bar_mit_std(x_values,listeY,listeSTD,y_label='Avg grade in G3',x_label='address',tick_label=['Urban','Rural'])"
   ]
  },
  {
   "cell_type": "code",
   "execution_count": null,
   "metadata": {},
   "outputs": [],
   "source": [
    "figure,axes=plt.subplots(nrows=1,ncols=1,figsize=(12,4));\n",
    "figure.subplots_adjust(wspace = 0.3)\n",
    "\n",
    "\n",
    "showBox([],\n",
    "        [],'Grades in G3',axes,True)"
   ]
  },
  {
   "cell_type": "code",
   "execution_count": 5,
   "metadata": {},
   "outputs": [
    {
     "data": {
      "text/html": [
       "        <script type=\"text/javascript\">\n",
       "        window.PlotlyConfig = {MathJaxConfig: 'local'};\n",
       "        if (window.MathJax) {MathJax.Hub.Config({SVG: {font: \"STIX-Web\"}});}\n",
       "        if (typeof require !== 'undefined') {\n",
       "        require.undef(\"plotly\");\n",
       "        requirejs.config({\n",
       "            paths: {\n",
       "                'plotly': ['https://cdn.plot.ly/plotly-latest.min']\n",
       "            }\n",
       "        });\n",
       "        require(['plotly'], function(Plotly) {\n",
       "            window._Plotly = Plotly;\n",
       "        });\n",
       "        }\n",
       "        </script>\n",
       "        "
      ]
     },
     "metadata": {},
     "output_type": "display_data"
    },
    {
     "data": {
      "text/html": [
       "        <script type=\"text/javascript\">\n",
       "        window.PlotlyConfig = {MathJaxConfig: 'local'};\n",
       "        if (window.MathJax) {MathJax.Hub.Config({SVG: {font: \"STIX-Web\"}});}\n",
       "        if (typeof require !== 'undefined') {\n",
       "        require.undef(\"plotly\");\n",
       "        requirejs.config({\n",
       "            paths: {\n",
       "                'plotly': ['https://cdn.plot.ly/plotly-latest.min']\n",
       "            }\n",
       "        });\n",
       "        require(['plotly'], function(Plotly) {\n",
       "            window._Plotly = Plotly;\n",
       "        });\n",
       "        }\n",
       "        </script>\n",
       "        "
      ]
     },
     "metadata": {},
     "output_type": "display_data"
    }
   ],
   "source": [
    "import pandas as pd\n",
    "import numpy as np\n",
    "import chart_studio.plotly as py\n",
    "import cufflinks as cf\n",
    "import seaborn as sns\n",
    "import plotly.express as px\n",
    "import plotly.graph_objects as go\n",
    "import matplotlib.pyplot as plt\n",
    "import scipy.stats as stats\n",
    "from scipy.stats  import *\n",
    "%matplotlib inline\n",
    "\n",
    "# Make Plotly work in your Jupyter Notebook\n",
    "from plotly.offline import download_plotlyjs, init_notebook_mode, plot, iplot\n",
    "init_notebook_mode(connected=True)\n",
    "# Use Plotly locally\n",
    "cf.go_offline()"
   ]
  },
  {
   "cell_type": "code",
   "execution_count": 13,
   "metadata": {},
   "outputs": [],
   "source": [
    "pd.set_option('display.max_columns', None)\n",
    "daten = pd.read_csv('us_accidents_june20_samples100000.csv')"
   ]
  },
  {
   "cell_type": "code",
   "execution_count": 14,
   "metadata": {},
   "outputs": [
    {
     "data": {
      "text/html": [
       "<div>\n",
       "<style scoped>\n",
       "    .dataframe tbody tr th:only-of-type {\n",
       "        vertical-align: middle;\n",
       "    }\n",
       "\n",
       "    .dataframe tbody tr th {\n",
       "        vertical-align: top;\n",
       "    }\n",
       "\n",
       "    .dataframe thead th {\n",
       "        text-align: right;\n",
       "    }\n",
       "</style>\n",
       "<table border=\"1\" class=\"dataframe\">\n",
       "  <thead>\n",
       "    <tr style=\"text-align: right;\">\n",
       "      <th></th>\n",
       "      <th>ID</th>\n",
       "      <th>Source</th>\n",
       "      <th>TMC</th>\n",
       "      <th>Severity</th>\n",
       "      <th>Start_Time</th>\n",
       "      <th>End_Time</th>\n",
       "      <th>Start_Lat</th>\n",
       "      <th>Start_Lng</th>\n",
       "      <th>End_Lat</th>\n",
       "      <th>End_Lng</th>\n",
       "      <th>Distance(mi)</th>\n",
       "      <th>Description</th>\n",
       "      <th>Number</th>\n",
       "      <th>Street</th>\n",
       "      <th>Side</th>\n",
       "      <th>City</th>\n",
       "      <th>County</th>\n",
       "      <th>State</th>\n",
       "      <th>Zipcode</th>\n",
       "      <th>Country</th>\n",
       "      <th>Timezone</th>\n",
       "      <th>Airport_Code</th>\n",
       "      <th>Weather_Timestamp</th>\n",
       "      <th>Temperature(F)</th>\n",
       "      <th>Wind_Chill(F)</th>\n",
       "      <th>Humidity(%)</th>\n",
       "      <th>Pressure(in)</th>\n",
       "      <th>Visibility(mi)</th>\n",
       "      <th>Wind_Direction</th>\n",
       "      <th>Wind_Speed(mph)</th>\n",
       "      <th>Precipitation(in)</th>\n",
       "      <th>Weather_Condition</th>\n",
       "      <th>Amenity</th>\n",
       "      <th>Bump</th>\n",
       "      <th>Crossing</th>\n",
       "      <th>Give_Way</th>\n",
       "      <th>Junction</th>\n",
       "      <th>No_Exit</th>\n",
       "      <th>Railway</th>\n",
       "      <th>Roundabout</th>\n",
       "      <th>Station</th>\n",
       "      <th>Stop</th>\n",
       "      <th>Traffic_Calming</th>\n",
       "      <th>Traffic_Signal</th>\n",
       "      <th>Turning_Loop</th>\n",
       "      <th>Sunrise_Sunset</th>\n",
       "      <th>Civil_Twilight</th>\n",
       "      <th>Nautical_Twilight</th>\n",
       "      <th>Astronomical_Twilight</th>\n",
       "    </tr>\n",
       "  </thead>\n",
       "  <tbody>\n",
       "    <tr>\n",
       "      <th>0</th>\n",
       "      <td>A-1</td>\n",
       "      <td>MapQuest</td>\n",
       "      <td>201</td>\n",
       "      <td>3</td>\n",
       "      <td>2016-02-08 05:46:00</td>\n",
       "      <td>2016-02-08 11:00:00</td>\n",
       "      <td>39.865147</td>\n",
       "      <td>-84.058723</td>\n",
       "      <td>NaN</td>\n",
       "      <td>NaN</td>\n",
       "      <td>0.01</td>\n",
       "      <td>Right lane blocked due to accident on I-70 Eas...</td>\n",
       "      <td>NaN</td>\n",
       "      <td>I-70 E</td>\n",
       "      <td>R</td>\n",
       "      <td>Dayton</td>\n",
       "      <td>Montgomery</td>\n",
       "      <td>OH</td>\n",
       "      <td>45424</td>\n",
       "      <td>US</td>\n",
       "      <td>US/Eastern</td>\n",
       "      <td>KFFO</td>\n",
       "      <td>2016-02-08 05:58:00</td>\n",
       "      <td>36.9</td>\n",
       "      <td>NaN</td>\n",
       "      <td>91</td>\n",
       "      <td>29.68</td>\n",
       "      <td>10.0</td>\n",
       "      <td>Calm</td>\n",
       "      <td>NaN</td>\n",
       "      <td>0.02</td>\n",
       "      <td>Light Rain</td>\n",
       "      <td>False</td>\n",
       "      <td>False</td>\n",
       "      <td>False</td>\n",
       "      <td>False</td>\n",
       "      <td>False</td>\n",
       "      <td>False</td>\n",
       "      <td>False</td>\n",
       "      <td>False</td>\n",
       "      <td>False</td>\n",
       "      <td>False</td>\n",
       "      <td>False</td>\n",
       "      <td>False</td>\n",
       "      <td>False</td>\n",
       "      <td>Night</td>\n",
       "      <td>Night</td>\n",
       "      <td>Night</td>\n",
       "      <td>Night</td>\n",
       "    </tr>\n",
       "    <tr>\n",
       "      <th>1</th>\n",
       "      <td>A-2</td>\n",
       "      <td>MapQuest</td>\n",
       "      <td>201</td>\n",
       "      <td>2</td>\n",
       "      <td>2016-02-08 06:07:59</td>\n",
       "      <td>2016-02-08 06:37:59</td>\n",
       "      <td>39.928059</td>\n",
       "      <td>-82.831184</td>\n",
       "      <td>NaN</td>\n",
       "      <td>NaN</td>\n",
       "      <td>0.01</td>\n",
       "      <td>Accident on Brice Rd at Tussing Rd. Expect del...</td>\n",
       "      <td>2584.0</td>\n",
       "      <td>Brice Rd</td>\n",
       "      <td>L</td>\n",
       "      <td>Reynoldsburg</td>\n",
       "      <td>Franklin</td>\n",
       "      <td>OH</td>\n",
       "      <td>43068-3402</td>\n",
       "      <td>US</td>\n",
       "      <td>US/Eastern</td>\n",
       "      <td>KCMH</td>\n",
       "      <td>2016-02-08 05:51:00</td>\n",
       "      <td>37.9</td>\n",
       "      <td>NaN</td>\n",
       "      <td>100</td>\n",
       "      <td>29.65</td>\n",
       "      <td>10.0</td>\n",
       "      <td>Calm</td>\n",
       "      <td>NaN</td>\n",
       "      <td>0.00</td>\n",
       "      <td>Light Rain</td>\n",
       "      <td>False</td>\n",
       "      <td>False</td>\n",
       "      <td>False</td>\n",
       "      <td>False</td>\n",
       "      <td>False</td>\n",
       "      <td>False</td>\n",
       "      <td>False</td>\n",
       "      <td>False</td>\n",
       "      <td>False</td>\n",
       "      <td>False</td>\n",
       "      <td>False</td>\n",
       "      <td>False</td>\n",
       "      <td>False</td>\n",
       "      <td>Night</td>\n",
       "      <td>Night</td>\n",
       "      <td>Night</td>\n",
       "      <td>Day</td>\n",
       "    </tr>\n",
       "    <tr>\n",
       "      <th>2</th>\n",
       "      <td>A-3</td>\n",
       "      <td>MapQuest</td>\n",
       "      <td>201</td>\n",
       "      <td>2</td>\n",
       "      <td>2016-02-08 06:49:27</td>\n",
       "      <td>2016-02-08 07:19:27</td>\n",
       "      <td>39.063148</td>\n",
       "      <td>-84.032608</td>\n",
       "      <td>NaN</td>\n",
       "      <td>NaN</td>\n",
       "      <td>0.01</td>\n",
       "      <td>Accident on OH-32 State Route 32 Westbound at ...</td>\n",
       "      <td>NaN</td>\n",
       "      <td>State Route 32</td>\n",
       "      <td>R</td>\n",
       "      <td>Williamsburg</td>\n",
       "      <td>Clermont</td>\n",
       "      <td>OH</td>\n",
       "      <td>45176</td>\n",
       "      <td>US</td>\n",
       "      <td>US/Eastern</td>\n",
       "      <td>KI69</td>\n",
       "      <td>2016-02-08 06:56:00</td>\n",
       "      <td>36.0</td>\n",
       "      <td>33.3</td>\n",
       "      <td>100</td>\n",
       "      <td>29.67</td>\n",
       "      <td>10.0</td>\n",
       "      <td>SW</td>\n",
       "      <td>3.5</td>\n",
       "      <td>NaN</td>\n",
       "      <td>Overcast</td>\n",
       "      <td>False</td>\n",
       "      <td>False</td>\n",
       "      <td>False</td>\n",
       "      <td>False</td>\n",
       "      <td>False</td>\n",
       "      <td>False</td>\n",
       "      <td>False</td>\n",
       "      <td>False</td>\n",
       "      <td>False</td>\n",
       "      <td>False</td>\n",
       "      <td>False</td>\n",
       "      <td>True</td>\n",
       "      <td>False</td>\n",
       "      <td>Night</td>\n",
       "      <td>Night</td>\n",
       "      <td>Day</td>\n",
       "      <td>Day</td>\n",
       "    </tr>\n",
       "    <tr>\n",
       "      <th>3</th>\n",
       "      <td>A-4</td>\n",
       "      <td>MapQuest</td>\n",
       "      <td>201</td>\n",
       "      <td>3</td>\n",
       "      <td>2016-02-08 07:23:34</td>\n",
       "      <td>2016-02-08 07:53:34</td>\n",
       "      <td>39.747753</td>\n",
       "      <td>-84.205582</td>\n",
       "      <td>NaN</td>\n",
       "      <td>NaN</td>\n",
       "      <td>0.01</td>\n",
       "      <td>Accident on I-75 Southbound at Exits 52 52B US...</td>\n",
       "      <td>NaN</td>\n",
       "      <td>I-75 S</td>\n",
       "      <td>R</td>\n",
       "      <td>Dayton</td>\n",
       "      <td>Montgomery</td>\n",
       "      <td>OH</td>\n",
       "      <td>45417</td>\n",
       "      <td>US</td>\n",
       "      <td>US/Eastern</td>\n",
       "      <td>KDAY</td>\n",
       "      <td>2016-02-08 07:38:00</td>\n",
       "      <td>35.1</td>\n",
       "      <td>31.0</td>\n",
       "      <td>96</td>\n",
       "      <td>29.64</td>\n",
       "      <td>9.0</td>\n",
       "      <td>SW</td>\n",
       "      <td>4.6</td>\n",
       "      <td>NaN</td>\n",
       "      <td>Mostly Cloudy</td>\n",
       "      <td>False</td>\n",
       "      <td>False</td>\n",
       "      <td>False</td>\n",
       "      <td>False</td>\n",
       "      <td>False</td>\n",
       "      <td>False</td>\n",
       "      <td>False</td>\n",
       "      <td>False</td>\n",
       "      <td>False</td>\n",
       "      <td>False</td>\n",
       "      <td>False</td>\n",
       "      <td>False</td>\n",
       "      <td>False</td>\n",
       "      <td>Night</td>\n",
       "      <td>Day</td>\n",
       "      <td>Day</td>\n",
       "      <td>Day</td>\n",
       "    </tr>\n",
       "    <tr>\n",
       "      <th>4</th>\n",
       "      <td>A-5</td>\n",
       "      <td>MapQuest</td>\n",
       "      <td>201</td>\n",
       "      <td>2</td>\n",
       "      <td>2016-02-08 07:39:07</td>\n",
       "      <td>2016-02-08 08:09:07</td>\n",
       "      <td>39.627781</td>\n",
       "      <td>-84.188354</td>\n",
       "      <td>NaN</td>\n",
       "      <td>NaN</td>\n",
       "      <td>0.01</td>\n",
       "      <td>Accident on McEwen Rd at OH-725 Miamisburg Cen...</td>\n",
       "      <td>NaN</td>\n",
       "      <td>Miamisburg Centerville Rd</td>\n",
       "      <td>R</td>\n",
       "      <td>Dayton</td>\n",
       "      <td>Montgomery</td>\n",
       "      <td>OH</td>\n",
       "      <td>45459</td>\n",
       "      <td>US</td>\n",
       "      <td>US/Eastern</td>\n",
       "      <td>KMGY</td>\n",
       "      <td>2016-02-08 07:53:00</td>\n",
       "      <td>36.0</td>\n",
       "      <td>33.3</td>\n",
       "      <td>89</td>\n",
       "      <td>29.65</td>\n",
       "      <td>6.0</td>\n",
       "      <td>SW</td>\n",
       "      <td>3.5</td>\n",
       "      <td>NaN</td>\n",
       "      <td>Mostly Cloudy</td>\n",
       "      <td>False</td>\n",
       "      <td>False</td>\n",
       "      <td>False</td>\n",
       "      <td>False</td>\n",
       "      <td>False</td>\n",
       "      <td>False</td>\n",
       "      <td>False</td>\n",
       "      <td>False</td>\n",
       "      <td>False</td>\n",
       "      <td>False</td>\n",
       "      <td>False</td>\n",
       "      <td>True</td>\n",
       "      <td>False</td>\n",
       "      <td>Day</td>\n",
       "      <td>Day</td>\n",
       "      <td>Day</td>\n",
       "      <td>Day</td>\n",
       "    </tr>\n",
       "    <tr>\n",
       "      <th>...</th>\n",
       "      <td>...</td>\n",
       "      <td>...</td>\n",
       "      <td>...</td>\n",
       "      <td>...</td>\n",
       "      <td>...</td>\n",
       "      <td>...</td>\n",
       "      <td>...</td>\n",
       "      <td>...</td>\n",
       "      <td>...</td>\n",
       "      <td>...</td>\n",
       "      <td>...</td>\n",
       "      <td>...</td>\n",
       "      <td>...</td>\n",
       "      <td>...</td>\n",
       "      <td>...</td>\n",
       "      <td>...</td>\n",
       "      <td>...</td>\n",
       "      <td>...</td>\n",
       "      <td>...</td>\n",
       "      <td>...</td>\n",
       "      <td>...</td>\n",
       "      <td>...</td>\n",
       "      <td>...</td>\n",
       "      <td>...</td>\n",
       "      <td>...</td>\n",
       "      <td>...</td>\n",
       "      <td>...</td>\n",
       "      <td>...</td>\n",
       "      <td>...</td>\n",
       "      <td>...</td>\n",
       "      <td>...</td>\n",
       "      <td>...</td>\n",
       "      <td>...</td>\n",
       "      <td>...</td>\n",
       "      <td>...</td>\n",
       "      <td>...</td>\n",
       "      <td>...</td>\n",
       "      <td>...</td>\n",
       "      <td>...</td>\n",
       "      <td>...</td>\n",
       "      <td>...</td>\n",
       "      <td>...</td>\n",
       "      <td>...</td>\n",
       "      <td>...</td>\n",
       "      <td>...</td>\n",
       "      <td>...</td>\n",
       "      <td>...</td>\n",
       "      <td>...</td>\n",
       "      <td>...</td>\n",
       "    </tr>\n",
       "    <tr>\n",
       "      <th>99995</th>\n",
       "      <td>A-99997</td>\n",
       "      <td>MapQuest</td>\n",
       "      <td>201</td>\n",
       "      <td>2</td>\n",
       "      <td>2016-04-05 15:15:50</td>\n",
       "      <td>2016-04-05 16:15:50</td>\n",
       "      <td>33.232586</td>\n",
       "      <td>-117.145157</td>\n",
       "      <td>NaN</td>\n",
       "      <td>NaN</td>\n",
       "      <td>0.00</td>\n",
       "      <td>Accident on Champagne Blvd near Lawrence Welk Dr.</td>\n",
       "      <td>28657.0</td>\n",
       "      <td>Champagne Blvd</td>\n",
       "      <td>L</td>\n",
       "      <td>Escondido</td>\n",
       "      <td>San Diego</td>\n",
       "      <td>CA</td>\n",
       "      <td>92026</td>\n",
       "      <td>US</td>\n",
       "      <td>US/Pacific</td>\n",
       "      <td>KCRQ</td>\n",
       "      <td>2016-04-05 14:53:00</td>\n",
       "      <td>73.0</td>\n",
       "      <td>NaN</td>\n",
       "      <td>37</td>\n",
       "      <td>30.00</td>\n",
       "      <td>10.0</td>\n",
       "      <td>Variable</td>\n",
       "      <td>6.9</td>\n",
       "      <td>NaN</td>\n",
       "      <td>Clear</td>\n",
       "      <td>False</td>\n",
       "      <td>False</td>\n",
       "      <td>False</td>\n",
       "      <td>False</td>\n",
       "      <td>False</td>\n",
       "      <td>False</td>\n",
       "      <td>False</td>\n",
       "      <td>False</td>\n",
       "      <td>False</td>\n",
       "      <td>False</td>\n",
       "      <td>False</td>\n",
       "      <td>False</td>\n",
       "      <td>False</td>\n",
       "      <td>Day</td>\n",
       "      <td>Day</td>\n",
       "      <td>Day</td>\n",
       "      <td>Day</td>\n",
       "    </tr>\n",
       "    <tr>\n",
       "      <th>99996</th>\n",
       "      <td>A-99998</td>\n",
       "      <td>MapQuest</td>\n",
       "      <td>201</td>\n",
       "      <td>2</td>\n",
       "      <td>2016-04-05 15:28:56</td>\n",
       "      <td>2016-04-05 16:28:56</td>\n",
       "      <td>34.413689</td>\n",
       "      <td>-119.528625</td>\n",
       "      <td>NaN</td>\n",
       "      <td>NaN</td>\n",
       "      <td>0.00</td>\n",
       "      <td>Accident two trucks involved on CA-192 Foothil...</td>\n",
       "      <td>1707.0</td>\n",
       "      <td>Santa Monica Rd</td>\n",
       "      <td>L</td>\n",
       "      <td>Carpinteria</td>\n",
       "      <td>Santa Barbara</td>\n",
       "      <td>CA</td>\n",
       "      <td>93013-3068</td>\n",
       "      <td>US</td>\n",
       "      <td>US/Pacific</td>\n",
       "      <td>KSBA</td>\n",
       "      <td>2016-04-05 15:53:00</td>\n",
       "      <td>73.0</td>\n",
       "      <td>NaN</td>\n",
       "      <td>42</td>\n",
       "      <td>29.99</td>\n",
       "      <td>10.0</td>\n",
       "      <td>WSW</td>\n",
       "      <td>11.5</td>\n",
       "      <td>NaN</td>\n",
       "      <td>Clear</td>\n",
       "      <td>False</td>\n",
       "      <td>False</td>\n",
       "      <td>False</td>\n",
       "      <td>False</td>\n",
       "      <td>False</td>\n",
       "      <td>False</td>\n",
       "      <td>False</td>\n",
       "      <td>False</td>\n",
       "      <td>False</td>\n",
       "      <td>False</td>\n",
       "      <td>False</td>\n",
       "      <td>False</td>\n",
       "      <td>False</td>\n",
       "      <td>Day</td>\n",
       "      <td>Day</td>\n",
       "      <td>Day</td>\n",
       "      <td>Day</td>\n",
       "    </tr>\n",
       "    <tr>\n",
       "      <th>99997</th>\n",
       "      <td>A-99999</td>\n",
       "      <td>MapQuest</td>\n",
       "      <td>201</td>\n",
       "      <td>3</td>\n",
       "      <td>2016-04-05 15:45:49</td>\n",
       "      <td>2016-04-05 16:45:49</td>\n",
       "      <td>33.797134</td>\n",
       "      <td>-118.108017</td>\n",
       "      <td>NaN</td>\n",
       "      <td>NaN</td>\n",
       "      <td>0.00</td>\n",
       "      <td>Accident on I-405 Northbound before Palo Verde...</td>\n",
       "      <td>NaN</td>\n",
       "      <td>I-405 N</td>\n",
       "      <td>R</td>\n",
       "      <td>Long Beach</td>\n",
       "      <td>Los Angeles</td>\n",
       "      <td>CA</td>\n",
       "      <td>90815</td>\n",
       "      <td>US</td>\n",
       "      <td>US/Pacific</td>\n",
       "      <td>KLGB</td>\n",
       "      <td>2016-04-05 15:53:00</td>\n",
       "      <td>82.9</td>\n",
       "      <td>NaN</td>\n",
       "      <td>24</td>\n",
       "      <td>29.97</td>\n",
       "      <td>10.0</td>\n",
       "      <td>South</td>\n",
       "      <td>6.9</td>\n",
       "      <td>NaN</td>\n",
       "      <td>Clear</td>\n",
       "      <td>False</td>\n",
       "      <td>False</td>\n",
       "      <td>False</td>\n",
       "      <td>False</td>\n",
       "      <td>False</td>\n",
       "      <td>False</td>\n",
       "      <td>False</td>\n",
       "      <td>False</td>\n",
       "      <td>False</td>\n",
       "      <td>False</td>\n",
       "      <td>False</td>\n",
       "      <td>False</td>\n",
       "      <td>False</td>\n",
       "      <td>Day</td>\n",
       "      <td>Day</td>\n",
       "      <td>Day</td>\n",
       "      <td>Day</td>\n",
       "    </tr>\n",
       "    <tr>\n",
       "      <th>99998</th>\n",
       "      <td>A-100000</td>\n",
       "      <td>MapQuest</td>\n",
       "      <td>201</td>\n",
       "      <td>2</td>\n",
       "      <td>2016-04-05 15:47:30</td>\n",
       "      <td>2016-04-05 16:47:30</td>\n",
       "      <td>33.940449</td>\n",
       "      <td>-117.875900</td>\n",
       "      <td>NaN</td>\n",
       "      <td>NaN</td>\n",
       "      <td>0.00</td>\n",
       "      <td>Accident on CA-57 Southbound near Exit 11 Brea...</td>\n",
       "      <td>NaN</td>\n",
       "      <td>CA-57 S</td>\n",
       "      <td>R</td>\n",
       "      <td>Brea</td>\n",
       "      <td>Orange</td>\n",
       "      <td>CA</td>\n",
       "      <td>92821</td>\n",
       "      <td>US</td>\n",
       "      <td>US/Pacific</td>\n",
       "      <td>KFUL</td>\n",
       "      <td>2016-04-05 15:53:00</td>\n",
       "      <td>84.9</td>\n",
       "      <td>NaN</td>\n",
       "      <td>25</td>\n",
       "      <td>29.95</td>\n",
       "      <td>10.0</td>\n",
       "      <td>SSW</td>\n",
       "      <td>8.1</td>\n",
       "      <td>NaN</td>\n",
       "      <td>Clear</td>\n",
       "      <td>False</td>\n",
       "      <td>False</td>\n",
       "      <td>False</td>\n",
       "      <td>False</td>\n",
       "      <td>False</td>\n",
       "      <td>False</td>\n",
       "      <td>False</td>\n",
       "      <td>False</td>\n",
       "      <td>False</td>\n",
       "      <td>False</td>\n",
       "      <td>False</td>\n",
       "      <td>False</td>\n",
       "      <td>False</td>\n",
       "      <td>Day</td>\n",
       "      <td>Day</td>\n",
       "      <td>Day</td>\n",
       "      <td>Day</td>\n",
       "    </tr>\n",
       "    <tr>\n",
       "      <th>99999</th>\n",
       "      <td>A-100001</td>\n",
       "      <td>MapQuest</td>\n",
       "      <td>201</td>\n",
       "      <td>2</td>\n",
       "      <td>2016-04-05 15:48:40</td>\n",
       "      <td>2016-04-05 16:48:40</td>\n",
       "      <td>33.849846</td>\n",
       "      <td>-117.867081</td>\n",
       "      <td>NaN</td>\n",
       "      <td>NaN</td>\n",
       "      <td>0.00</td>\n",
       "      <td>Accident on Blue Star St Eastbound at White St...</td>\n",
       "      <td>2800.0</td>\n",
       "      <td>E Blue Star St</td>\n",
       "      <td>R</td>\n",
       "      <td>Anaheim</td>\n",
       "      <td>Orange</td>\n",
       "      <td>CA</td>\n",
       "      <td>92806-2507</td>\n",
       "      <td>US</td>\n",
       "      <td>US/Pacific</td>\n",
       "      <td>KFUL</td>\n",
       "      <td>2016-04-05 15:53:00</td>\n",
       "      <td>84.9</td>\n",
       "      <td>NaN</td>\n",
       "      <td>25</td>\n",
       "      <td>29.95</td>\n",
       "      <td>10.0</td>\n",
       "      <td>SSW</td>\n",
       "      <td>8.1</td>\n",
       "      <td>NaN</td>\n",
       "      <td>Clear</td>\n",
       "      <td>False</td>\n",
       "      <td>False</td>\n",
       "      <td>False</td>\n",
       "      <td>False</td>\n",
       "      <td>False</td>\n",
       "      <td>False</td>\n",
       "      <td>False</td>\n",
       "      <td>False</td>\n",
       "      <td>False</td>\n",
       "      <td>False</td>\n",
       "      <td>False</td>\n",
       "      <td>False</td>\n",
       "      <td>False</td>\n",
       "      <td>Day</td>\n",
       "      <td>Day</td>\n",
       "      <td>Day</td>\n",
       "      <td>Day</td>\n",
       "    </tr>\n",
       "  </tbody>\n",
       "</table>\n",
       "<p>100000 rows × 49 columns</p>\n",
       "</div>"
      ],
      "text/plain": [
       "             ID    Source  TMC  Severity           Start_Time             End_Time  Start_Lat   Start_Lng  End_Lat  End_Lng  Distance(mi)                                        Description   Number                     Street Side          City         County State     Zipcode Country    Timezone Airport_Code    Weather_Timestamp  Temperature(F)  Wind_Chill(F)  Humidity(%)  Pressure(in)  Visibility(mi) Wind_Direction  Wind_Speed(mph)  Precipitation(in) Weather_Condition  Amenity   Bump  Crossing  Give_Way  Junction  No_Exit  Railway  Roundabout  Station   Stop  Traffic_Calming  Traffic_Signal  Turning_Loop Sunrise_Sunset Civil_Twilight Nautical_Twilight Astronomical_Twilight\n",
       "0           A-1  MapQuest  201         3  2016-02-08 05:46:00  2016-02-08 11:00:00  39.865147  -84.058723      NaN      NaN          0.01  Right lane blocked due to accident on I-70 Eas...      NaN                     I-70 E    R        Dayton     Montgomery    OH       45424      US  US/Eastern         KFFO  2016-02-08 05:58:00            36.9            NaN           91         29.68            10.0           Calm              NaN               0.02        Light Rain    False  False     False     False     False    False    False       False    False  False            False           False         False          Night          Night             Night                 Night\n",
       "1           A-2  MapQuest  201         2  2016-02-08 06:07:59  2016-02-08 06:37:59  39.928059  -82.831184      NaN      NaN          0.01  Accident on Brice Rd at Tussing Rd. Expect del...   2584.0                   Brice Rd    L  Reynoldsburg       Franklin    OH  43068-3402      US  US/Eastern         KCMH  2016-02-08 05:51:00            37.9            NaN          100         29.65            10.0           Calm              NaN               0.00        Light Rain    False  False     False     False     False    False    False       False    False  False            False           False         False          Night          Night             Night                   Day\n",
       "2           A-3  MapQuest  201         2  2016-02-08 06:49:27  2016-02-08 07:19:27  39.063148  -84.032608      NaN      NaN          0.01  Accident on OH-32 State Route 32 Westbound at ...      NaN             State Route 32    R  Williamsburg       Clermont    OH       45176      US  US/Eastern         KI69  2016-02-08 06:56:00            36.0           33.3          100         29.67            10.0             SW              3.5                NaN          Overcast    False  False     False     False     False    False    False       False    False  False            False            True         False          Night          Night               Day                   Day\n",
       "3           A-4  MapQuest  201         3  2016-02-08 07:23:34  2016-02-08 07:53:34  39.747753  -84.205582      NaN      NaN          0.01  Accident on I-75 Southbound at Exits 52 52B US...      NaN                     I-75 S    R        Dayton     Montgomery    OH       45417      US  US/Eastern         KDAY  2016-02-08 07:38:00            35.1           31.0           96         29.64             9.0             SW              4.6                NaN     Mostly Cloudy    False  False     False     False     False    False    False       False    False  False            False           False         False          Night            Day               Day                   Day\n",
       "4           A-5  MapQuest  201         2  2016-02-08 07:39:07  2016-02-08 08:09:07  39.627781  -84.188354      NaN      NaN          0.01  Accident on McEwen Rd at OH-725 Miamisburg Cen...      NaN  Miamisburg Centerville Rd    R        Dayton     Montgomery    OH       45459      US  US/Eastern         KMGY  2016-02-08 07:53:00            36.0           33.3           89         29.65             6.0             SW              3.5                NaN     Mostly Cloudy    False  False     False     False     False    False    False       False    False  False            False            True         False            Day            Day               Day                   Day\n",
       "...         ...       ...  ...       ...                  ...                  ...        ...         ...      ...      ...           ...                                                ...      ...                        ...  ...           ...            ...   ...         ...     ...         ...          ...                  ...             ...            ...          ...           ...             ...            ...              ...                ...               ...      ...    ...       ...       ...       ...      ...      ...         ...      ...    ...              ...             ...           ...            ...            ...               ...                   ...\n",
       "99995   A-99997  MapQuest  201         2  2016-04-05 15:15:50  2016-04-05 16:15:50  33.232586 -117.145157      NaN      NaN          0.00  Accident on Champagne Blvd near Lawrence Welk Dr.  28657.0             Champagne Blvd    L     Escondido      San Diego    CA       92026      US  US/Pacific         KCRQ  2016-04-05 14:53:00            73.0            NaN           37         30.00            10.0       Variable              6.9                NaN             Clear    False  False     False     False     False    False    False       False    False  False            False           False         False            Day            Day               Day                   Day\n",
       "99996   A-99998  MapQuest  201         2  2016-04-05 15:28:56  2016-04-05 16:28:56  34.413689 -119.528625      NaN      NaN          0.00  Accident two trucks involved on CA-192 Foothil...   1707.0            Santa Monica Rd    L   Carpinteria  Santa Barbara    CA  93013-3068      US  US/Pacific         KSBA  2016-04-05 15:53:00            73.0            NaN           42         29.99            10.0            WSW             11.5                NaN             Clear    False  False     False     False     False    False    False       False    False  False            False           False         False            Day            Day               Day                   Day\n",
       "99997   A-99999  MapQuest  201         3  2016-04-05 15:45:49  2016-04-05 16:45:49  33.797134 -118.108017      NaN      NaN          0.00  Accident on I-405 Northbound before Palo Verde...      NaN                    I-405 N    R    Long Beach    Los Angeles    CA       90815      US  US/Pacific         KLGB  2016-04-05 15:53:00            82.9            NaN           24         29.97            10.0          South              6.9                NaN             Clear    False  False     False     False     False    False    False       False    False  False            False           False         False            Day            Day               Day                   Day\n",
       "99998  A-100000  MapQuest  201         2  2016-04-05 15:47:30  2016-04-05 16:47:30  33.940449 -117.875900      NaN      NaN          0.00  Accident on CA-57 Southbound near Exit 11 Brea...      NaN                    CA-57 S    R          Brea         Orange    CA       92821      US  US/Pacific         KFUL  2016-04-05 15:53:00            84.9            NaN           25         29.95            10.0            SSW              8.1                NaN             Clear    False  False     False     False     False    False    False       False    False  False            False           False         False            Day            Day               Day                   Day\n",
       "99999  A-100001  MapQuest  201         2  2016-04-05 15:48:40  2016-04-05 16:48:40  33.849846 -117.867081      NaN      NaN          0.00  Accident on Blue Star St Eastbound at White St...   2800.0             E Blue Star St    R       Anaheim         Orange    CA  92806-2507      US  US/Pacific         KFUL  2016-04-05 15:53:00            84.9            NaN           25         29.95            10.0            SSW              8.1                NaN             Clear    False  False     False     False     False    False    False       False    False  False            False           False         False            Day            Day               Day                   Day\n",
       "\n",
       "[100000 rows x 49 columns]"
      ]
     },
     "execution_count": 14,
     "metadata": {},
     "output_type": "execute_result"
    }
   ],
   "source": [
    "pd.set_option('expand_frame_repr', False)\n",
    "daten"
   ]
  },
  {
   "cell_type": "code",
   "execution_count": 9,
   "metadata": {},
   "outputs": [
    {
     "data": {
      "text/plain": [
       "Index(['ID', 'Source', 'TMC', 'Severity', 'Start_Time', 'End_Time',\n",
       "       'Start_Lat', 'Start_Lng', 'End_Lat', 'End_Lng', 'Distance(mi)',\n",
       "       'Description', 'Number', 'Street', 'Side', 'City', 'County', 'State',\n",
       "       'Zipcode', 'Country', 'Timezone', 'Airport_Code', 'Weather_Timestamp',\n",
       "       'Temperature(F)', 'Wind_Chill(F)', 'Humidity(%)', 'Pressure(in)',\n",
       "       'Visibility(mi)', 'Wind_Direction', 'Wind_Speed(mph)',\n",
       "       'Precipitation(in)', 'Weather_Condition', 'Amenity', 'Bump', 'Crossing',\n",
       "       'Give_Way', 'Junction', 'No_Exit', 'Railway', 'Roundabout', 'Station',\n",
       "       'Stop', 'Traffic_Calming', 'Traffic_Signal', 'Turning_Loop',\n",
       "       'Sunrise_Sunset', 'Civil_Twilight', 'Nautical_Twilight',\n",
       "       'Astronomical_Twilight'],\n",
       "      dtype='object')"
      ]
     },
     "execution_count": 9,
     "metadata": {},
     "output_type": "execute_result"
    }
   ],
   "source": [
    "daten.columns"
   ]
  },
  {
   "cell_type": "code",
   "execution_count": 11,
   "metadata": {},
   "outputs": [
    {
     "data": {
      "text/plain": [
       "ID                        object\n",
       "Source                    object\n",
       "TMC                        int64\n",
       "Severity                   int64\n",
       "Start_Time                object\n",
       "End_Time                  object\n",
       "Start_Lat                float64\n",
       "Start_Lng                float64\n",
       "End_Lat                  float64\n",
       "End_Lng                  float64\n",
       "Distance(mi)             float64\n",
       "Description               object\n",
       "Number                   float64\n",
       "Street                    object\n",
       "Side                      object\n",
       "City                      object\n",
       "County                    object\n",
       "State                     object\n",
       "Zipcode                   object\n",
       "Country                   object\n",
       "Timezone                  object\n",
       "Airport_Code              object\n",
       "Weather_Timestamp         object\n",
       "Temperature(F)           float64\n",
       "Wind_Chill(F)            float64\n",
       "Humidity(%)                int64\n",
       "Pressure(in)             float64\n",
       "Visibility(mi)           float64\n",
       "Wind_Direction            object\n",
       "Wind_Speed(mph)          float64\n",
       "Precipitation(in)        float64\n",
       "Weather_Condition         object\n",
       "Amenity                     bool\n",
       "Bump                        bool\n",
       "Crossing                    bool\n",
       "Give_Way                    bool\n",
       "Junction                    bool\n",
       "No_Exit                     bool\n",
       "Railway                     bool\n",
       "Roundabout                  bool\n",
       "Station                     bool\n",
       "Stop                        bool\n",
       "Traffic_Calming             bool\n",
       "Traffic_Signal              bool\n",
       "Turning_Loop                bool\n",
       "Sunrise_Sunset            object\n",
       "Civil_Twilight            object\n",
       "Nautical_Twilight         object\n",
       "Astronomical_Twilight     object\n",
       "dtype: object"
      ]
     },
     "execution_count": 11,
     "metadata": {},
     "output_type": "execute_result"
    }
   ],
   "source": [
    "daten.dtypes"
   ]
  },
  {
   "cell_type": "code",
   "execution_count": 20,
   "metadata": {},
   "outputs": [
    {
     "data": {
      "text/plain": [
       "114.1"
      ]
     },
     "execution_count": 20,
     "metadata": {},
     "output_type": "execute_result"
    }
   ],
   "source": [
    "daten['Temperature(F)'].max()"
   ]
  },
  {
   "cell_type": "code",
   "execution_count": 27,
   "metadata": {},
   "outputs": [
    {
     "data": {
      "text/html": [
       "<div>\n",
       "<style scoped>\n",
       "    .dataframe tbody tr th:only-of-type {\n",
       "        vertical-align: middle;\n",
       "    }\n",
       "\n",
       "    .dataframe tbody tr th {\n",
       "        vertical-align: top;\n",
       "    }\n",
       "\n",
       "    .dataframe thead th {\n",
       "        text-align: right;\n",
       "    }\n",
       "</style>\n",
       "<table border=\"1\" class=\"dataframe\">\n",
       "  <thead>\n",
       "    <tr style=\"text-align: right;\">\n",
       "      <th></th>\n",
       "      <th>ID</th>\n",
       "      <th>Source</th>\n",
       "      <th>Severity</th>\n",
       "      <th>Start_Time</th>\n",
       "      <th>End_Time</th>\n",
       "      <th>Start_Lat</th>\n",
       "      <th>Start_Lng</th>\n",
       "      <th>Distance(mi)</th>\n",
       "      <th>Description</th>\n",
       "      <th>Weather_Condition</th>\n",
       "      <th>Amenity</th>\n",
       "      <th>Bump</th>\n",
       "      <th>Crossing</th>\n",
       "      <th>Give_Way</th>\n",
       "      <th>Junction</th>\n",
       "      <th>No_Exit</th>\n",
       "      <th>Railway</th>\n",
       "      <th>Roundabout</th>\n",
       "      <th>Station</th>\n",
       "      <th>Stop</th>\n",
       "      <th>Traffic_Calming</th>\n",
       "      <th>Traffic_Signal</th>\n",
       "      <th>Turning_Loop</th>\n",
       "    </tr>\n",
       "  </thead>\n",
       "  <tbody>\n",
       "    <tr>\n",
       "      <th>0</th>\n",
       "      <td>A-1</td>\n",
       "      <td>MapQuest</td>\n",
       "      <td>3</td>\n",
       "      <td>2016-02-08 05:46:00</td>\n",
       "      <td>2016-02-08 11:00:00</td>\n",
       "      <td>39.865147</td>\n",
       "      <td>-84.058723</td>\n",
       "      <td>0.01</td>\n",
       "      <td>Right lane blocked due to accident on I-70 Eas...</td>\n",
       "      <td>Light Rain</td>\n",
       "      <td>False</td>\n",
       "      <td>False</td>\n",
       "      <td>False</td>\n",
       "      <td>False</td>\n",
       "      <td>False</td>\n",
       "      <td>False</td>\n",
       "      <td>False</td>\n",
       "      <td>False</td>\n",
       "      <td>False</td>\n",
       "      <td>False</td>\n",
       "      <td>False</td>\n",
       "      <td>False</td>\n",
       "      <td>False</td>\n",
       "    </tr>\n",
       "    <tr>\n",
       "      <th>1</th>\n",
       "      <td>A-2</td>\n",
       "      <td>MapQuest</td>\n",
       "      <td>2</td>\n",
       "      <td>2016-02-08 06:07:59</td>\n",
       "      <td>2016-02-08 06:37:59</td>\n",
       "      <td>39.928059</td>\n",
       "      <td>-82.831184</td>\n",
       "      <td>0.01</td>\n",
       "      <td>Accident on Brice Rd at Tussing Rd. Expect del...</td>\n",
       "      <td>Light Rain</td>\n",
       "      <td>False</td>\n",
       "      <td>False</td>\n",
       "      <td>False</td>\n",
       "      <td>False</td>\n",
       "      <td>False</td>\n",
       "      <td>False</td>\n",
       "      <td>False</td>\n",
       "      <td>False</td>\n",
       "      <td>False</td>\n",
       "      <td>False</td>\n",
       "      <td>False</td>\n",
       "      <td>False</td>\n",
       "      <td>False</td>\n",
       "    </tr>\n",
       "    <tr>\n",
       "      <th>2</th>\n",
       "      <td>A-3</td>\n",
       "      <td>MapQuest</td>\n",
       "      <td>2</td>\n",
       "      <td>2016-02-08 06:49:27</td>\n",
       "      <td>2016-02-08 07:19:27</td>\n",
       "      <td>39.063148</td>\n",
       "      <td>-84.032608</td>\n",
       "      <td>0.01</td>\n",
       "      <td>Accident on OH-32 State Route 32 Westbound at ...</td>\n",
       "      <td>Overcast</td>\n",
       "      <td>False</td>\n",
       "      <td>False</td>\n",
       "      <td>False</td>\n",
       "      <td>False</td>\n",
       "      <td>False</td>\n",
       "      <td>False</td>\n",
       "      <td>False</td>\n",
       "      <td>False</td>\n",
       "      <td>False</td>\n",
       "      <td>False</td>\n",
       "      <td>False</td>\n",
       "      <td>True</td>\n",
       "      <td>False</td>\n",
       "    </tr>\n",
       "    <tr>\n",
       "      <th>3</th>\n",
       "      <td>A-4</td>\n",
       "      <td>MapQuest</td>\n",
       "      <td>3</td>\n",
       "      <td>2016-02-08 07:23:34</td>\n",
       "      <td>2016-02-08 07:53:34</td>\n",
       "      <td>39.747753</td>\n",
       "      <td>-84.205582</td>\n",
       "      <td>0.01</td>\n",
       "      <td>Accident on I-75 Southbound at Exits 52 52B US...</td>\n",
       "      <td>Mostly Cloudy</td>\n",
       "      <td>False</td>\n",
       "      <td>False</td>\n",
       "      <td>False</td>\n",
       "      <td>False</td>\n",
       "      <td>False</td>\n",
       "      <td>False</td>\n",
       "      <td>False</td>\n",
       "      <td>False</td>\n",
       "      <td>False</td>\n",
       "      <td>False</td>\n",
       "      <td>False</td>\n",
       "      <td>False</td>\n",
       "      <td>False</td>\n",
       "    </tr>\n",
       "    <tr>\n",
       "      <th>4</th>\n",
       "      <td>A-5</td>\n",
       "      <td>MapQuest</td>\n",
       "      <td>2</td>\n",
       "      <td>2016-02-08 07:39:07</td>\n",
       "      <td>2016-02-08 08:09:07</td>\n",
       "      <td>39.627781</td>\n",
       "      <td>-84.188354</td>\n",
       "      <td>0.01</td>\n",
       "      <td>Accident on McEwen Rd at OH-725 Miamisburg Cen...</td>\n",
       "      <td>Mostly Cloudy</td>\n",
       "      <td>False</td>\n",
       "      <td>False</td>\n",
       "      <td>False</td>\n",
       "      <td>False</td>\n",
       "      <td>False</td>\n",
       "      <td>False</td>\n",
       "      <td>False</td>\n",
       "      <td>False</td>\n",
       "      <td>False</td>\n",
       "      <td>False</td>\n",
       "      <td>False</td>\n",
       "      <td>True</td>\n",
       "      <td>False</td>\n",
       "    </tr>\n",
       "    <tr>\n",
       "      <th>...</th>\n",
       "      <td>...</td>\n",
       "      <td>...</td>\n",
       "      <td>...</td>\n",
       "      <td>...</td>\n",
       "      <td>...</td>\n",
       "      <td>...</td>\n",
       "      <td>...</td>\n",
       "      <td>...</td>\n",
       "      <td>...</td>\n",
       "      <td>...</td>\n",
       "      <td>...</td>\n",
       "      <td>...</td>\n",
       "      <td>...</td>\n",
       "      <td>...</td>\n",
       "      <td>...</td>\n",
       "      <td>...</td>\n",
       "      <td>...</td>\n",
       "      <td>...</td>\n",
       "      <td>...</td>\n",
       "      <td>...</td>\n",
       "      <td>...</td>\n",
       "      <td>...</td>\n",
       "      <td>...</td>\n",
       "    </tr>\n",
       "    <tr>\n",
       "      <th>99995</th>\n",
       "      <td>A-99997</td>\n",
       "      <td>MapQuest</td>\n",
       "      <td>2</td>\n",
       "      <td>2016-04-05 15:15:50</td>\n",
       "      <td>2016-04-05 16:15:50</td>\n",
       "      <td>33.232586</td>\n",
       "      <td>-117.145157</td>\n",
       "      <td>0.00</td>\n",
       "      <td>Accident on Champagne Blvd near Lawrence Welk Dr.</td>\n",
       "      <td>Clear</td>\n",
       "      <td>False</td>\n",
       "      <td>False</td>\n",
       "      <td>False</td>\n",
       "      <td>False</td>\n",
       "      <td>False</td>\n",
       "      <td>False</td>\n",
       "      <td>False</td>\n",
       "      <td>False</td>\n",
       "      <td>False</td>\n",
       "      <td>False</td>\n",
       "      <td>False</td>\n",
       "      <td>False</td>\n",
       "      <td>False</td>\n",
       "    </tr>\n",
       "    <tr>\n",
       "      <th>99996</th>\n",
       "      <td>A-99998</td>\n",
       "      <td>MapQuest</td>\n",
       "      <td>2</td>\n",
       "      <td>2016-04-05 15:28:56</td>\n",
       "      <td>2016-04-05 16:28:56</td>\n",
       "      <td>34.413689</td>\n",
       "      <td>-119.528625</td>\n",
       "      <td>0.00</td>\n",
       "      <td>Accident two trucks involved on CA-192 Foothil...</td>\n",
       "      <td>Clear</td>\n",
       "      <td>False</td>\n",
       "      <td>False</td>\n",
       "      <td>False</td>\n",
       "      <td>False</td>\n",
       "      <td>False</td>\n",
       "      <td>False</td>\n",
       "      <td>False</td>\n",
       "      <td>False</td>\n",
       "      <td>False</td>\n",
       "      <td>False</td>\n",
       "      <td>False</td>\n",
       "      <td>False</td>\n",
       "      <td>False</td>\n",
       "    </tr>\n",
       "    <tr>\n",
       "      <th>99997</th>\n",
       "      <td>A-99999</td>\n",
       "      <td>MapQuest</td>\n",
       "      <td>3</td>\n",
       "      <td>2016-04-05 15:45:49</td>\n",
       "      <td>2016-04-05 16:45:49</td>\n",
       "      <td>33.797134</td>\n",
       "      <td>-118.108017</td>\n",
       "      <td>0.00</td>\n",
       "      <td>Accident on I-405 Northbound before Palo Verde...</td>\n",
       "      <td>Clear</td>\n",
       "      <td>False</td>\n",
       "      <td>False</td>\n",
       "      <td>False</td>\n",
       "      <td>False</td>\n",
       "      <td>False</td>\n",
       "      <td>False</td>\n",
       "      <td>False</td>\n",
       "      <td>False</td>\n",
       "      <td>False</td>\n",
       "      <td>False</td>\n",
       "      <td>False</td>\n",
       "      <td>False</td>\n",
       "      <td>False</td>\n",
       "    </tr>\n",
       "    <tr>\n",
       "      <th>99998</th>\n",
       "      <td>A-100000</td>\n",
       "      <td>MapQuest</td>\n",
       "      <td>2</td>\n",
       "      <td>2016-04-05 15:47:30</td>\n",
       "      <td>2016-04-05 16:47:30</td>\n",
       "      <td>33.940449</td>\n",
       "      <td>-117.875900</td>\n",
       "      <td>0.00</td>\n",
       "      <td>Accident on CA-57 Southbound near Exit 11 Brea...</td>\n",
       "      <td>Clear</td>\n",
       "      <td>False</td>\n",
       "      <td>False</td>\n",
       "      <td>False</td>\n",
       "      <td>False</td>\n",
       "      <td>False</td>\n",
       "      <td>False</td>\n",
       "      <td>False</td>\n",
       "      <td>False</td>\n",
       "      <td>False</td>\n",
       "      <td>False</td>\n",
       "      <td>False</td>\n",
       "      <td>False</td>\n",
       "      <td>False</td>\n",
       "    </tr>\n",
       "    <tr>\n",
       "      <th>99999</th>\n",
       "      <td>A-100001</td>\n",
       "      <td>MapQuest</td>\n",
       "      <td>2</td>\n",
       "      <td>2016-04-05 15:48:40</td>\n",
       "      <td>2016-04-05 16:48:40</td>\n",
       "      <td>33.849846</td>\n",
       "      <td>-117.867081</td>\n",
       "      <td>0.00</td>\n",
       "      <td>Accident on Blue Star St Eastbound at White St...</td>\n",
       "      <td>Clear</td>\n",
       "      <td>False</td>\n",
       "      <td>False</td>\n",
       "      <td>False</td>\n",
       "      <td>False</td>\n",
       "      <td>False</td>\n",
       "      <td>False</td>\n",
       "      <td>False</td>\n",
       "      <td>False</td>\n",
       "      <td>False</td>\n",
       "      <td>False</td>\n",
       "      <td>False</td>\n",
       "      <td>False</td>\n",
       "      <td>False</td>\n",
       "    </tr>\n",
       "  </tbody>\n",
       "</table>\n",
       "<p>100000 rows × 23 columns</p>\n",
       "</div>"
      ],
      "text/plain": [
       "             ID    Source  Severity           Start_Time             End_Time  Start_Lat   Start_Lng  Distance(mi)                                        Description Weather_Condition  Amenity   Bump  Crossing  Give_Way  Junction  No_Exit  Railway  Roundabout  Station   Stop  Traffic_Calming  Traffic_Signal  Turning_Loop\n",
       "0           A-1  MapQuest         3  2016-02-08 05:46:00  2016-02-08 11:00:00  39.865147  -84.058723          0.01  Right lane blocked due to accident on I-70 Eas...        Light Rain    False  False     False     False     False    False    False       False    False  False            False           False         False\n",
       "1           A-2  MapQuest         2  2016-02-08 06:07:59  2016-02-08 06:37:59  39.928059  -82.831184          0.01  Accident on Brice Rd at Tussing Rd. Expect del...        Light Rain    False  False     False     False     False    False    False       False    False  False            False           False         False\n",
       "2           A-3  MapQuest         2  2016-02-08 06:49:27  2016-02-08 07:19:27  39.063148  -84.032608          0.01  Accident on OH-32 State Route 32 Westbound at ...          Overcast    False  False     False     False     False    False    False       False    False  False            False            True         False\n",
       "3           A-4  MapQuest         3  2016-02-08 07:23:34  2016-02-08 07:53:34  39.747753  -84.205582          0.01  Accident on I-75 Southbound at Exits 52 52B US...     Mostly Cloudy    False  False     False     False     False    False    False       False    False  False            False           False         False\n",
       "4           A-5  MapQuest         2  2016-02-08 07:39:07  2016-02-08 08:09:07  39.627781  -84.188354          0.01  Accident on McEwen Rd at OH-725 Miamisburg Cen...     Mostly Cloudy    False  False     False     False     False    False    False       False    False  False            False            True         False\n",
       "...         ...       ...       ...                  ...                  ...        ...         ...           ...                                                ...               ...      ...    ...       ...       ...       ...      ...      ...         ...      ...    ...              ...             ...           ...\n",
       "99995   A-99997  MapQuest         2  2016-04-05 15:15:50  2016-04-05 16:15:50  33.232586 -117.145157          0.00  Accident on Champagne Blvd near Lawrence Welk Dr.             Clear    False  False     False     False     False    False    False       False    False  False            False           False         False\n",
       "99996   A-99998  MapQuest         2  2016-04-05 15:28:56  2016-04-05 16:28:56  34.413689 -119.528625          0.00  Accident two trucks involved on CA-192 Foothil...             Clear    False  False     False     False     False    False    False       False    False  False            False           False         False\n",
       "99997   A-99999  MapQuest         3  2016-04-05 15:45:49  2016-04-05 16:45:49  33.797134 -118.108017          0.00  Accident on I-405 Northbound before Palo Verde...             Clear    False  False     False     False     False    False    False       False    False  False            False           False         False\n",
       "99998  A-100000  MapQuest         2  2016-04-05 15:47:30  2016-04-05 16:47:30  33.940449 -117.875900          0.00  Accident on CA-57 Southbound near Exit 11 Brea...             Clear    False  False     False     False     False    False    False       False    False  False            False           False         False\n",
       "99999  A-100001  MapQuest         2  2016-04-05 15:48:40  2016-04-05 16:48:40  33.849846 -117.867081          0.00  Accident on Blue Star St Eastbound at White St...             Clear    False  False     False     False     False    False    False       False    False  False            False           False         False\n",
       "\n",
       "[100000 rows x 23 columns]"
      ]
     },
     "execution_count": 27,
     "metadata": {},
     "output_type": "execute_result"
    }
   ],
   "source": [
    "daten = daten[['ID', 'Source', 'Severity', 'Start_Time', 'End_Time',\n",
    "       'Start_Lat', 'Start_Lng', 'Distance(mi)',\n",
    "       'Description', 'Weather_Condition', 'Amenity', 'Bump', 'Crossing',\n",
    "       'Give_Way', 'Junction', 'No_Exit', 'Railway', 'Roundabout', 'Station',\n",
    "       'Stop', 'Traffic_Calming', 'Traffic_Signal', 'Turning_Loop',]]\n",
    "daten"
   ]
  },
  {
   "cell_type": "code",
   "execution_count": 36,
   "metadata": {},
   "outputs": [
    {
     "data": {
      "text/plain": [
       "ID                    object\n",
       "Source                object\n",
       "Severity               int64\n",
       "Start_Time            object\n",
       "End_Time              object\n",
       "Start_Lat            float64\n",
       "Start_Lng            float64\n",
       "Distance(mi)         float64\n",
       "Description           object\n",
       "Weather_Condition     object\n",
       "Amenity                 bool\n",
       "Bump                    bool\n",
       "Crossing                bool\n",
       "Give_Way                bool\n",
       "Junction                bool\n",
       "No_Exit                 bool\n",
       "Railway                 bool\n",
       "Roundabout              bool\n",
       "Station                 bool\n",
       "Stop                    bool\n",
       "Traffic_Calming         bool\n",
       "Traffic_Signal          bool\n",
       "Turning_Loop            bool\n",
       "dtype: object"
      ]
     },
     "execution_count": 36,
     "metadata": {},
     "output_type": "execute_result"
    }
   ],
   "source": [
    "daten.dtypes"
   ]
  },
  {
   "cell_type": "code",
   "execution_count": 107,
   "metadata": {},
   "outputs": [
    {
     "data": {
      "application/vnd.plotly.v1+json": {
       "config": {
        "plotlyServerURL": "https://plot.ly"
       },
       "data": [
        {
         "alignmentgroup": "True",
         "hovertemplate": "Variables=%{x}<br>Correlation with Severity=%{y}<extra></extra>",
         "legendgroup": "",
         "marker": {
          "color": "#636efa",
          "line": {
           "color": "black"
          }
         },
         "name": "",
         "offsetgroup": "",
         "orientation": "v",
         "showlegend": false,
         "textposition": "auto",
         "type": "bar",
         "x": [
          "Severity",
          "VSevere",
          "Traffic_Signal",
          "Start_Lat",
          "Crossing",
          "Stop",
          "Junction",
          "Station",
          "Amenity",
          "Start_Lng",
          "Give_Way",
          "Railway",
          "Traffic_Calming",
          "Bump",
          "No_Exit",
          "Roundabout",
          "Distance(mi)",
          "Turning_Loop"
         ],
         "xaxis": "x",
         "y": [
          1,
          0.9973797883841384,
          0.19115550509665377,
          0.1277908889742306,
          0.12583717521930918,
          0.11795880665910846,
          0.09212721034971315,
          0.053590996637818265,
          0.04655660214763893,
          0.039998891761167846,
          0.022057571132774876,
          0.014521531275603712,
          0.011738287896541248,
          0.008722807282642735,
          0.007572897990137998,
          0.006338439153755849,
          0.0006518449602611297,
          null
         ],
         "yaxis": "y"
        }
       ],
       "layout": {
        "autosize": true,
        "barmode": "relative",
        "legend": {
         "tracegroupgap": 0
        },
        "margin": {
         "t": 60
        },
        "template": {
         "data": {
          "bar": [
           {
            "error_x": {
             "color": "#2a3f5f"
            },
            "error_y": {
             "color": "#2a3f5f"
            },
            "marker": {
             "line": {
              "color": "#E5ECF6",
              "width": 0.5
             }
            },
            "type": "bar"
           }
          ],
          "barpolar": [
           {
            "marker": {
             "line": {
              "color": "#E5ECF6",
              "width": 0.5
             }
            },
            "type": "barpolar"
           }
          ],
          "carpet": [
           {
            "aaxis": {
             "endlinecolor": "#2a3f5f",
             "gridcolor": "white",
             "linecolor": "white",
             "minorgridcolor": "white",
             "startlinecolor": "#2a3f5f"
            },
            "baxis": {
             "endlinecolor": "#2a3f5f",
             "gridcolor": "white",
             "linecolor": "white",
             "minorgridcolor": "white",
             "startlinecolor": "#2a3f5f"
            },
            "type": "carpet"
           }
          ],
          "choropleth": [
           {
            "colorbar": {
             "outlinewidth": 0,
             "ticks": ""
            },
            "type": "choropleth"
           }
          ],
          "contour": [
           {
            "colorbar": {
             "outlinewidth": 0,
             "ticks": ""
            },
            "colorscale": [
             [
              0,
              "#0d0887"
             ],
             [
              0.1111111111111111,
              "#46039f"
             ],
             [
              0.2222222222222222,
              "#7201a8"
             ],
             [
              0.3333333333333333,
              "#9c179e"
             ],
             [
              0.4444444444444444,
              "#bd3786"
             ],
             [
              0.5555555555555556,
              "#d8576b"
             ],
             [
              0.6666666666666666,
              "#ed7953"
             ],
             [
              0.7777777777777778,
              "#fb9f3a"
             ],
             [
              0.8888888888888888,
              "#fdca26"
             ],
             [
              1,
              "#f0f921"
             ]
            ],
            "type": "contour"
           }
          ],
          "contourcarpet": [
           {
            "colorbar": {
             "outlinewidth": 0,
             "ticks": ""
            },
            "type": "contourcarpet"
           }
          ],
          "heatmap": [
           {
            "colorbar": {
             "outlinewidth": 0,
             "ticks": ""
            },
            "colorscale": [
             [
              0,
              "#0d0887"
             ],
             [
              0.1111111111111111,
              "#46039f"
             ],
             [
              0.2222222222222222,
              "#7201a8"
             ],
             [
              0.3333333333333333,
              "#9c179e"
             ],
             [
              0.4444444444444444,
              "#bd3786"
             ],
             [
              0.5555555555555556,
              "#d8576b"
             ],
             [
              0.6666666666666666,
              "#ed7953"
             ],
             [
              0.7777777777777778,
              "#fb9f3a"
             ],
             [
              0.8888888888888888,
              "#fdca26"
             ],
             [
              1,
              "#f0f921"
             ]
            ],
            "type": "heatmap"
           }
          ],
          "heatmapgl": [
           {
            "colorbar": {
             "outlinewidth": 0,
             "ticks": ""
            },
            "colorscale": [
             [
              0,
              "#0d0887"
             ],
             [
              0.1111111111111111,
              "#46039f"
             ],
             [
              0.2222222222222222,
              "#7201a8"
             ],
             [
              0.3333333333333333,
              "#9c179e"
             ],
             [
              0.4444444444444444,
              "#bd3786"
             ],
             [
              0.5555555555555556,
              "#d8576b"
             ],
             [
              0.6666666666666666,
              "#ed7953"
             ],
             [
              0.7777777777777778,
              "#fb9f3a"
             ],
             [
              0.8888888888888888,
              "#fdca26"
             ],
             [
              1,
              "#f0f921"
             ]
            ],
            "type": "heatmapgl"
           }
          ],
          "histogram": [
           {
            "marker": {
             "colorbar": {
              "outlinewidth": 0,
              "ticks": ""
             }
            },
            "type": "histogram"
           }
          ],
          "histogram2d": [
           {
            "colorbar": {
             "outlinewidth": 0,
             "ticks": ""
            },
            "colorscale": [
             [
              0,
              "#0d0887"
             ],
             [
              0.1111111111111111,
              "#46039f"
             ],
             [
              0.2222222222222222,
              "#7201a8"
             ],
             [
              0.3333333333333333,
              "#9c179e"
             ],
             [
              0.4444444444444444,
              "#bd3786"
             ],
             [
              0.5555555555555556,
              "#d8576b"
             ],
             [
              0.6666666666666666,
              "#ed7953"
             ],
             [
              0.7777777777777778,
              "#fb9f3a"
             ],
             [
              0.8888888888888888,
              "#fdca26"
             ],
             [
              1,
              "#f0f921"
             ]
            ],
            "type": "histogram2d"
           }
          ],
          "histogram2dcontour": [
           {
            "colorbar": {
             "outlinewidth": 0,
             "ticks": ""
            },
            "colorscale": [
             [
              0,
              "#0d0887"
             ],
             [
              0.1111111111111111,
              "#46039f"
             ],
             [
              0.2222222222222222,
              "#7201a8"
             ],
             [
              0.3333333333333333,
              "#9c179e"
             ],
             [
              0.4444444444444444,
              "#bd3786"
             ],
             [
              0.5555555555555556,
              "#d8576b"
             ],
             [
              0.6666666666666666,
              "#ed7953"
             ],
             [
              0.7777777777777778,
              "#fb9f3a"
             ],
             [
              0.8888888888888888,
              "#fdca26"
             ],
             [
              1,
              "#f0f921"
             ]
            ],
            "type": "histogram2dcontour"
           }
          ],
          "mesh3d": [
           {
            "colorbar": {
             "outlinewidth": 0,
             "ticks": ""
            },
            "type": "mesh3d"
           }
          ],
          "parcoords": [
           {
            "line": {
             "colorbar": {
              "outlinewidth": 0,
              "ticks": ""
             }
            },
            "type": "parcoords"
           }
          ],
          "pie": [
           {
            "automargin": true,
            "type": "pie"
           }
          ],
          "scatter": [
           {
            "marker": {
             "colorbar": {
              "outlinewidth": 0,
              "ticks": ""
             }
            },
            "type": "scatter"
           }
          ],
          "scatter3d": [
           {
            "line": {
             "colorbar": {
              "outlinewidth": 0,
              "ticks": ""
             }
            },
            "marker": {
             "colorbar": {
              "outlinewidth": 0,
              "ticks": ""
             }
            },
            "type": "scatter3d"
           }
          ],
          "scattercarpet": [
           {
            "marker": {
             "colorbar": {
              "outlinewidth": 0,
              "ticks": ""
             }
            },
            "type": "scattercarpet"
           }
          ],
          "scattergeo": [
           {
            "marker": {
             "colorbar": {
              "outlinewidth": 0,
              "ticks": ""
             }
            },
            "type": "scattergeo"
           }
          ],
          "scattergl": [
           {
            "marker": {
             "colorbar": {
              "outlinewidth": 0,
              "ticks": ""
             }
            },
            "type": "scattergl"
           }
          ],
          "scattermapbox": [
           {
            "marker": {
             "colorbar": {
              "outlinewidth": 0,
              "ticks": ""
             }
            },
            "type": "scattermapbox"
           }
          ],
          "scatterpolar": [
           {
            "marker": {
             "colorbar": {
              "outlinewidth": 0,
              "ticks": ""
             }
            },
            "type": "scatterpolar"
           }
          ],
          "scatterpolargl": [
           {
            "marker": {
             "colorbar": {
              "outlinewidth": 0,
              "ticks": ""
             }
            },
            "type": "scatterpolargl"
           }
          ],
          "scatterternary": [
           {
            "marker": {
             "colorbar": {
              "outlinewidth": 0,
              "ticks": ""
             }
            },
            "type": "scatterternary"
           }
          ],
          "surface": [
           {
            "colorbar": {
             "outlinewidth": 0,
             "ticks": ""
            },
            "colorscale": [
             [
              0,
              "#0d0887"
             ],
             [
              0.1111111111111111,
              "#46039f"
             ],
             [
              0.2222222222222222,
              "#7201a8"
             ],
             [
              0.3333333333333333,
              "#9c179e"
             ],
             [
              0.4444444444444444,
              "#bd3786"
             ],
             [
              0.5555555555555556,
              "#d8576b"
             ],
             [
              0.6666666666666666,
              "#ed7953"
             ],
             [
              0.7777777777777778,
              "#fb9f3a"
             ],
             [
              0.8888888888888888,
              "#fdca26"
             ],
             [
              1,
              "#f0f921"
             ]
            ],
            "type": "surface"
           }
          ],
          "table": [
           {
            "cells": {
             "fill": {
              "color": "#EBF0F8"
             },
             "line": {
              "color": "white"
             }
            },
            "header": {
             "fill": {
              "color": "#C8D4E3"
             },
             "line": {
              "color": "white"
             }
            },
            "type": "table"
           }
          ]
         },
         "layout": {
          "annotationdefaults": {
           "arrowcolor": "#2a3f5f",
           "arrowhead": 0,
           "arrowwidth": 1
          },
          "autotypenumbers": "strict",
          "coloraxis": {
           "colorbar": {
            "outlinewidth": 0,
            "ticks": ""
           }
          },
          "colorscale": {
           "diverging": [
            [
             0,
             "#8e0152"
            ],
            [
             0.1,
             "#c51b7d"
            ],
            [
             0.2,
             "#de77ae"
            ],
            [
             0.3,
             "#f1b6da"
            ],
            [
             0.4,
             "#fde0ef"
            ],
            [
             0.5,
             "#f7f7f7"
            ],
            [
             0.6,
             "#e6f5d0"
            ],
            [
             0.7,
             "#b8e186"
            ],
            [
             0.8,
             "#7fbc41"
            ],
            [
             0.9,
             "#4d9221"
            ],
            [
             1,
             "#276419"
            ]
           ],
           "sequential": [
            [
             0,
             "#0d0887"
            ],
            [
             0.1111111111111111,
             "#46039f"
            ],
            [
             0.2222222222222222,
             "#7201a8"
            ],
            [
             0.3333333333333333,
             "#9c179e"
            ],
            [
             0.4444444444444444,
             "#bd3786"
            ],
            [
             0.5555555555555556,
             "#d8576b"
            ],
            [
             0.6666666666666666,
             "#ed7953"
            ],
            [
             0.7777777777777778,
             "#fb9f3a"
            ],
            [
             0.8888888888888888,
             "#fdca26"
            ],
            [
             1,
             "#f0f921"
            ]
           ],
           "sequentialminus": [
            [
             0,
             "#0d0887"
            ],
            [
             0.1111111111111111,
             "#46039f"
            ],
            [
             0.2222222222222222,
             "#7201a8"
            ],
            [
             0.3333333333333333,
             "#9c179e"
            ],
            [
             0.4444444444444444,
             "#bd3786"
            ],
            [
             0.5555555555555556,
             "#d8576b"
            ],
            [
             0.6666666666666666,
             "#ed7953"
            ],
            [
             0.7777777777777778,
             "#fb9f3a"
            ],
            [
             0.8888888888888888,
             "#fdca26"
            ],
            [
             1,
             "#f0f921"
            ]
           ]
          },
          "colorway": [
           "#636efa",
           "#EF553B",
           "#00cc96",
           "#ab63fa",
           "#FFA15A",
           "#19d3f3",
           "#FF6692",
           "#B6E880",
           "#FF97FF",
           "#FECB52"
          ],
          "font": {
           "color": "#2a3f5f"
          },
          "geo": {
           "bgcolor": "white",
           "lakecolor": "white",
           "landcolor": "#E5ECF6",
           "showlakes": true,
           "showland": true,
           "subunitcolor": "white"
          },
          "hoverlabel": {
           "align": "left"
          },
          "hovermode": "closest",
          "mapbox": {
           "style": "light"
          },
          "paper_bgcolor": "white",
          "plot_bgcolor": "#E5ECF6",
          "polar": {
           "angularaxis": {
            "gridcolor": "white",
            "linecolor": "white",
            "ticks": ""
           },
           "bgcolor": "#E5ECF6",
           "radialaxis": {
            "gridcolor": "white",
            "linecolor": "white",
            "ticks": ""
           }
          },
          "scene": {
           "xaxis": {
            "backgroundcolor": "#E5ECF6",
            "gridcolor": "white",
            "gridwidth": 2,
            "linecolor": "white",
            "showbackground": true,
            "ticks": "",
            "zerolinecolor": "white"
           },
           "yaxis": {
            "backgroundcolor": "#E5ECF6",
            "gridcolor": "white",
            "gridwidth": 2,
            "linecolor": "white",
            "showbackground": true,
            "ticks": "",
            "zerolinecolor": "white"
           },
           "zaxis": {
            "backgroundcolor": "#E5ECF6",
            "gridcolor": "white",
            "gridwidth": 2,
            "linecolor": "white",
            "showbackground": true,
            "ticks": "",
            "zerolinecolor": "white"
           }
          },
          "shapedefaults": {
           "line": {
            "color": "#2a3f5f"
           }
          },
          "ternary": {
           "aaxis": {
            "gridcolor": "white",
            "linecolor": "white",
            "ticks": ""
           },
           "baxis": {
            "gridcolor": "white",
            "linecolor": "white",
            "ticks": ""
           },
           "bgcolor": "#E5ECF6",
           "caxis": {
            "gridcolor": "white",
            "linecolor": "white",
            "ticks": ""
           }
          },
          "title": {
           "x": 0.05
          },
          "xaxis": {
           "automargin": true,
           "gridcolor": "white",
           "linecolor": "white",
           "ticks": "",
           "title": {
            "standoff": 15
           },
           "zerolinecolor": "white",
           "zerolinewidth": 2
          },
          "yaxis": {
           "automargin": true,
           "gridcolor": "white",
           "linecolor": "white",
           "ticks": "",
           "title": {
            "standoff": 15
           },
           "zerolinecolor": "white",
           "zerolinewidth": 2
          }
         }
        },
        "xaxis": {
         "anchor": "y",
         "autorange": true,
         "domain": [
          0,
          1
         ],
         "range": [
          -0.5,
          17.5
         ],
         "tickangle": 45,
         "tickfont": {
          "color": "black",
          "size": 13
         },
         "title": {
          "text": "Variables"
         },
         "type": "category"
        },
        "yaxis": {
         "anchor": "x",
         "autorange": true,
         "domain": [
          0,
          1
         ],
         "range": [
          0,
          1.0526315789473684
         ],
         "title": {
          "text": "Correlation with Severity"
         },
         "type": "linear"
        }
       }
      },
      "image/png": "[encoded data removed]",
      "text/html": [
       "<div>                            <div id=\"8c929836-8ec1-48e0-baa1-a00e9baaaebc\" class=\"plotly-graph-div\" style=\"height:700px; width:100%;\"></div>            <script type=\"text/javascript\">                require([\"plotly\"], function(Plotly) {                    window.PLOTLYENV=window.PLOTLYENV || {};                                    if (document.getElementById(\"8c929836-8ec1-48e0-baa1-a00e9baaaebc\")) {                    Plotly.newPlot(                        \"8c929836-8ec1-48e0-baa1-a00e9baaaebc\",                        [{\"alignmentgroup\": \"True\", \"hovertemplate\": \"Variables=%{x}<br>Correlation with Severity=%{y}<extra></extra>\", \"legendgroup\": \"\", \"marker\": {\"color\": \"#636efa\", \"line\": {\"color\": \"black\"}}, \"name\": \"\", \"offsetgroup\": \"\", \"orientation\": \"v\", \"showlegend\": false, \"textposition\": \"auto\", \"type\": \"bar\", \"x\": [\"Severity\", \"VSevere\", \"Traffic_Signal\", \"Start_Lat\", \"Crossing\", \"Stop\", \"Junction\", \"Station\", \"Amenity\", \"Start_Lng\", \"Give_Way\", \"Railway\", \"Traffic_Calming\", \"Bump\", \"No_Exit\", \"Roundabout\", \"Distance(mi)\", \"Turning_Loop\"], \"xaxis\": \"x\", \"y\": [1.0, 0.9973797883841384, 0.19115550509665377, 0.1277908889742306, 0.12583717521930918, 0.11795880665910846, 0.09212721034971315, 0.053590996637818265, 0.04655660214763893, 0.039998891761167846, 0.022057571132774876, 0.014521531275603712, 0.011738287896541248, 0.008722807282642735, 0.007572897990137998, 0.006338439153755849, 0.0006518449602611297, null], \"yaxis\": \"y\"}],                        {\"barmode\": \"relative\", \"height\": 700, \"legend\": {\"tracegroupgap\": 0}, \"margin\": {\"t\": 60}, \"template\": {\"data\": {\"bar\": [{\"error_x\": {\"color\": \"#2a3f5f\"}, \"error_y\": {\"color\": \"#2a3f5f\"}, \"marker\": {\"line\": {\"color\": \"#E5ECF6\", \"width\": 0.5}}, \"type\": \"bar\"}], \"barpolar\": [{\"marker\": {\"line\": {\"color\": \"#E5ECF6\", \"width\": 0.5}}, \"type\": \"barpolar\"}], \"carpet\": [{\"aaxis\": {\"endlinecolor\": \"#2a3f5f\", \"gridcolor\": \"white\", \"linecolor\": \"white\", \"minorgridcolor\": \"white\", \"startlinecolor\": \"#2a3f5f\"}, \"baxis\": {\"endlinecolor\": \"#2a3f5f\", \"gridcolor\": \"white\", \"linecolor\": \"white\", \"minorgridcolor\": \"white\", \"startlinecolor\": \"#2a3f5f\"}, \"type\": \"carpet\"}], \"choropleth\": [{\"colorbar\": {\"outlinewidth\": 0, \"ticks\": \"\"}, \"type\": \"choropleth\"}], \"contour\": [{\"colorbar\": {\"outlinewidth\": 0, \"ticks\": \"\"}, \"colorscale\": [[0.0, \"#0d0887\"], [0.1111111111111111, \"#46039f\"], [0.2222222222222222, \"#7201a8\"], [0.3333333333333333, \"#9c179e\"], [0.4444444444444444, \"#bd3786\"], [0.5555555555555556, \"#d8576b\"], [0.6666666666666666, \"#ed7953\"], [0.7777777777777778, \"#fb9f3a\"], [0.8888888888888888, \"#fdca26\"], [1.0, \"#f0f921\"]], \"type\": \"contour\"}], \"contourcarpet\": [{\"colorbar\": {\"outlinewidth\": 0, \"ticks\": \"\"}, \"type\": \"contourcarpet\"}], \"heatmap\": [{\"colorbar\": {\"outlinewidth\": 0, \"ticks\": \"\"}, \"colorscale\": [[0.0, \"#0d0887\"], [0.1111111111111111, \"#46039f\"], [0.2222222222222222, \"#7201a8\"], [0.3333333333333333, \"#9c179e\"], [0.4444444444444444, \"#bd3786\"], [0.5555555555555556, \"#d8576b\"], [0.6666666666666666, \"#ed7953\"], [0.7777777777777778, \"#fb9f3a\"], [0.8888888888888888, \"#fdca26\"], [1.0, \"#f0f921\"]], \"type\": \"heatmap\"}], \"heatmapgl\": [{\"colorbar\": {\"outlinewidth\": 0, \"ticks\": \"\"}, \"colorscale\": [[0.0, \"#0d0887\"], [0.1111111111111111, \"#46039f\"], [0.2222222222222222, \"#7201a8\"], [0.3333333333333333, \"#9c179e\"], [0.4444444444444444, \"#bd3786\"], [0.5555555555555556, \"#d8576b\"], [0.6666666666666666, \"#ed7953\"], [0.7777777777777778, \"#fb9f3a\"], [0.8888888888888888, \"#fdca26\"], [1.0, \"#f0f921\"]], \"type\": \"heatmapgl\"}], \"histogram\": [{\"marker\": {\"colorbar\": {\"outlinewidth\": 0, \"ticks\": \"\"}}, \"type\": \"histogram\"}], \"histogram2d\": [{\"colorbar\": {\"outlinewidth\": 0, \"ticks\": \"\"}, \"colorscale\": [[0.0, \"#0d0887\"], [0.1111111111111111, \"#46039f\"], [0.2222222222222222, \"#7201a8\"], [0.3333333333333333, \"#9c179e\"], [0.4444444444444444, \"#bd3786\"], [0.5555555555555556, \"#d8576b\"], [0.6666666666666666, \"#ed7953\"], [0.7777777777777778, \"#fb9f3a\"], [0.8888888888888888, \"#fdca26\"], [1.0, \"#f0f921\"]], \"type\": \"histogram2d\"}], \"histogram2dcontour\": [{\"colorbar\": {\"outlinewidth\": 0, \"ticks\": \"\"}, \"colorscale\": [[0.0, \"#0d0887\"], [0.1111111111111111, \"#46039f\"], [0.2222222222222222, \"#7201a8\"], [0.3333333333333333, \"#9c179e\"], [0.4444444444444444, \"#bd3786\"], [0.5555555555555556, \"#d8576b\"], [0.6666666666666666, \"#ed7953\"], [0.7777777777777778, \"#fb9f3a\"], [0.8888888888888888, \"#fdca26\"], [1.0, \"#f0f921\"]], \"type\": \"histogram2dcontour\"}], \"mesh3d\": [{\"colorbar\": {\"outlinewidth\": 0, \"ticks\": \"\"}, \"type\": \"mesh3d\"}], \"parcoords\": [{\"line\": {\"colorbar\": {\"outlinewidth\": 0, \"ticks\": \"\"}}, \"type\": \"parcoords\"}], \"pie\": [{\"automargin\": true, \"type\": \"pie\"}], \"scatter\": [{\"marker\": {\"colorbar\": {\"outlinewidth\": 0, \"ticks\": \"\"}}, \"type\": \"scatter\"}], \"scatter3d\": [{\"line\": {\"colorbar\": {\"outlinewidth\": 0, \"ticks\": \"\"}}, \"marker\": {\"colorbar\": {\"outlinewidth\": 0, \"ticks\": \"\"}}, \"type\": \"scatter3d\"}], \"scattercarpet\": [{\"marker\": {\"colorbar\": {\"outlinewidth\": 0, \"ticks\": \"\"}}, \"type\": \"scattercarpet\"}], \"scattergeo\": [{\"marker\": {\"colorbar\": {\"outlinewidth\": 0, \"ticks\": \"\"}}, \"type\": \"scattergeo\"}], \"scattergl\": [{\"marker\": {\"colorbar\": {\"outlinewidth\": 0, \"ticks\": \"\"}}, \"type\": \"scattergl\"}], \"scattermapbox\": [{\"marker\": {\"colorbar\": {\"outlinewidth\": 0, \"ticks\": \"\"}}, \"type\": \"scattermapbox\"}], \"scatterpolar\": [{\"marker\": {\"colorbar\": {\"outlinewidth\": 0, \"ticks\": \"\"}}, \"type\": \"scatterpolar\"}], \"scatterpolargl\": [{\"marker\": {\"colorbar\": {\"outlinewidth\": 0, \"ticks\": \"\"}}, \"type\": \"scatterpolargl\"}], \"scatterternary\": [{\"marker\": {\"colorbar\": {\"outlinewidth\": 0, \"ticks\": \"\"}}, \"type\": \"scatterternary\"}], \"surface\": [{\"colorbar\": {\"outlinewidth\": 0, \"ticks\": \"\"}, \"colorscale\": [[0.0, \"#0d0887\"], [0.1111111111111111, \"#46039f\"], [0.2222222222222222, \"#7201a8\"], [0.3333333333333333, \"#9c179e\"], [0.4444444444444444, \"#bd3786\"], [0.5555555555555556, \"#d8576b\"], [0.6666666666666666, \"#ed7953\"], [0.7777777777777778, \"#fb9f3a\"], [0.8888888888888888, \"#fdca26\"], [1.0, \"#f0f921\"]], \"type\": \"surface\"}], \"table\": [{\"cells\": {\"fill\": {\"color\": \"#EBF0F8\"}, \"line\": {\"color\": \"white\"}}, \"header\": {\"fill\": {\"color\": \"#C8D4E3\"}, \"line\": {\"color\": \"white\"}}, \"type\": \"table\"}]}, \"layout\": {\"annotationdefaults\": {\"arrowcolor\": \"#2a3f5f\", \"arrowhead\": 0, \"arrowwidth\": 1}, \"autotypenumbers\": \"strict\", \"coloraxis\": {\"colorbar\": {\"outlinewidth\": 0, \"ticks\": \"\"}}, \"colorscale\": {\"diverging\": [[0, \"#8e0152\"], [0.1, \"#c51b7d\"], [0.2, \"#de77ae\"], [0.3, \"#f1b6da\"], [0.4, \"#fde0ef\"], [0.5, \"#f7f7f7\"], [0.6, \"#e6f5d0\"], [0.7, \"#b8e186\"], [0.8, \"#7fbc41\"], [0.9, \"#4d9221\"], [1, \"#276419\"]], \"sequential\": [[0.0, \"#0d0887\"], [0.1111111111111111, \"#46039f\"], [0.2222222222222222, \"#7201a8\"], [0.3333333333333333, \"#9c179e\"], [0.4444444444444444, \"#bd3786\"], [0.5555555555555556, \"#d8576b\"], [0.6666666666666666, \"#ed7953\"], [0.7777777777777778, \"#fb9f3a\"], [0.8888888888888888, \"#fdca26\"], [1.0, \"#f0f921\"]], \"sequentialminus\": [[0.0, \"#0d0887\"], [0.1111111111111111, \"#46039f\"], [0.2222222222222222, \"#7201a8\"], [0.3333333333333333, \"#9c179e\"], [0.4444444444444444, \"#bd3786\"], [0.5555555555555556, \"#d8576b\"], [0.6666666666666666, \"#ed7953\"], [0.7777777777777778, \"#fb9f3a\"], [0.8888888888888888, \"#fdca26\"], [1.0, \"#f0f921\"]]}, \"colorway\": [\"#636efa\", \"#EF553B\", \"#00cc96\", \"#ab63fa\", \"#FFA15A\", \"#19d3f3\", \"#FF6692\", \"#B6E880\", \"#FF97FF\", \"#FECB52\"], \"font\": {\"color\": \"#2a3f5f\"}, \"geo\": {\"bgcolor\": \"white\", \"lakecolor\": \"white\", \"landcolor\": \"#E5ECF6\", \"showlakes\": true, \"showland\": true, \"subunitcolor\": \"white\"}, \"hoverlabel\": {\"align\": \"left\"}, \"hovermode\": \"closest\", \"mapbox\": {\"style\": \"light\"}, \"paper_bgcolor\": \"white\", \"plot_bgcolor\": \"#E5ECF6\", \"polar\": {\"angularaxis\": {\"gridcolor\": \"white\", \"linecolor\": \"white\", \"ticks\": \"\"}, \"bgcolor\": \"#E5ECF6\", \"radialaxis\": {\"gridcolor\": \"white\", \"linecolor\": \"white\", \"ticks\": \"\"}}, \"scene\": {\"xaxis\": {\"backgroundcolor\": \"#E5ECF6\", \"gridcolor\": \"white\", \"gridwidth\": 2, \"linecolor\": \"white\", \"showbackground\": true, \"ticks\": \"\", \"zerolinecolor\": \"white\"}, \"yaxis\": {\"backgroundcolor\": \"#E5ECF6\", \"gridcolor\": \"white\", \"gridwidth\": 2, \"linecolor\": \"white\", \"showbackground\": true, \"ticks\": \"\", \"zerolinecolor\": \"white\"}, \"zaxis\": {\"backgroundcolor\": \"#E5ECF6\", \"gridcolor\": \"white\", \"gridwidth\": 2, \"linecolor\": \"white\", \"showbackground\": true, \"ticks\": \"\", \"zerolinecolor\": \"white\"}}, \"shapedefaults\": {\"line\": {\"color\": \"#2a3f5f\"}}, \"ternary\": {\"aaxis\": {\"gridcolor\": \"white\", \"linecolor\": \"white\", \"ticks\": \"\"}, \"baxis\": {\"gridcolor\": \"white\", \"linecolor\": \"white\", \"ticks\": \"\"}, \"bgcolor\": \"#E5ECF6\", \"caxis\": {\"gridcolor\": \"white\", \"linecolor\": \"white\", \"ticks\": \"\"}}, \"title\": {\"x\": 0.05}, \"xaxis\": {\"automargin\": true, \"gridcolor\": \"white\", \"linecolor\": \"white\", \"ticks\": \"\", \"title\": {\"standoff\": 15}, \"zerolinecolor\": \"white\", \"zerolinewidth\": 2}, \"yaxis\": {\"automargin\": true, \"gridcolor\": \"white\", \"linecolor\": \"white\", \"ticks\": \"\", \"title\": {\"standoff\": 15}, \"zerolinecolor\": \"white\", \"zerolinewidth\": 2}}}, \"xaxis\": {\"anchor\": \"y\", \"domain\": [0.0, 1.0], \"tickangle\": 45, \"tickfont\": {\"color\": \"black\", \"size\": 13}, \"title\": {\"text\": \"Variables\"}}, \"yaxis\": {\"anchor\": \"x\", \"domain\": [0.0, 1.0], \"title\": {\"text\": \"Correlation with Severity\"}}},                        {\"responsive\": true}                    ).then(function(){\n",
       "                            \n",
       "var gd = document.getElementById('8c929836-8ec1-48e0-baa1-a00e9baaaebc');\n",
       "var x = new MutationObserver(function (mutations, observer) {{\n",
       "        var display = window.getComputedStyle(gd).display;\n",
       "        if (!display || display === 'none') {{\n",
       "            console.log([gd, 'removed!']);\n",
       "            Plotly.purge(gd);\n",
       "            observer.disconnect();\n",
       "        }}\n",
       "}});\n",
       "\n",
       "// Listen for the removal of the full notebook cells\n",
       "var notebookContainer = gd.closest('#notebook-container');\n",
       "if (notebookContainer) {{\n",
       "    x.observe(notebookContainer, {childList: true});\n",
       "}}\n",
       "\n",
       "// Listen for the clearing of the current output cell\n",
       "var outputEl = gd.closest('.output');\n",
       "if (outputEl) {{\n",
       "    x.observe(outputEl, {childList: true});\n",
       "}}\n",
       "\n",
       "                        })                };                });            </script>        </div>"
      ]
     },
     "metadata": {},
     "output_type": "display_data"
    }
   ],
   "source": [
    "datencorr = daten.corr().reset_index()\n",
    "datencorr['Severity'] = abs(datencorr.Severity)\n",
    "datencorr = datencorr.sort_values('Severity',ascending=False)\n",
    "\n",
    "\n",
    "barplot(datencorr,'index','Severity',labeldict=dict(Severity='Correlation with Severity',index = 'Variables'))"
   ]
  },
  {
   "cell_type": "code",
   "execution_count": 103,
   "metadata": {},
   "outputs": [],
   "source": [
    "daten['VSevere'] = np.where(daten.Severity > 2,1,0)"
   ]
  },
  {
   "cell_type": "code",
   "execution_count": 99,
   "metadata": {},
   "outputs": [
    {
     "data": {
      "text/plain": [
       "[Text(0.5, 0, 'Severity'),\n",
       " Text(1.5, 0, 'Start_Lat'),\n",
       " Text(2.5, 0, 'Start_Lng'),\n",
       " Text(3.5, 0, 'Distance(mi)'),\n",
       " Text(4.5, 0, 'Amenity'),\n",
       " Text(5.5, 0, 'Bump'),\n",
       " Text(6.5, 0, 'Crossing'),\n",
       " Text(7.5, 0, 'Give_Way'),\n",
       " Text(8.5, 0, 'Junction'),\n",
       " Text(9.5, 0, 'No_Exit'),\n",
       " Text(10.5, 0, 'Railway'),\n",
       " Text(11.5, 0, 'Roundabout'),\n",
       " Text(12.5, 0, 'Station'),\n",
       " Text(13.5, 0, 'Stop'),\n",
       " Text(14.5, 0, 'Traffic_Calming'),\n",
       " Text(15.5, 0, 'Traffic_Signal'),\n",
       " Text(16.5, 0, 'Turning_Loop')]"
      ]
     },
     "execution_count": 99,
     "metadata": {},
     "output_type": "execute_result"
    },
    {
     "data": {
      "image/png": "[encoded data removed]",
      "text/plain": [
       "<Figure size 842.4x595.44 with 2 Axes>"
      ]
     },
     "metadata": {
      "needs_background": "light"
     },
     "output_type": "display_data"
    }
   ],
   "source": [
    "a4_dims = (11.7, 8.27)\n",
    "#df = mylib.load_data()\n",
    "fig, ax = plt.subplots(figsize=a4_dims)\n",
    "corr = daten.corr()\n",
    "ax = sns.heatmap(corr,ax=ax,  \n",
    "                 vmin=-1, vmax=1, center=0,\n",
    "                 cmap=sns.diverging_palette(20, 220, n=200),\n",
    "                 square=True\n",
    ")\n",
    "ax.set_xticklabels(\n",
    "    ax.get_xticklabels(),\n",
    "    rotation=45,\n",
    "    horizontalalignment='right'\n",
    ")"
   ]
  },
  {
   "cell_type": "code",
   "execution_count": 104,
   "metadata": {},
   "outputs": [
    {
     "data": {
      "text/html": [
       "<div>\n",
       "<style scoped>\n",
       "    .dataframe tbody tr th:only-of-type {\n",
       "        vertical-align: middle;\n",
       "    }\n",
       "\n",
       "    .dataframe tbody tr th {\n",
       "        vertical-align: top;\n",
       "    }\n",
       "\n",
       "    .dataframe thead th {\n",
       "        text-align: right;\n",
       "    }\n",
       "</style>\n",
       "<table border=\"1\" class=\"dataframe\">\n",
       "  <thead>\n",
       "    <tr style=\"text-align: right;\">\n",
       "      <th></th>\n",
       "      <th>Severity</th>\n",
       "      <th>Start_Lat</th>\n",
       "      <th>Start_Lng</th>\n",
       "      <th>Distance(mi)</th>\n",
       "      <th>Amenity</th>\n",
       "      <th>Bump</th>\n",
       "      <th>Crossing</th>\n",
       "      <th>Give_Way</th>\n",
       "      <th>Junction</th>\n",
       "      <th>No_Exit</th>\n",
       "      <th>Railway</th>\n",
       "      <th>Roundabout</th>\n",
       "      <th>Station</th>\n",
       "      <th>Stop</th>\n",
       "      <th>Traffic_Calming</th>\n",
       "      <th>Traffic_Signal</th>\n",
       "      <th>Turning_Loop</th>\n",
       "      <th>VSevere</th>\n",
       "    </tr>\n",
       "  </thead>\n",
       "  <tbody>\n",
       "    <tr>\n",
       "      <th>Severity</th>\n",
       "      <td>1.000000</td>\n",
       "      <td>-0.127791</td>\n",
       "      <td>0.039999</td>\n",
       "      <td>-0.000652</td>\n",
       "      <td>-0.046557</td>\n",
       "      <td>-0.008723</td>\n",
       "      <td>-0.125837</td>\n",
       "      <td>-0.022058</td>\n",
       "      <td>0.092127</td>\n",
       "      <td>0.007573</td>\n",
       "      <td>0.014522</td>\n",
       "      <td>-0.006338</td>\n",
       "      <td>-0.053591</td>\n",
       "      <td>-0.117959</td>\n",
       "      <td>-0.011738</td>\n",
       "      <td>-0.191156</td>\n",
       "      <td>NaN</td>\n",
       "      <td>0.997380</td>\n",
       "    </tr>\n",
       "    <tr>\n",
       "      <th>Start_Lat</th>\n",
       "      <td>-0.127791</td>\n",
       "      <td>1.000000</td>\n",
       "      <td>-0.366807</td>\n",
       "      <td>0.018194</td>\n",
       "      <td>0.002923</td>\n",
       "      <td>0.011030</td>\n",
       "      <td>0.101460</td>\n",
       "      <td>0.017452</td>\n",
       "      <td>0.096314</td>\n",
       "      <td>0.006720</td>\n",
       "      <td>-0.005205</td>\n",
       "      <td>0.006757</td>\n",
       "      <td>-0.063254</td>\n",
       "      <td>0.075839</td>\n",
       "      <td>0.012349</td>\n",
       "      <td>-0.009078</td>\n",
       "      <td>NaN</td>\n",
       "      <td>-0.128016</td>\n",
       "    </tr>\n",
       "    <tr>\n",
       "      <th>Start_Lng</th>\n",
       "      <td>0.039999</td>\n",
       "      <td>-0.366807</td>\n",
       "      <td>1.000000</td>\n",
       "      <td>0.000544</td>\n",
       "      <td>-0.003410</td>\n",
       "      <td>-0.008696</td>\n",
       "      <td>-0.045202</td>\n",
       "      <td>-0.016868</td>\n",
       "      <td>-0.084704</td>\n",
       "      <td>-0.007356</td>\n",
       "      <td>-0.008783</td>\n",
       "      <td>-0.003143</td>\n",
       "      <td>0.021597</td>\n",
       "      <td>-0.047000</td>\n",
       "      <td>-0.011078</td>\n",
       "      <td>0.034471</td>\n",
       "      <td>NaN</td>\n",
       "      <td>0.040059</td>\n",
       "    </tr>\n",
       "    <tr>\n",
       "      <th>Distance(mi)</th>\n",
       "      <td>-0.000652</td>\n",
       "      <td>0.018194</td>\n",
       "      <td>0.000544</td>\n",
       "      <td>1.000000</td>\n",
       "      <td>-0.001412</td>\n",
       "      <td>-0.000548</td>\n",
       "      <td>0.000781</td>\n",
       "      <td>-0.000704</td>\n",
       "      <td>-0.004702</td>\n",
       "      <td>-0.000508</td>\n",
       "      <td>0.001368</td>\n",
       "      <td>-0.000306</td>\n",
       "      <td>-0.003039</td>\n",
       "      <td>0.009924</td>\n",
       "      <td>-0.000561</td>\n",
       "      <td>-0.007148</td>\n",
       "      <td>NaN</td>\n",
       "      <td>-0.000703</td>\n",
       "    </tr>\n",
       "    <tr>\n",
       "      <th>Amenity</th>\n",
       "      <td>-0.046557</td>\n",
       "      <td>0.002923</td>\n",
       "      <td>-0.003410</td>\n",
       "      <td>-0.001412</td>\n",
       "      <td>1.000000</td>\n",
       "      <td>0.005648</td>\n",
       "      <td>0.070532</td>\n",
       "      <td>0.026648</td>\n",
       "      <td>-0.030534</td>\n",
       "      <td>-0.001594</td>\n",
       "      <td>0.022797</td>\n",
       "      <td>-0.000651</td>\n",
       "      <td>0.173516</td>\n",
       "      <td>0.030105</td>\n",
       "      <td>0.032909</td>\n",
       "      <td>0.096755</td>\n",
       "      <td>NaN</td>\n",
       "      <td>-0.046256</td>\n",
       "    </tr>\n",
       "    <tr>\n",
       "      <th>Bump</th>\n",
       "      <td>-0.008723</td>\n",
       "      <td>0.011030</td>\n",
       "      <td>-0.008696</td>\n",
       "      <td>-0.000548</td>\n",
       "      <td>0.005648</td>\n",
       "      <td>1.000000</td>\n",
       "      <td>0.030298</td>\n",
       "      <td>-0.000462</td>\n",
       "      <td>-0.003218</td>\n",
       "      <td>-0.000268</td>\n",
       "      <td>-0.001718</td>\n",
       "      <td>-0.000110</td>\n",
       "      <td>0.005686</td>\n",
       "      <td>0.029263</td>\n",
       "      <td>0.816448</td>\n",
       "      <td>-0.000599</td>\n",
       "      <td>NaN</td>\n",
       "      <td>-0.008788</td>\n",
       "    </tr>\n",
       "    <tr>\n",
       "      <th>Crossing</th>\n",
       "      <td>-0.125837</td>\n",
       "      <td>0.101460</td>\n",
       "      <td>-0.045202</td>\n",
       "      <td>0.000781</td>\n",
       "      <td>0.070532</td>\n",
       "      <td>0.030298</td>\n",
       "      <td>1.000000</td>\n",
       "      <td>0.054748</td>\n",
       "      <td>-0.065655</td>\n",
       "      <td>0.002495</td>\n",
       "      <td>0.209192</td>\n",
       "      <td>-0.001421</td>\n",
       "      <td>0.096873</td>\n",
       "      <td>0.116831</td>\n",
       "      <td>0.053479</td>\n",
       "      <td>0.358804</td>\n",
       "      <td>NaN</td>\n",
       "      <td>-0.125291</td>\n",
       "    </tr>\n",
       "    <tr>\n",
       "      <th>Give_Way</th>\n",
       "      <td>-0.022058</td>\n",
       "      <td>0.017452</td>\n",
       "      <td>-0.016868</td>\n",
       "      <td>-0.000704</td>\n",
       "      <td>0.026648</td>\n",
       "      <td>-0.000462</td>\n",
       "      <td>0.054748</td>\n",
       "      <td>1.000000</td>\n",
       "      <td>-0.010248</td>\n",
       "      <td>-0.000517</td>\n",
       "      <td>-0.000249</td>\n",
       "      <td>-0.000211</td>\n",
       "      <td>-0.002699</td>\n",
       "      <td>0.077528</td>\n",
       "      <td>0.017111</td>\n",
       "      <td>0.033882</td>\n",
       "      <td>NaN</td>\n",
       "      <td>-0.021536</td>\n",
       "    </tr>\n",
       "    <tr>\n",
       "      <th>Junction</th>\n",
       "      <td>0.092127</td>\n",
       "      <td>0.096314</td>\n",
       "      <td>-0.084704</td>\n",
       "      <td>-0.004702</td>\n",
       "      <td>-0.030534</td>\n",
       "      <td>-0.003218</td>\n",
       "      <td>-0.065655</td>\n",
       "      <td>-0.010248</td>\n",
       "      <td>1.000000</td>\n",
       "      <td>-0.004068</td>\n",
       "      <td>-0.028869</td>\n",
       "      <td>0.020593</td>\n",
       "      <td>-0.048098</td>\n",
       "      <td>-0.037090</td>\n",
       "      <td>-0.004800</td>\n",
       "      <td>-0.093897</td>\n",
       "      <td>NaN</td>\n",
       "      <td>0.092087</td>\n",
       "    </tr>\n",
       "    <tr>\n",
       "      <th>No_Exit</th>\n",
       "      <td>0.007573</td>\n",
       "      <td>0.006720</td>\n",
       "      <td>-0.007356</td>\n",
       "      <td>-0.000508</td>\n",
       "      <td>-0.001594</td>\n",
       "      <td>-0.000268</td>\n",
       "      <td>0.002495</td>\n",
       "      <td>-0.000517</td>\n",
       "      <td>-0.004068</td>\n",
       "      <td>1.000000</td>\n",
       "      <td>-0.001921</td>\n",
       "      <td>-0.000122</td>\n",
       "      <td>0.004526</td>\n",
       "      <td>0.005522</td>\n",
       "      <td>-0.000329</td>\n",
       "      <td>-0.005601</td>\n",
       "      <td>NaN</td>\n",
       "      <td>0.007589</td>\n",
       "    </tr>\n",
       "    <tr>\n",
       "      <th>Railway</th>\n",
       "      <td>0.014522</td>\n",
       "      <td>-0.005205</td>\n",
       "      <td>-0.008783</td>\n",
       "      <td>0.001368</td>\n",
       "      <td>0.022797</td>\n",
       "      <td>-0.001718</td>\n",
       "      <td>0.209192</td>\n",
       "      <td>-0.000249</td>\n",
       "      <td>-0.028869</td>\n",
       "      <td>-0.001921</td>\n",
       "      <td>1.000000</td>\n",
       "      <td>-0.000784</td>\n",
       "      <td>0.298857</td>\n",
       "      <td>0.006056</td>\n",
       "      <td>0.002707</td>\n",
       "      <td>0.027440</td>\n",
       "      <td>NaN</td>\n",
       "      <td>0.014451</td>\n",
       "    </tr>\n",
       "    <tr>\n",
       "      <th>Roundabout</th>\n",
       "      <td>-0.006338</td>\n",
       "      <td>0.006757</td>\n",
       "      <td>-0.003143</td>\n",
       "      <td>-0.000306</td>\n",
       "      <td>-0.000651</td>\n",
       "      <td>-0.000110</td>\n",
       "      <td>-0.001421</td>\n",
       "      <td>-0.000211</td>\n",
       "      <td>0.020593</td>\n",
       "      <td>-0.000122</td>\n",
       "      <td>-0.000784</td>\n",
       "      <td>1.000000</td>\n",
       "      <td>-0.001144</td>\n",
       "      <td>0.018701</td>\n",
       "      <td>-0.000134</td>\n",
       "      <td>0.002545</td>\n",
       "      <td>NaN</td>\n",
       "      <td>-0.006380</td>\n",
       "    </tr>\n",
       "    <tr>\n",
       "      <th>Station</th>\n",
       "      <td>-0.053591</td>\n",
       "      <td>-0.063254</td>\n",
       "      <td>0.021597</td>\n",
       "      <td>-0.003039</td>\n",
       "      <td>0.173516</td>\n",
       "      <td>0.005686</td>\n",
       "      <td>0.096873</td>\n",
       "      <td>-0.002699</td>\n",
       "      <td>-0.048098</td>\n",
       "      <td>0.004526</td>\n",
       "      <td>0.298857</td>\n",
       "      <td>-0.001144</td>\n",
       "      <td>1.000000</td>\n",
       "      <td>0.041404</td>\n",
       "      <td>0.003620</td>\n",
       "      <td>0.135843</td>\n",
       "      <td>NaN</td>\n",
       "      <td>-0.053185</td>\n",
       "    </tr>\n",
       "    <tr>\n",
       "      <th>Stop</th>\n",
       "      <td>-0.117959</td>\n",
       "      <td>0.075839</td>\n",
       "      <td>-0.047000</td>\n",
       "      <td>0.009924</td>\n",
       "      <td>0.030105</td>\n",
       "      <td>0.029263</td>\n",
       "      <td>0.116831</td>\n",
       "      <td>0.077528</td>\n",
       "      <td>-0.037090</td>\n",
       "      <td>0.005522</td>\n",
       "      <td>0.006056</td>\n",
       "      <td>0.018701</td>\n",
       "      <td>0.041404</td>\n",
       "      <td>1.000000</td>\n",
       "      <td>0.034003</td>\n",
       "      <td>-0.037321</td>\n",
       "      <td>NaN</td>\n",
       "      <td>-0.117074</td>\n",
       "    </tr>\n",
       "    <tr>\n",
       "      <th>Traffic_Calming</th>\n",
       "      <td>-0.011738</td>\n",
       "      <td>0.012349</td>\n",
       "      <td>-0.011078</td>\n",
       "      <td>-0.000561</td>\n",
       "      <td>0.032909</td>\n",
       "      <td>0.816448</td>\n",
       "      <td>0.053479</td>\n",
       "      <td>0.017111</td>\n",
       "      <td>-0.004800</td>\n",
       "      <td>-0.000329</td>\n",
       "      <td>0.002707</td>\n",
       "      <td>-0.000134</td>\n",
       "      <td>0.003620</td>\n",
       "      <td>0.034003</td>\n",
       "      <td>1.000000</td>\n",
       "      <td>0.008270</td>\n",
       "      <td>NaN</td>\n",
       "      <td>-0.011824</td>\n",
       "    </tr>\n",
       "    <tr>\n",
       "      <th>Traffic_Signal</th>\n",
       "      <td>-0.191156</td>\n",
       "      <td>-0.009078</td>\n",
       "      <td>0.034471</td>\n",
       "      <td>-0.007148</td>\n",
       "      <td>0.096755</td>\n",
       "      <td>-0.000599</td>\n",
       "      <td>0.358804</td>\n",
       "      <td>0.033882</td>\n",
       "      <td>-0.093897</td>\n",
       "      <td>-0.005601</td>\n",
       "      <td>0.027440</td>\n",
       "      <td>0.002545</td>\n",
       "      <td>0.135843</td>\n",
       "      <td>-0.037321</td>\n",
       "      <td>0.008270</td>\n",
       "      <td>1.000000</td>\n",
       "      <td>NaN</td>\n",
       "      <td>-0.191738</td>\n",
       "    </tr>\n",
       "    <tr>\n",
       "      <th>Turning_Loop</th>\n",
       "      <td>NaN</td>\n",
       "      <td>NaN</td>\n",
       "      <td>NaN</td>\n",
       "      <td>NaN</td>\n",
       "      <td>NaN</td>\n",
       "      <td>NaN</td>\n",
       "      <td>NaN</td>\n",
       "      <td>NaN</td>\n",
       "      <td>NaN</td>\n",
       "      <td>NaN</td>\n",
       "      <td>NaN</td>\n",
       "      <td>NaN</td>\n",
       "      <td>NaN</td>\n",
       "      <td>NaN</td>\n",
       "      <td>NaN</td>\n",
       "      <td>NaN</td>\n",
       "      <td>NaN</td>\n",
       "      <td>NaN</td>\n",
       "    </tr>\n",
       "    <tr>\n",
       "      <th>VSevere</th>\n",
       "      <td>0.997380</td>\n",
       "      <td>-0.128016</td>\n",
       "      <td>0.040059</td>\n",
       "      <td>-0.000703</td>\n",
       "      <td>-0.046256</td>\n",
       "      <td>-0.008788</td>\n",
       "      <td>-0.125291</td>\n",
       "      <td>-0.021536</td>\n",
       "      <td>0.092087</td>\n",
       "      <td>0.007589</td>\n",
       "      <td>0.014451</td>\n",
       "      <td>-0.006380</td>\n",
       "      <td>-0.053185</td>\n",
       "      <td>-0.117074</td>\n",
       "      <td>-0.011824</td>\n",
       "      <td>-0.191738</td>\n",
       "      <td>NaN</td>\n",
       "      <td>1.000000</td>\n",
       "    </tr>\n",
       "  </tbody>\n",
       "</table>\n",
       "</div>"
      ],
      "text/plain": [
       "                 Severity  Start_Lat  Start_Lng  Distance(mi)   Amenity      Bump  Crossing  Give_Way  Junction   No_Exit   Railway  Roundabout   Station      Stop  Traffic_Calming  Traffic_Signal  Turning_Loop   VSevere\n",
       "Severity         1.000000  -0.127791   0.039999     -0.000652 -0.046557 -0.008723 -0.125837 -0.022058  0.092127  0.007573  0.014522   -0.006338 -0.053591 -0.117959        -0.011738       -0.191156           NaN  0.997380\n",
       "Start_Lat       -0.127791   1.000000  -0.366807      0.018194  0.002923  0.011030  0.101460  0.017452  0.096314  0.006720 -0.005205    0.006757 -0.063254  0.075839         0.012349       -0.009078           NaN -0.128016\n",
       "Start_Lng        0.039999  -0.366807   1.000000      0.000544 -0.003410 -0.008696 -0.045202 -0.016868 -0.084704 -0.007356 -0.008783   -0.003143  0.021597 -0.047000        -0.011078        0.034471           NaN  0.040059\n",
       "Distance(mi)    -0.000652   0.018194   0.000544      1.000000 -0.001412 -0.000548  0.000781 -0.000704 -0.004702 -0.000508  0.001368   -0.000306 -0.003039  0.009924        -0.000561       -0.007148           NaN -0.000703\n",
       "Amenity         -0.046557   0.002923  -0.003410     -0.001412  1.000000  0.005648  0.070532  0.026648 -0.030534 -0.001594  0.022797   -0.000651  0.173516  0.030105         0.032909        0.096755           NaN -0.046256\n",
       "Bump            -0.008723   0.011030  -0.008696     -0.000548  0.005648  1.000000  0.030298 -0.000462 -0.003218 -0.000268 -0.001718   -0.000110  0.005686  0.029263         0.816448       -0.000599           NaN -0.008788\n",
       "Crossing        -0.125837   0.101460  -0.045202      0.000781  0.070532  0.030298  1.000000  0.054748 -0.065655  0.002495  0.209192   -0.001421  0.096873  0.116831         0.053479        0.358804           NaN -0.125291\n",
       "Give_Way        -0.022058   0.017452  -0.016868     -0.000704  0.026648 -0.000462  0.054748  1.000000 -0.010248 -0.000517 -0.000249   -0.000211 -0.002699  0.077528         0.017111        0.033882           NaN -0.021536\n",
       "Junction         0.092127   0.096314  -0.084704     -0.004702 -0.030534 -0.003218 -0.065655 -0.010248  1.000000 -0.004068 -0.028869    0.020593 -0.048098 -0.037090        -0.004800       -0.093897           NaN  0.092087\n",
       "No_Exit          0.007573   0.006720  -0.007356     -0.000508 -0.001594 -0.000268  0.002495 -0.000517 -0.004068  1.000000 -0.001921   -0.000122  0.004526  0.005522        -0.000329       -0.005601           NaN  0.007589\n",
       "Railway          0.014522  -0.005205  -0.008783      0.001368  0.022797 -0.001718  0.209192 -0.000249 -0.028869 -0.001921  1.000000   -0.000784  0.298857  0.006056         0.002707        0.027440           NaN  0.014451\n",
       "Roundabout      -0.006338   0.006757  -0.003143     -0.000306 -0.000651 -0.000110 -0.001421 -0.000211  0.020593 -0.000122 -0.000784    1.000000 -0.001144  0.018701        -0.000134        0.002545           NaN -0.006380\n",
       "Station         -0.053591  -0.063254   0.021597     -0.003039  0.173516  0.005686  0.096873 -0.002699 -0.048098  0.004526  0.298857   -0.001144  1.000000  0.041404         0.003620        0.135843           NaN -0.053185\n",
       "Stop            -0.117959   0.075839  -0.047000      0.009924  0.030105  0.029263  0.116831  0.077528 -0.037090  0.005522  0.006056    0.018701  0.041404  1.000000         0.034003       -0.037321           NaN -0.117074\n",
       "Traffic_Calming -0.011738   0.012349  -0.011078     -0.000561  0.032909  0.816448  0.053479  0.017111 -0.004800 -0.000329  0.002707   -0.000134  0.003620  0.034003         1.000000        0.008270           NaN -0.011824\n",
       "Traffic_Signal  -0.191156  -0.009078   0.034471     -0.007148  0.096755 -0.000599  0.358804  0.033882 -0.093897 -0.005601  0.027440    0.002545  0.135843 -0.037321         0.008270        1.000000           NaN -0.191738\n",
       "Turning_Loop          NaN        NaN        NaN           NaN       NaN       NaN       NaN       NaN       NaN       NaN       NaN         NaN       NaN       NaN              NaN             NaN           NaN       NaN\n",
       "VSevere          0.997380  -0.128016   0.040059     -0.000703 -0.046256 -0.008788 -0.125291 -0.021536  0.092087  0.007589  0.014451   -0.006380 -0.053185 -0.117074        -0.011824       -0.191738           NaN  1.000000"
      ]
     },
     "execution_count": 104,
     "metadata": {},
     "output_type": "execute_result"
    }
   ],
   "source": [
    "daten.corr()"
   ]
  },
  {
   "cell_type": "code",
   "execution_count": 101,
   "metadata": {},
   "outputs": [
    {
     "data": {
      "image/png": "[encoded data removed]",
      "text/plain": [
       "<Figure size 720x360 with 1 Axes>"
      ]
     },
     "metadata": {
      "needs_background": "light"
     },
     "output_type": "display_data"
    }
   ],
   "source": [
    "x_values=[False,True]\n",
    "listeY=[]\n",
    "listeSTD=[]\n",
    "for i in x_values:\n",
    "    temp = daten[daten['Traffic_Signal']==i]\n",
    "    m = temp['Severity'].mean()\n",
    "    listeY.append(m)\n",
    "    \n",
    "for i in x_values:\n",
    "    temp = daten[daten['Traffic_Signal']==i]\n",
    "    m = np.std(temp['Severity'])\n",
    "    listeSTD.append(m)\n",
    "    \n",
    "figure,axes=plt.subplots(figsize=(10,5))\n",
    "bar_mit_std(x_values,listeY,listeSTD,y_label='Severity',x_label='Traffic Light?',tick_label=['No','Yes'])"
   ]
  },
  {
   "cell_type": "code",
   "execution_count": 54,
   "metadata": {},
   "outputs": [],
   "source": [
    "datenLAT = daten.sort_values('Start_Lat')"
   ]
  },
  {
   "cell_type": "code",
   "execution_count": 65,
   "metadata": {},
   "outputs": [
    {
     "name": "stdout",
     "output_type": "stream",
     "text": [
      "[36.127722999999996, 35.87263684646979, 35.33196117295513, 35.73804012121212]\n"
     ]
    },
    {
     "data": {
      "image/png": "[encoded data removed]",
      "text/plain": [
       "<Figure size 720x360 with 1 Axes>"
      ]
     },
     "metadata": {
      "needs_background": "light"
     },
     "output_type": "display_data"
    }
   ],
   "source": [
    "x_values=[1,2,3,4]\n",
    "listeY=[]\n",
    "listeSTD=[]\n",
    "for i in x_values:\n",
    "    temp = daten[daten['Severity']==i]\n",
    "    m = temp['Start_Lat'].mean()\n",
    "    listeY.append(m)\n",
    "    \n",
    "for i in x_values:\n",
    "    temp = daten[daten['Severity']==i]\n",
    "    m = np.std(temp['Start_Lat'])\n",
    "    listeSTD.append(m)\n",
    "    \n",
    "figure,axes=plt.subplots(figsize=(10,5))\n",
    "bar_mit_std(x_values,listeY,listeSTD,y_label='Start_Lat',x_label='Severity')\n",
    "print(listeY)"
   ]
  },
  {
   "cell_type": "code",
   "execution_count": 73,
   "metadata": {},
   "outputs": [
    {
     "name": "stdout",
     "output_type": "stream",
     "text": [
      "[-119.37499480612243, -119.45533055712856, -119.16048207254035, -118.67248466666668]\n"
     ]
    },
    {
     "data": {
      "image/png": "[encoded data removed]",
      "text/plain": [
       "<Figure size 720x360 with 1 Axes>"
      ]
     },
     "metadata": {
      "needs_background": "light"
     },
     "output_type": "display_data"
    }
   ],
   "source": [
    "x_values=[1,2,3,4]\n",
    "listeY=[]\n",
    "listeSTD=[]\n",
    "for i in x_values:\n",
    "    temp = daten[daten['Severity']==i]\n",
    "    m = temp['Start_Lng'].mean()\n",
    "    listeY.append(m)\n",
    "    \n",
    "for i in x_values:\n",
    "    temp = daten[daten['Severity']==i]\n",
    "    m = -np.std(temp['Start_Lng'])\n",
    "    listeSTD.append(m)\n",
    "    \n",
    "figure,axes=plt.subplots(figsize=(10,5))\n",
    "bar_mit_std(x_values,listeY,listeSTD,y_label='Start_Lng',x_label='Severity')\n",
    "print(listeY)"
   ]
  },
  {
   "cell_type": "code",
   "execution_count": 106,
   "metadata": {},
   "outputs": [
    {
     "name": "stdout",
     "output_type": "stream",
     "text": [
      "testvariable: Severity tval= 4359.711095 pval= 0.000000\n",
      "testvariable: Start_Lat tval= 40.817731 pval= 0.000000\n",
      "testvariable: Start_Lng tval= 12.677786 pval= 0.000000\n",
      "testvariable: Distance(mi) tval= 0.222178 pval= 0.824176\n",
      "testvariable: VSevere tval= inf pval= 0.000000\n"
     ]
    }
   ],
   "source": [
    "t_test(daten[daten.VSevere==1],daten[daten.VSevere==0])"
   ]
  },
  {
   "cell_type": "code",
   "execution_count": 68,
   "metadata": {},
   "outputs": [
    {
     "data": {
      "image/png": "[encoded data removed]",
      "text/plain": [
       "<Figure size 720x360 with 1 Axes>"
      ]
     },
     "metadata": {
      "needs_background": "light"
     },
     "output_type": "display_data"
    }
   ],
   "source": [
    "x_values=[False,True]\n",
    "listeY=[]\n",
    "listeSTD=[]\n",
    "for i in x_values:\n",
    "    temp = daten[daten['Crossing']==i]\n",
    "    m = temp['Severity'].mean()\n",
    "    listeY.append(m)\n",
    "    \n",
    "for i in x_values:\n",
    "    temp = daten[daten['Crossing']==i]\n",
    "    m = np.std(temp['Severity'])\n",
    "    listeSTD.append(m)\n",
    "    \n",
    "figure,axes=plt.subplots(figsize=(10,5))\n",
    "bar_mit_std(x_values,listeY,listeSTD,y_label='Severity',x_label='Crossing',tick_label=['No','Yes'])"
   ]
  },
  {
   "cell_type": "code",
   "execution_count": 69,
   "metadata": {},
   "outputs": [
    {
     "data": {
      "image/png": "[encoded data removed]",
      "text/plain": [
       "<Figure size 720x360 with 1 Axes>"
      ]
     },
     "metadata": {
      "needs_background": "light"
     },
     "output_type": "display_data"
    }
   ],
   "source": [
    "x_values=[False,True]\n",
    "listeY=[]\n",
    "listeSTD=[]\n",
    "for i in x_values:\n",
    "    temp = daten[daten['Stop']==i]\n",
    "    m = temp['Severity'].mean()\n",
    "    listeY.append(m)\n",
    "    \n",
    "for i in x_values:\n",
    "    temp = daten[daten['Stop']==i]\n",
    "    m = np.std(temp['Severity'])\n",
    "    listeSTD.append(m)\n",
    "    \n",
    "figure,axes=plt.subplots(figsize=(10,5))\n",
    "bar_mit_std(x_values,listeY,listeSTD,y_label='Severity',x_label='Stop sign?',tick_label=['No','Yes'])"
   ]
  },
  {
   "cell_type": "code",
   "execution_count": 82,
   "metadata": {},
   "outputs": [
    {
     "data": {
      "image/png": "[encoded data removed]",
      "text/plain": [
       "<Figure size 720x360 with 1 Axes>"
      ]
     },
     "metadata": {
      "needs_background": "light"
     },
     "output_type": "display_data"
    }
   ],
   "source": [
    "x_values=[False,True]\n",
    "listeY=[]\n",
    "listeSTD=[]\n",
    "for i in x_values:\n",
    "    temp = daten[daten['Traffic_Calming']==i]\n",
    "    m = temp['Severity'].mean()\n",
    "    listeY.append(m)\n",
    "    \n",
    "for i in x_values:\n",
    "    temp = daten[daten['Traffic_Calming']==i]\n",
    "    m = np.std(temp['Severity'])\n",
    "    listeSTD.append(m)\n",
    "    \n",
    "figure,axes=plt.subplots(figsize=(10,5))\n",
    "bar_mit_std(x_values,listeY,listeSTD,y_label='Severity',x_label='Traffic Calming?',tick_label=['No','Yes'])"
   ]
  },
  {
   "cell_type": "code",
   "execution_count": 51,
   "metadata": {},
   "outputs": [
    {
     "name": "stdout",
     "output_type": "stream",
     "text": [
      "\n",
      "\n",
      "testvar: Severity chi2= 3676.6476013526544 pval= 0.000000 dof= 3\n"
     ]
    },
    {
     "data": {
      "text/html": [
       "<div>\n",
       "<style scoped>\n",
       "    .dataframe tbody tr th:only-of-type {\n",
       "        vertical-align: middle;\n",
       "    }\n",
       "\n",
       "    .dataframe tbody tr th {\n",
       "        vertical-align: top;\n",
       "    }\n",
       "\n",
       "    .dataframe thead th {\n",
       "        text-align: right;\n",
       "    }\n",
       "</style>\n",
       "<table border=\"1\" class=\"dataframe\">\n",
       "  <thead>\n",
       "    <tr style=\"text-align: right;\">\n",
       "      <th>Traffic_Signal</th>\n",
       "      <th>False</th>\n",
       "      <th>True</th>\n",
       "    </tr>\n",
       "    <tr>\n",
       "      <th>Severity</th>\n",
       "      <th></th>\n",
       "      <th></th>\n",
       "    </tr>\n",
       "  </thead>\n",
       "  <tbody>\n",
       "    <tr>\n",
       "      <th>1</th>\n",
       "      <td>84</td>\n",
       "      <td>14</td>\n",
       "    </tr>\n",
       "    <tr>\n",
       "      <th>2</th>\n",
       "      <td>47030</td>\n",
       "      <td>7995</td>\n",
       "    </tr>\n",
       "    <tr>\n",
       "      <th>3</th>\n",
       "      <td>43390</td>\n",
       "      <td>1454</td>\n",
       "    </tr>\n",
       "    <tr>\n",
       "      <th>4</th>\n",
       "      <td>31</td>\n",
       "      <td>2</td>\n",
       "    </tr>\n",
       "  </tbody>\n",
       "</table>\n",
       "</div>"
      ],
      "text/plain": [
       "Traffic_Signal  False  True \n",
       "Severity                    \n",
       "1                  84     14\n",
       "2               47030   7995\n",
       "3               43390   1454\n",
       "4                  31      2"
      ]
     },
     "execution_count": 51,
     "metadata": {},
     "output_type": "execute_result"
    }
   ],
   "source": [
    "chisquare(daten,'Severity','Traffic_Signal')"
   ]
  },
  {
   "cell_type": "code",
   "execution_count": 52,
   "metadata": {},
   "outputs": [
    {
     "name": "stdout",
     "output_type": "stream",
     "text": [
      "\n",
      "\n",
      "testvar: Severity chi2= 54.803853192777254 pval= 0.000000 dof= 3\n"
     ]
    },
    {
     "data": {
      "text/html": [
       "<div>\n",
       "<style scoped>\n",
       "    .dataframe tbody tr th:only-of-type {\n",
       "        vertical-align: middle;\n",
       "    }\n",
       "\n",
       "    .dataframe tbody tr th {\n",
       "        vertical-align: top;\n",
       "    }\n",
       "\n",
       "    .dataframe thead th {\n",
       "        text-align: right;\n",
       "    }\n",
       "</style>\n",
       "<table border=\"1\" class=\"dataframe\">\n",
       "  <thead>\n",
       "    <tr style=\"text-align: right;\">\n",
       "      <th>Give_Way</th>\n",
       "      <th>False</th>\n",
       "      <th>True</th>\n",
       "    </tr>\n",
       "    <tr>\n",
       "      <th>Severity</th>\n",
       "      <th></th>\n",
       "      <th></th>\n",
       "    </tr>\n",
       "  </thead>\n",
       "  <tbody>\n",
       "    <tr>\n",
       "      <th>1</th>\n",
       "      <td>97</td>\n",
       "      <td>1</td>\n",
       "    </tr>\n",
       "    <tr>\n",
       "      <th>2</th>\n",
       "      <td>54945</td>\n",
       "      <td>80</td>\n",
       "    </tr>\n",
       "    <tr>\n",
       "      <th>3</th>\n",
       "      <td>44836</td>\n",
       "      <td>8</td>\n",
       "    </tr>\n",
       "    <tr>\n",
       "      <th>4</th>\n",
       "      <td>33</td>\n",
       "      <td>0</td>\n",
       "    </tr>\n",
       "  </tbody>\n",
       "</table>\n",
       "</div>"
      ],
      "text/plain": [
       "Give_Way  False  True \n",
       "Severity              \n",
       "1            97      1\n",
       "2         54945     80\n",
       "3         44836      8\n",
       "4            33      0"
      ]
     },
     "execution_count": 52,
     "metadata": {},
     "output_type": "execute_result"
    }
   ],
   "source": [
    "chisquare(daten,'Severity','Give_Way')"
   ]
  },
  {
   "cell_type": "code",
   "execution_count": 53,
   "metadata": {},
   "outputs": [
    {
     "name": "stdout",
     "output_type": "stream",
     "text": [
      "\n",
      "\n",
      "testvar: Severity chi2= 0.0 pval= 1.000000 dof= 0\n"
     ]
    },
    {
     "data": {
      "text/html": [
       "<div>\n",
       "<style scoped>\n",
       "    .dataframe tbody tr th:only-of-type {\n",
       "        vertical-align: middle;\n",
       "    }\n",
       "\n",
       "    .dataframe tbody tr th {\n",
       "        vertical-align: top;\n",
       "    }\n",
       "\n",
       "    .dataframe thead th {\n",
       "        text-align: right;\n",
       "    }\n",
       "</style>\n",
       "<table border=\"1\" class=\"dataframe\">\n",
       "  <thead>\n",
       "    <tr style=\"text-align: right;\">\n",
       "      <th>Turning_Loop</th>\n",
       "      <th>False</th>\n",
       "    </tr>\n",
       "    <tr>\n",
       "      <th>Severity</th>\n",
       "      <th></th>\n",
       "    </tr>\n",
       "  </thead>\n",
       "  <tbody>\n",
       "    <tr>\n",
       "      <th>1</th>\n",
       "      <td>98</td>\n",
       "    </tr>\n",
       "    <tr>\n",
       "      <th>2</th>\n",
       "      <td>55025</td>\n",
       "    </tr>\n",
       "    <tr>\n",
       "      <th>3</th>\n",
       "      <td>44844</td>\n",
       "    </tr>\n",
       "    <tr>\n",
       "      <th>4</th>\n",
       "      <td>33</td>\n",
       "    </tr>\n",
       "  </tbody>\n",
       "</table>\n",
       "</div>"
      ],
      "text/plain": [
       "Turning_Loop  False\n",
       "Severity           \n",
       "1                98\n",
       "2             55025\n",
       "3             44844\n",
       "4                33"
      ]
     },
     "execution_count": 53,
     "metadata": {},
     "output_type": "execute_result"
    }
   ],
   "source": [
    "chisquare(daten,'Severity','Turning_Loop')"
   ]
  },
  {
   "cell_type": "code",
   "execution_count": 81,
   "metadata": {},
   "outputs": [
    {
     "name": "stdout",
     "output_type": "stream",
     "text": [
      "\n",
      "\n",
      "testvar: Severity chi2= 7.777764269885447 pval= 0.050835 dof= 3\n"
     ]
    },
    {
     "data": {
      "text/html": [
       "<div>\n",
       "<style scoped>\n",
       "    .dataframe tbody tr th:only-of-type {\n",
       "        vertical-align: middle;\n",
       "    }\n",
       "\n",
       "    .dataframe tbody tr th {\n",
       "        vertical-align: top;\n",
       "    }\n",
       "\n",
       "    .dataframe thead th {\n",
       "        text-align: right;\n",
       "    }\n",
       "</style>\n",
       "<table border=\"1\" class=\"dataframe\">\n",
       "  <thead>\n",
       "    <tr style=\"text-align: right;\">\n",
       "      <th>Bump</th>\n",
       "      <th>False</th>\n",
       "      <th>True</th>\n",
       "    </tr>\n",
       "    <tr>\n",
       "      <th>Severity</th>\n",
       "      <th></th>\n",
       "      <th></th>\n",
       "    </tr>\n",
       "  </thead>\n",
       "  <tbody>\n",
       "    <tr>\n",
       "      <th>1</th>\n",
       "      <td>98</td>\n",
       "      <td>0</td>\n",
       "    </tr>\n",
       "    <tr>\n",
       "      <th>2</th>\n",
       "      <td>55005</td>\n",
       "      <td>20</td>\n",
       "    </tr>\n",
       "    <tr>\n",
       "      <th>3</th>\n",
       "      <td>44840</td>\n",
       "      <td>4</td>\n",
       "    </tr>\n",
       "    <tr>\n",
       "      <th>4</th>\n",
       "      <td>33</td>\n",
       "      <td>0</td>\n",
       "    </tr>\n",
       "  </tbody>\n",
       "</table>\n",
       "</div>"
      ],
      "text/plain": [
       "Bump      False  True \n",
       "Severity              \n",
       "1            98      0\n",
       "2         55005     20\n",
       "3         44840      4\n",
       "4            33      0"
      ]
     },
     "execution_count": 81,
     "metadata": {},
     "output_type": "execute_result"
    }
   ],
   "source": [
    "chisquare(daten,'Severity','Bump')"
   ]
  },
  {
   "cell_type": "code",
   "execution_count": 83,
   "metadata": {},
   "outputs": [
    {
     "name": "stdout",
     "output_type": "stream",
     "text": [
      "\n",
      "\n",
      "testvar: Severity chi2= 1592.5146284968632 pval= 0.000000 dof= 3\n"
     ]
    },
    {
     "data": {
      "text/html": [
       "<div>\n",
       "<style scoped>\n",
       "    .dataframe tbody tr th:only-of-type {\n",
       "        vertical-align: middle;\n",
       "    }\n",
       "\n",
       "    .dataframe tbody tr th {\n",
       "        vertical-align: top;\n",
       "    }\n",
       "\n",
       "    .dataframe thead th {\n",
       "        text-align: right;\n",
       "    }\n",
       "</style>\n",
       "<table border=\"1\" class=\"dataframe\">\n",
       "  <thead>\n",
       "    <tr style=\"text-align: right;\">\n",
       "      <th>Crossing</th>\n",
       "      <th>False</th>\n",
       "      <th>True</th>\n",
       "    </tr>\n",
       "    <tr>\n",
       "      <th>Severity</th>\n",
       "      <th></th>\n",
       "      <th></th>\n",
       "    </tr>\n",
       "  </thead>\n",
       "  <tbody>\n",
       "    <tr>\n",
       "      <th>1</th>\n",
       "      <td>83</td>\n",
       "      <td>15</td>\n",
       "    </tr>\n",
       "    <tr>\n",
       "      <th>2</th>\n",
       "      <td>51695</td>\n",
       "      <td>3330</td>\n",
       "    </tr>\n",
       "    <tr>\n",
       "      <th>3</th>\n",
       "      <td>44306</td>\n",
       "      <td>538</td>\n",
       "    </tr>\n",
       "    <tr>\n",
       "      <th>4</th>\n",
       "      <td>32</td>\n",
       "      <td>1</td>\n",
       "    </tr>\n",
       "  </tbody>\n",
       "</table>\n",
       "</div>"
      ],
      "text/plain": [
       "Crossing  False  True \n",
       "Severity              \n",
       "1            83     15\n",
       "2         51695   3330\n",
       "3         44306    538\n",
       "4            32      1"
      ]
     },
     "execution_count": 83,
     "metadata": {},
     "output_type": "execute_result"
    }
   ],
   "source": [
    "chisquare(daten,'Severity','Crossing')"
   ]
  },
  {
   "cell_type": "code",
   "execution_count": 90,
   "metadata": {},
   "outputs": [
    {
     "name": "stdout",
     "output_type": "stream",
     "text": [
      "\n",
      "\n",
      "testvar: Severity chi2= 7.777764269885447 pval= 0.050835 dof= 3\n"
     ]
    },
    {
     "data": {
      "text/html": [
       "<div>\n",
       "<style scoped>\n",
       "    .dataframe tbody tr th:only-of-type {\n",
       "        vertical-align: middle;\n",
       "    }\n",
       "\n",
       "    .dataframe tbody tr th {\n",
       "        vertical-align: top;\n",
       "    }\n",
       "\n",
       "    .dataframe thead th {\n",
       "        text-align: right;\n",
       "    }\n",
       "</style>\n",
       "<table border=\"1\" class=\"dataframe\">\n",
       "  <thead>\n",
       "    <tr style=\"text-align: right;\">\n",
       "      <th>Bump</th>\n",
       "      <th>False</th>\n",
       "      <th>True</th>\n",
       "    </tr>\n",
       "    <tr>\n",
       "      <th>Severity</th>\n",
       "      <th></th>\n",
       "      <th></th>\n",
       "    </tr>\n",
       "  </thead>\n",
       "  <tbody>\n",
       "    <tr>\n",
       "      <th>1</th>\n",
       "      <td>98</td>\n",
       "      <td>0</td>\n",
       "    </tr>\n",
       "    <tr>\n",
       "      <th>2</th>\n",
       "      <td>55005</td>\n",
       "      <td>20</td>\n",
       "    </tr>\n",
       "    <tr>\n",
       "      <th>3</th>\n",
       "      <td>44840</td>\n",
       "      <td>4</td>\n",
       "    </tr>\n",
       "    <tr>\n",
       "      <th>4</th>\n",
       "      <td>33</td>\n",
       "      <td>0</td>\n",
       "    </tr>\n",
       "  </tbody>\n",
       "</table>\n",
       "</div>"
      ],
      "text/plain": [
       "Bump      False  True \n",
       "Severity              \n",
       "1            98      0\n",
       "2         55005     20\n",
       "3         44840      4\n",
       "4            33      0"
      ]
     },
     "execution_count": 90,
     "metadata": {},
     "output_type": "execute_result"
    }
   ],
   "source": [
    "chisquare(daten,'Severity','Bump')"
   ]
  },
  {
   "cell_type": "code",
   "execution_count": null,
   "metadata": {},
   "outputs": [],
   "source": [
    "chi_test1 = pd.crosstab(daten['G3'], daten[\"freetime\"]) \n",
    "stats.chi2_contingency(chi_test1)"
   ]
  },
  {
   "cell_type": "code",
   "execution_count": null,
   "metadata": {},
   "outputs": [],
   "source": []
  }
 ],
 "metadata": {
  "kernelspec": {
   "display_name": "Python 3",
   "language": "python",
   "name": "python3"
  },
  "language_info": {
   "codemirror_mode": {
    "name": "ipython",
    "version": 3
   },
   "file_extension": ".py",
   "mimetype": "text/x-python",
   "name": "python",
   "nbconvert_exporter": "python",
   "pygments_lexer": "ipython3",
   "version": "3.8.6"
  }
 },
 "nbformat": 4,
 "nbformat_minor": 4
}
